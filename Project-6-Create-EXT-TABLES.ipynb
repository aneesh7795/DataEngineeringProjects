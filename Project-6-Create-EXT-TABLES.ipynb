{
 "cells": [
  {
   "cell_type": "code",
   "execution_count": 27,
   "id": "2a9e1aad",
   "metadata": {},
   "outputs": [],
   "source": [
    "from pyspark.sql import SparkSession\n",
    "spark = SparkSession. \\\n",
    "    builder. \\\n",
    "    appName(\"SparkDemo\"). \\\n",
    "    config('spark.ui.port','0'). \\\n",
    "    config('spark.shuffle.useOldFethProtocol','true'). \\\n",
    "    config('spark.sql.warehouse.dir','/user/itv009959/warehouse'). \\\n",
    "    enableHiveSupport(). \\\n",
    "    master('yarn'). \\\n",
    "    getOrCreate()"
   ]
  },
  {
   "cell_type": "code",
   "execution_count": 2,
   "id": "f714b0f6",
   "metadata": {},
   "outputs": [],
   "source": [
    "customers_df = spark.read \\\n",
    ".format(\"parquet\") \\\n",
    ".load(\"/user/itv009959/lendingclubproject/cleaned/customers_parquet\")"
   ]
  },
  {
   "cell_type": "code",
   "execution_count": 3,
   "id": "b34effc1",
   "metadata": {},
   "outputs": [
    {
     "data": {
      "text/html": [
       "<table border='1'>\n",
       "<tr><th>member_id</th><th>emp_title</th><th>emp_length</th><th>home_ownership</th><th>annual_income</th><th>address_state</th><th>address_zipcode</th><th>address_country</th><th>grade</th><th>sub_grade</th><th>verification_status</th><th>total_high_credit_limit</th><th>application_type</th><th>join_annual_income</th><th>verification_status_joint</th><th>ingest_date</th></tr>\n",
       "<tr><td>1b68d58636a5c70fe...</td><td>null</td><td>6</td><td>RENT</td><td>15300.0</td><td>NV</td><td>895xx</td><td>USA</td><td>A</td><td>A4</td><td>Verified</td><td>19500.0</td><td>Individual</td><td>null</td><td>null</td><td>2024-03-12 17:37:...</td></tr>\n",
       "<tr><td>9798d9f73495153ff...</td><td>quality technichi...</td><td>10</td><td>RENT</td><td>64825.0</td><td>CA</td><td>950xx</td><td>USA</td><td>C</td><td>C3</td><td>Source Verified</td><td>19500.0</td><td>Individual</td><td>null</td><td>null</td><td>2024-03-12 17:37:...</td></tr>\n",
       "<tr><td>fd33dae0c782f28ec...</td><td>Sales</td><td>10</td><td>RENT</td><td>79992.0</td><td>GA</td><td>301xx</td><td>USA</td><td>A</td><td>A5</td><td>Source Verified</td><td>41360.0</td><td>Individual</td><td>null</td><td>null</td><td>2024-03-12 17:37:...</td></tr>\n",
       "<tr><td>26e09ccce7212dc70...</td><td>Senior Pastor</td><td>10</td><td>MORTGAGE</td><td>38000.0</td><td>TX</td><td>787xx</td><td>USA</td><td>A</td><td>A5</td><td>Source Verified</td><td>293047.0</td><td>Joint App</td><td>118000.0</td><td>Source Verified</td><td>2024-03-12 17:37:...</td></tr>\n",
       "<tr><td>01d9d57e4491225a0...</td><td>Director</td><td>8</td><td>MORTGAGE</td><td>106000.0</td><td>AR</td><td>729xx</td><td>USA</td><td>A</td><td>A1</td><td>Verified</td><td>577575.0</td><td>Individual</td><td>null</td><td>null</td><td>2024-03-12 17:37:...</td></tr>\n",
       "<tr><td>b7e1281deb0f79210...</td><td>Customer Service ...</td><td>10</td><td>MORTGAGE</td><td>73000.0</td><td>CA</td><td>923xx</td><td>USA</td><td>C</td><td>C5</td><td>Verified</td><td>420502.0</td><td>Individual</td><td>null</td><td>null</td><td>2024-03-12 17:37:...</td></tr>\n",
       "<tr><td>cbef11d3e4eb52d08...</td><td>App Designer</td><td>5</td><td>RENT</td><td>38000.0</td><td>FL</td><td>331xx</td><td>USA</td><td>E</td><td>E2</td><td>Verified</td><td>182697.0</td><td>Individual</td><td>null</td><td>null</td><td>2024-03-12 17:37:...</td></tr>\n",
       "<tr><td>fdfecd72f7af6eec1...</td><td>PM</td><td>10</td><td>MORTGAGE</td><td>90000.0</td><td>FL</td><td>338xx</td><td>USA</td><td>A</td><td>A4</td><td>Verified</td><td>357403.0</td><td>Individual</td><td>null</td><td>null</td><td>2024-03-12 17:37:...</td></tr>\n",
       "<tr><td>22b4667ee779661a3...</td><td>null</td><td>6</td><td>MORTGAGE</td><td>72000.0</td><td>UT</td><td>844xx</td><td>USA</td><td>A</td><td>A1</td><td>Not Verified</td><td>517689.0</td><td>Joint App</td><td>137000.0</td><td>Not Verified</td><td>2024-03-12 17:37:...</td></tr>\n",
       "<tr><td>bf8b70287b79e2275...</td><td>Owner</td><td>4</td><td>RENT</td><td>100000.0</td><td>CA</td><td>921xx</td><td>USA</td><td>A</td><td>A4</td><td>Source Verified</td><td>13180.0</td><td>Individual</td><td>null</td><td>null</td><td>2024-03-12 17:37:...</td></tr>\n",
       "<tr><td>0297119afb1ee2d3d...</td><td>null</td><td>6</td><td>RENT</td><td>80000.0</td><td>CA</td><td>945xx</td><td>USA</td><td>B</td><td>B4</td><td>Not Verified</td><td>55500.0</td><td>Individual</td><td>null</td><td>null</td><td>2024-03-12 17:37:...</td></tr>\n",
       "<tr><td>3aab581e7ae9ff22c...</td><td>General manager</td><td>3</td><td>MORTGAGE</td><td>51500.0</td><td>FL</td><td>346xx</td><td>USA</td><td>D</td><td>D2</td><td>Not Verified</td><td>334201.0</td><td>Individual</td><td>null</td><td>null</td><td>2024-03-12 17:37:...</td></tr>\n",
       "<tr><td>0d26ff76aa6aadc42...</td><td>Bus Driver</td><td>10</td><td>RENT</td><td>60000.0</td><td>MO</td><td>641xx</td><td>USA</td><td>C</td><td>C3</td><td>Not Verified</td><td>73648.0</td><td>Joint App</td><td>112575.0</td><td>Not Verified</td><td>2024-03-12 17:37:...</td></tr>\n",
       "<tr><td>d3a49c01331bcb4b7...</td><td>Telephone Nurse C...</td><td>1</td><td>MORTGAGE</td><td>70000.0</td><td>FL</td><td>328xx</td><td>USA</td><td>D</td><td>D4</td><td>Verified</td><td>560613.0</td><td>Joint App</td><td>390000.0</td><td>Source Verified</td><td>2024-03-12 17:37:...</td></tr>\n",
       "<tr><td>02db991c42da16b54...</td><td>Registered Nurse</td><td>3</td><td>RENT</td><td>57000.0</td><td>OH</td><td>445xx</td><td>USA</td><td>A</td><td>A3</td><td>Not Verified</td><td>76144.0</td><td>Individual</td><td>null</td><td>null</td><td>2024-03-12 17:37:...</td></tr>\n",
       "<tr><td>6f721748d0027d727...</td><td>OWNER</td><td>10</td><td>RENT</td><td>125000.0</td><td>CT</td><td>064xx</td><td>USA</td><td>C</td><td>C2</td><td>Not Verified</td><td>49154.0</td><td>Individual</td><td>null</td><td>null</td><td>2024-03-12 17:37:...</td></tr>\n",
       "<tr><td>b814ba1634da74d8e...</td><td>Vacation Advisor</td><td>10</td><td>RENT</td><td>45000.0</td><td>FL</td><td>338xx</td><td>USA</td><td>B</td><td>B2</td><td>Not Verified</td><td>181676.0</td><td>Individual</td><td>null</td><td>null</td><td>2024-03-12 17:37:...</td></tr>\n",
       "<tr><td>8e3de2259c7c07fcc...</td><td>Teacher</td><td>3</td><td>RENT</td><td>82000.0</td><td>DE</td><td>199xx</td><td>USA</td><td>C</td><td>C5</td><td>Source Verified</td><td>281762.0</td><td>Individual</td><td>null</td><td>null</td><td>2024-03-12 17:37:...</td></tr>\n",
       "<tr><td>6d5bf46fafe847ebf...</td><td>Trading assistant</td><td>10</td><td>MORTGAGE</td><td>45000.0</td><td>IL</td><td>620xx</td><td>USA</td><td>B</td><td>B5</td><td>Not Verified</td><td>169273.0</td><td>Joint App</td><td>104000.0</td><td>Not Verified</td><td>2024-03-12 17:37:...</td></tr>\n",
       "<tr><td>722306148a8c7c971...</td><td>Emergency Room Te...</td><td>1</td><td>RENT</td><td>28000.0</td><td>TX</td><td>787xx</td><td>USA</td><td>B</td><td>B5</td><td>Source Verified</td><td>26591.0</td><td>Individual</td><td>null</td><td>null</td><td>2024-03-12 17:37:...</td></tr>\n",
       "</table>\n",
       "only showing top 20 rows\n"
      ],
      "text/plain": [
       "+--------------------+--------------------+----------+--------------+-------------+-------------+---------------+---------------+-----+---------+-------------------+-----------------------+----------------+------------------+-------------------------+--------------------+\n",
       "|           member_id|           emp_title|emp_length|home_ownership|annual_income|address_state|address_zipcode|address_country|grade|sub_grade|verification_status|total_high_credit_limit|application_type|join_annual_income|verification_status_joint|         ingest_date|\n",
       "+--------------------+--------------------+----------+--------------+-------------+-------------+---------------+---------------+-----+---------+-------------------+-----------------------+----------------+------------------+-------------------------+--------------------+\n",
       "|1b68d58636a5c70fe...|                null|         6|          RENT|      15300.0|           NV|          895xx|            USA|    A|       A4|           Verified|                19500.0|      Individual|              null|                     null|2024-03-12 17:37:...|\n",
       "|9798d9f73495153ff...|quality technichi...|        10|          RENT|      64825.0|           CA|          950xx|            USA|    C|       C3|    Source Verified|                19500.0|      Individual|              null|                     null|2024-03-12 17:37:...|\n",
       "|fd33dae0c782f28ec...|               Sales|        10|          RENT|      79992.0|           GA|          301xx|            USA|    A|       A5|    Source Verified|                41360.0|      Individual|              null|                     null|2024-03-12 17:37:...|\n",
       "|26e09ccce7212dc70...|       Senior Pastor|        10|      MORTGAGE|      38000.0|           TX|          787xx|            USA|    A|       A5|    Source Verified|               293047.0|       Joint App|          118000.0|          Source Verified|2024-03-12 17:37:...|\n",
       "|01d9d57e4491225a0...|            Director|         8|      MORTGAGE|     106000.0|           AR|          729xx|            USA|    A|       A1|           Verified|               577575.0|      Individual|              null|                     null|2024-03-12 17:37:...|\n",
       "|b7e1281deb0f79210...|Customer Service ...|        10|      MORTGAGE|      73000.0|           CA|          923xx|            USA|    C|       C5|           Verified|               420502.0|      Individual|              null|                     null|2024-03-12 17:37:...|\n",
       "|cbef11d3e4eb52d08...|        App Designer|         5|          RENT|      38000.0|           FL|          331xx|            USA|    E|       E2|           Verified|               182697.0|      Individual|              null|                     null|2024-03-12 17:37:...|\n",
       "|fdfecd72f7af6eec1...|                  PM|        10|      MORTGAGE|      90000.0|           FL|          338xx|            USA|    A|       A4|           Verified|               357403.0|      Individual|              null|                     null|2024-03-12 17:37:...|\n",
       "|22b4667ee779661a3...|                null|         6|      MORTGAGE|      72000.0|           UT|          844xx|            USA|    A|       A1|       Not Verified|               517689.0|       Joint App|          137000.0|             Not Verified|2024-03-12 17:37:...|\n",
       "|bf8b70287b79e2275...|               Owner|         4|          RENT|     100000.0|           CA|          921xx|            USA|    A|       A4|    Source Verified|                13180.0|      Individual|              null|                     null|2024-03-12 17:37:...|\n",
       "|0297119afb1ee2d3d...|                null|         6|          RENT|      80000.0|           CA|          945xx|            USA|    B|       B4|       Not Verified|                55500.0|      Individual|              null|                     null|2024-03-12 17:37:...|\n",
       "|3aab581e7ae9ff22c...|     General manager|         3|      MORTGAGE|      51500.0|           FL|          346xx|            USA|    D|       D2|       Not Verified|               334201.0|      Individual|              null|                     null|2024-03-12 17:37:...|\n",
       "|0d26ff76aa6aadc42...|          Bus Driver|        10|          RENT|      60000.0|           MO|          641xx|            USA|    C|       C3|       Not Verified|                73648.0|       Joint App|          112575.0|             Not Verified|2024-03-12 17:37:...|\n",
       "|d3a49c01331bcb4b7...|Telephone Nurse C...|         1|      MORTGAGE|      70000.0|           FL|          328xx|            USA|    D|       D4|           Verified|               560613.0|       Joint App|          390000.0|          Source Verified|2024-03-12 17:37:...|\n",
       "|02db991c42da16b54...|    Registered Nurse|         3|          RENT|      57000.0|           OH|          445xx|            USA|    A|       A3|       Not Verified|                76144.0|      Individual|              null|                     null|2024-03-12 17:37:...|\n",
       "|6f721748d0027d727...|               OWNER|        10|          RENT|     125000.0|           CT|          064xx|            USA|    C|       C2|       Not Verified|                49154.0|      Individual|              null|                     null|2024-03-12 17:37:...|\n",
       "|b814ba1634da74d8e...|    Vacation Advisor|        10|          RENT|      45000.0|           FL|          338xx|            USA|    B|       B2|       Not Verified|               181676.0|      Individual|              null|                     null|2024-03-12 17:37:...|\n",
       "|8e3de2259c7c07fcc...|             Teacher|         3|          RENT|      82000.0|           DE|          199xx|            USA|    C|       C5|    Source Verified|               281762.0|      Individual|              null|                     null|2024-03-12 17:37:...|\n",
       "|6d5bf46fafe847ebf...|   Trading assistant|        10|      MORTGAGE|      45000.0|           IL|          620xx|            USA|    B|       B5|       Not Verified|               169273.0|       Joint App|          104000.0|             Not Verified|2024-03-12 17:37:...|\n",
       "|722306148a8c7c971...|Emergency Room Te...|         1|          RENT|      28000.0|           TX|          787xx|            USA|    B|       B5|    Source Verified|                26591.0|      Individual|              null|                     null|2024-03-12 17:37:...|\n",
       "+--------------------+--------------------+----------+--------------+-------------+-------------+---------------+---------------+-----+---------+-------------------+-----------------------+----------------+------------------+-------------------------+--------------------+\n",
       "only showing top 20 rows"
      ]
     },
     "execution_count": 3,
     "metadata": {},
     "output_type": "execute_result"
    }
   ],
   "source": [
    "customers_df"
   ]
  },
  {
   "cell_type": "code",
   "execution_count": 4,
   "id": "8f9c1236",
   "metadata": {},
   "outputs": [
    {
     "data": {
      "text/html": [
       "<table border='1'>\n",
       "<tr><th></th></tr>\n",
       "</table>\n"
      ],
      "text/plain": [
       "++\n",
       "||\n",
       "++\n",
       "++"
      ]
     },
     "execution_count": 4,
     "metadata": {},
     "output_type": "execute_result"
    }
   ],
   "source": [
    "spark.sql(\"create database itv009959_lending_club\")"
   ]
  },
  {
   "cell_type": "code",
   "execution_count": 16,
   "id": "17eb271c",
   "metadata": {},
   "outputs": [
    {
     "data": {
      "text/html": [
       "<table border='1'>\n",
       "<tr><th></th></tr>\n",
       "</table>\n"
      ],
      "text/plain": [
       "++\n",
       "||\n",
       "++\n",
       "++"
      ]
     },
     "execution_count": 16,
     "metadata": {},
     "output_type": "execute_result"
    }
   ],
   "source": [
    "spark.sql(\"\"\"\n",
    "create EXTERNAL TABLE itv009959_lending_club.customers(\n",
    "member_id string, emp_title string, emp_length int,\n",
    "home_ownership string, annual_income float, address_state string, address_zipcode string, \n",
    "address_country string, grade string, sub_grade string, verification_status string, \n",
    "total_high_credit_limit float, application_type string, join_annual_income float, verification_status_joint string, ingest_date timestamp \n",
    ") stored as parquet LOCATION '/user/itv009959/lendingclubproject/cleaned/customers_parquet'\n",
    "\n",
    "\"\"\")"
   ]
  },
  {
   "cell_type": "code",
   "execution_count": 17,
   "id": "82a2b905",
   "metadata": {},
   "outputs": [
    {
     "data": {
      "text/html": [
       "<table border='1'>\n",
       "<tr><th>member_id</th><th>emp_title</th><th>emp_length</th><th>home_ownership</th><th>annual_income</th><th>address_state</th><th>address_zipcode</th><th>address_country</th><th>grade</th><th>sub_grade</th><th>verification_status</th><th>total_high_credit_limit</th><th>application_type</th><th>join_annual_income</th><th>verification_status_joint</th><th>ingest_date</th></tr>\n",
       "<tr><td>1b68d58636a5c70fe...</td><td>null</td><td>6</td><td>RENT</td><td>15300.0</td><td>NV</td><td>895xx</td><td>USA</td><td>A</td><td>A4</td><td>Verified</td><td>19500.0</td><td>Individual</td><td>null</td><td>null</td><td>2024-03-12 17:37:...</td></tr>\n",
       "<tr><td>9798d9f73495153ff...</td><td>quality technichi...</td><td>10</td><td>RENT</td><td>64825.0</td><td>CA</td><td>950xx</td><td>USA</td><td>C</td><td>C3</td><td>Source Verified</td><td>19500.0</td><td>Individual</td><td>null</td><td>null</td><td>2024-03-12 17:37:...</td></tr>\n",
       "<tr><td>fd33dae0c782f28ec...</td><td>Sales</td><td>10</td><td>RENT</td><td>79992.0</td><td>GA</td><td>301xx</td><td>USA</td><td>A</td><td>A5</td><td>Source Verified</td><td>41360.0</td><td>Individual</td><td>null</td><td>null</td><td>2024-03-12 17:37:...</td></tr>\n",
       "<tr><td>26e09ccce7212dc70...</td><td>Senior Pastor</td><td>10</td><td>MORTGAGE</td><td>38000.0</td><td>TX</td><td>787xx</td><td>USA</td><td>A</td><td>A5</td><td>Source Verified</td><td>293047.0</td><td>Joint App</td><td>118000.0</td><td>Source Verified</td><td>2024-03-12 17:37:...</td></tr>\n",
       "<tr><td>01d9d57e4491225a0...</td><td>Director</td><td>8</td><td>MORTGAGE</td><td>106000.0</td><td>AR</td><td>729xx</td><td>USA</td><td>A</td><td>A1</td><td>Verified</td><td>577575.0</td><td>Individual</td><td>null</td><td>null</td><td>2024-03-12 17:37:...</td></tr>\n",
       "</table>\n"
      ],
      "text/plain": [
       "+--------------------+--------------------+----------+--------------+-------------+-------------+---------------+---------------+-----+---------+-------------------+-----------------------+----------------+------------------+-------------------------+--------------------+\n",
       "|           member_id|           emp_title|emp_length|home_ownership|annual_income|address_state|address_zipcode|address_country|grade|sub_grade|verification_status|total_high_credit_limit|application_type|join_annual_income|verification_status_joint|         ingest_date|\n",
       "+--------------------+--------------------+----------+--------------+-------------+-------------+---------------+---------------+-----+---------+-------------------+-----------------------+----------------+------------------+-------------------------+--------------------+\n",
       "|902ee080d379e7a59...|HWC - Registered ...|         7|          RENT|      53144.0|           WI|          549xx|            USA|    B|       B2|           Verified|                87390.0|      Individual|              null|                     null|2024-03-12 17:37:...|\n",
       "|2cd5c91891c47b828...|             Butcher|        10|      MORTGAGE|      40256.0|           WV|          263xx|            USA|    D|       D2|           Verified|                38399.0|      Individual|              null|                     null|2024-03-12 17:37:...|\n",
       "|a07a0ebc090d1e07a...|      CSTS Warehouse|        10|      MORTGAGE|      55000.0|           CO|          807xx|            USA|    D|       D4|       Not Verified|               157159.0|      Individual|              null|                     null|2024-03-12 17:37:...|\n",
       "|f4bd4a5d13e33221a...|                null|         6|      MORTGAGE|      41000.0|           CA|          923xx|            USA|    D|       D1|           Verified|                21800.0|      Individual|              null|                     null|2024-03-12 17:37:...|\n",
       "|41426982e574b3cb1...|          Accountant|        10|      MORTGAGE|      62000.0|           TX|          751xx|            USA|    B|       B5|    Source Verified|               179710.0|      Individual|              null|                     null|2024-03-12 17:37:...|\n",
       "+--------------------+--------------------+----------+--------------+-------------+-------------+---------------+---------------+-----+---------+-------------------+-----------------------+----------------+------------------+-------------------------+--------------------+"
      ]
     },
     "execution_count": 17,
     "metadata": {},
     "output_type": "execute_result"
    }
   ],
   "source": [
    "spark.sql(\"select * from  itv009959_lending_club.customers limit 5\")"
   ]
  },
  {
   "cell_type": "raw",
   "id": "30ed7e2c",
   "metadata": {},
   "source": [
    "\n"
   ]
  },
  {
   "cell_type": "code",
   "execution_count": 18,
   "id": "8a865c56",
   "metadata": {},
   "outputs": [
    {
     "data": {
      "text/html": [
       "<table border='1'>\n",
       "<tr><th>col_name</th><th>data_type</th><th>comment</th></tr>\n",
       "<tr><td>member_id</td><td>string</td><td>null</td></tr>\n",
       "<tr><td>emp_title</td><td>string</td><td>null</td></tr>\n",
       "<tr><td>emp_length</td><td>int</td><td>null</td></tr>\n",
       "<tr><td>home_ownership</td><td>string</td><td>null</td></tr>\n",
       "<tr><td>annual_income</td><td>float</td><td>null</td></tr>\n",
       "<tr><td>address_state</td><td>string</td><td>null</td></tr>\n",
       "<tr><td>address_zipcode</td><td>string</td><td>null</td></tr>\n",
       "<tr><td>address_country</td><td>string</td><td>null</td></tr>\n",
       "<tr><td>grade</td><td>string</td><td>null</td></tr>\n",
       "<tr><td>sub_grade</td><td>string</td><td>null</td></tr>\n",
       "<tr><td>verification_status</td><td>string</td><td>null</td></tr>\n",
       "<tr><td>total_high_credit...</td><td>float</td><td>null</td></tr>\n",
       "<tr><td>application_type</td><td>string</td><td>null</td></tr>\n",
       "<tr><td>join_annual_income</td><td>float</td><td>null</td></tr>\n",
       "<tr><td>verification_stat...</td><td>string</td><td>null</td></tr>\n",
       "<tr><td>ingest_date</td><td>timestamp</td><td>null</td></tr>\n",
       "</table>\n"
      ],
      "text/plain": [
       "+--------------------+---------+-------+\n",
       "|            col_name|data_type|comment|\n",
       "+--------------------+---------+-------+\n",
       "|           member_id|   string|   null|\n",
       "|           emp_title|   string|   null|\n",
       "|          emp_length|      int|   null|\n",
       "|      home_ownership|   string|   null|\n",
       "|       annual_income|    float|   null|\n",
       "|       address_state|   string|   null|\n",
       "|     address_zipcode|   string|   null|\n",
       "|     address_country|   string|   null|\n",
       "|               grade|   string|   null|\n",
       "|           sub_grade|   string|   null|\n",
       "| verification_status|   string|   null|\n",
       "|total_high_credit...|    float|   null|\n",
       "|    application_type|   string|   null|\n",
       "|  join_annual_income|    float|   null|\n",
       "|verification_stat...|   string|   null|\n",
       "|         ingest_date|timestamp|   null|\n",
       "+--------------------+---------+-------+"
      ]
     },
     "execution_count": 18,
     "metadata": {},
     "output_type": "execute_result"
    }
   ],
   "source": [
    "spark.sql(\"describe itv009959_lending_club.customers\")"
   ]
  },
  {
   "cell_type": "code",
   "execution_count": 20,
   "id": "2b02e57d",
   "metadata": {},
   "outputs": [
    {
     "data": {
      "text/html": [
       "<table border='1'>\n",
       "<tr><th></th></tr>\n",
       "</table>\n"
      ],
      "text/plain": [
       "++\n",
       "||\n",
       "++\n",
       "++"
      ]
     },
     "execution_count": 20,
     "metadata": {},
     "output_type": "execute_result"
    }
   ],
   "source": [
    "spark.sql(\"\"\"create EXTERNAL TABLE itv009959_lending_club.loans(\n",
    "         loan_id string,member_id string,loan_amount float,funded_amount float,\n",
    "loan_term_years integer,interest_rate float,monthly_installment float,issue_date string,\n",
    "loan_status string,loan_purpose string,loan_title string, ingest_date timestamp\n",
    "         )stored as parquet LOCATION '/user/itv009959/lendingclubproject/cleaned/loans_parquet'\n",
    "\"\"\")"
   ]
  },
  {
   "cell_type": "code",
   "execution_count": 21,
   "id": "33f79912",
   "metadata": {},
   "outputs": [
    {
     "data": {
      "text/html": [
       "<table border='1'>\n",
       "<tr><th>loan_id</th><th>member_id</th><th>loan_amount</th><th>funded_amount</th><th>loan_term_years</th><th>interest_rate</th><th>monthly_installment</th><th>issue_date</th><th>loan_status</th><th>loan_purpose</th><th>loan_title</th><th>ingest_date</th></tr>\n",
       "<tr><td>116814223</td><td>f8ced67cab11f13f0...</td><td>36000.0</td><td>36000.0</td><td>3</td><td>7.97</td><td>1127.62</td><td>Aug-2017</td><td>Current</td><td>debt_consolidation</td><td>Debt consolidation</td><td>2024-03-12 19:48:...</td></tr>\n",
       "<tr><td>116811756</td><td>9c7254b3522b4232a...</td><td>20000.0</td><td>20000.0</td><td>3</td><td>7.97</td><td>626.46</td><td>Aug-2017</td><td>Fully Paid</td><td>credit_card</td><td>Credit card refin...</td><td>2024-03-12 19:48:...</td></tr>\n",
       "<tr><td>116666953</td><td>4f846c2c3a19e1b0a...</td><td>25000.0</td><td>25000.0</td><td>3</td><td>10.42</td><td>811.62</td><td>Aug-2017</td><td>Fully Paid</td><td>debt_consolidation</td><td>Debt consolidation</td><td>2024-03-12 19:48:...</td></tr>\n",
       "<tr><td>114954661</td><td>ef075466df90d222a...</td><td>26400.0</td><td>26400.0</td><td>5</td><td>30.94</td><td>869.44</td><td>Sep-2017</td><td>Fully Paid</td><td>debt_consolidation</td><td>Debt consolidation</td><td>2024-03-12 19:48:...</td></tr>\n",
       "<tr><td>115381703</td><td>9b8c98567f5ff988f...</td><td>12000.0</td><td>12000.0</td><td>5</td><td>12.62</td><td>270.71</td><td>Sep-2017</td><td>Current</td><td>credit_card</td><td>Credit card refin...</td><td>2024-03-12 19:48:...</td></tr>\n",
       "<tr><td>115340301</td><td>07ec31ed9e05d258a...</td><td>17850.0</td><td>17850.0</td><td>3</td><td>9.93</td><td>575.39</td><td>Aug-2017</td><td>Current</td><td>debt_consolidation</td><td>Debt consolidation</td><td>2024-03-12 19:48:...</td></tr>\n",
       "<tr><td>114134411</td><td>ef740c23fcdc09045...</td><td>24325.0</td><td>24325.0</td><td>3</td><td>23.88</td><td>952.81</td><td>Aug-2017</td><td>Current</td><td>debt_consolidation</td><td>Debt consolidation</td><td>2024-03-12 19:48:...</td></tr>\n",
       "<tr><td>115704640</td><td>65bb805ed71b38da0...</td><td>30000.0</td><td>30000.0</td><td>3</td><td>11.99</td><td>996.29</td><td>Aug-2017</td><td>Charged Off</td><td>credit_card</td><td>Credit card refin...</td><td>2024-03-12 19:48:...</td></tr>\n",
       "<tr><td>113972824</td><td>9d500c9209bbce876...</td><td>4800.0</td><td>4800.0</td><td>3</td><td>9.93</td><td>154.73</td><td>Aug-2017</td><td>Charged Off</td><td>debt_consolidation</td><td>Debt consolidation</td><td>2024-03-12 19:48:...</td></tr>\n",
       "<tr><td>113826765</td><td>34375aba9551dbb3f...</td><td>35000.0</td><td>35000.0</td><td>3</td><td>18.06</td><td>1266.39</td><td>Aug-2017</td><td>Current</td><td>debt_consolidation</td><td>Debt consolidation</td><td>2024-03-12 19:48:...</td></tr>\n",
       "</table>\n"
      ],
      "text/plain": [
       "+---------+--------------------+-----------+-------------+---------------+-------------+-------------------+----------+-----------+------------------+--------------------+--------------------+\n",
       "|  loan_id|           member_id|loan_amount|funded_amount|loan_term_years|interest_rate|monthly_installment|issue_date|loan_status|      loan_purpose|          loan_title|         ingest_date|\n",
       "+---------+--------------------+-----------+-------------+---------------+-------------+-------------------+----------+-----------+------------------+--------------------+--------------------+\n",
       "|116814223|f8ced67cab11f13f0...|    36000.0|      36000.0|              3|         7.97|            1127.62|  Aug-2017|    Current|debt_consolidation|  Debt consolidation|2024-03-12 19:48:...|\n",
       "|116811756|9c7254b3522b4232a...|    20000.0|      20000.0|              3|         7.97|             626.46|  Aug-2017| Fully Paid|       credit_card|Credit card refin...|2024-03-12 19:48:...|\n",
       "|116666953|4f846c2c3a19e1b0a...|    25000.0|      25000.0|              3|        10.42|             811.62|  Aug-2017| Fully Paid|debt_consolidation|  Debt consolidation|2024-03-12 19:48:...|\n",
       "|114954661|ef075466df90d222a...|    26400.0|      26400.0|              5|        30.94|             869.44|  Sep-2017| Fully Paid|debt_consolidation|  Debt consolidation|2024-03-12 19:48:...|\n",
       "|115381703|9b8c98567f5ff988f...|    12000.0|      12000.0|              5|        12.62|             270.71|  Sep-2017|    Current|       credit_card|Credit card refin...|2024-03-12 19:48:...|\n",
       "|115340301|07ec31ed9e05d258a...|    17850.0|      17850.0|              3|         9.93|             575.39|  Aug-2017|    Current|debt_consolidation|  Debt consolidation|2024-03-12 19:48:...|\n",
       "|114134411|ef740c23fcdc09045...|    24325.0|      24325.0|              3|        23.88|             952.81|  Aug-2017|    Current|debt_consolidation|  Debt consolidation|2024-03-12 19:48:...|\n",
       "|115704640|65bb805ed71b38da0...|    30000.0|      30000.0|              3|        11.99|             996.29|  Aug-2017|Charged Off|       credit_card|Credit card refin...|2024-03-12 19:48:...|\n",
       "|113972824|9d500c9209bbce876...|     4800.0|       4800.0|              3|         9.93|             154.73|  Aug-2017|Charged Off|debt_consolidation|  Debt consolidation|2024-03-12 19:48:...|\n",
       "|113826765|34375aba9551dbb3f...|    35000.0|      35000.0|              3|        18.06|            1266.39|  Aug-2017|    Current|debt_consolidation|  Debt consolidation|2024-03-12 19:48:...|\n",
       "+---------+--------------------+-----------+-------------+---------------+-------------+-------------------+----------+-----------+------------------+--------------------+--------------------+"
      ]
     },
     "execution_count": 21,
     "metadata": {},
     "output_type": "execute_result"
    }
   ],
   "source": [
    "spark.sql(\"select * from itv009959_lending_club.loans limit 10\")"
   ]
  },
  {
   "cell_type": "code",
   "execution_count": 22,
   "id": "dae95da1",
   "metadata": {},
   "outputs": [
    {
     "data": {
      "text/html": [
       "<table border='1'>\n",
       "<tr><th></th></tr>\n",
       "</table>\n"
      ],
      "text/plain": [
       "++\n",
       "||\n",
       "++\n",
       "++"
      ]
     },
     "execution_count": 22,
     "metadata": {},
     "output_type": "execute_result"
    }
   ],
   "source": [
    "spark.sql(\"\"\"\n",
    "create EXTERNAL TABLE itv009959_lending_club.loans_repayments(\n",
    "loan_id string,total_principal_received float,total_interest_received float,\n",
    "total_late_fee_received float,total_payment_received float,last_payment_amount float,\n",
    "last_payment_date string,next_payment_date string, ingest_date timestamp\n",
    ") stored as parquet LOCATION '/user/itv009959/lendingclubproject/cleaned/loans_repayment_parquet'\n",
    "\"\"\")"
   ]
  },
  {
   "cell_type": "code",
   "execution_count": 23,
   "id": "97bde5f9",
   "metadata": {},
   "outputs": [
    {
     "data": {
      "text/html": [
       "<table border='1'>\n",
       "<tr><th>loan_id</th><th>total_principal_received</th><th>total_interest_received</th><th>total_late_fee_received</th><th>total_payment_received</th><th>last_payment_amount</th><th>last_payment_date</th><th>next_payment_date</th><th>ingest_date</th></tr>\n",
       "<tr><td>6300587</td><td>12000.0</td><td>1864.87</td><td>20.86</td><td>13885.727</td><td>108.83</td><td>Nov-2014</td><td>null</td><td>2024-03-12 21:29:...</td></tr>\n",
       "<tr><td>6311418</td><td>7125.0</td><td>95.92</td><td>0.0</td><td>7220.9243</td><td>7220.52</td><td>Sep-2013</td><td>null</td><td>2024-03-12 21:29:...</td></tr>\n",
       "<tr><td>6321535</td><td>24000.0</td><td>7418.84</td><td>0.0</td><td>31418.84</td><td>13979.48</td><td>Apr-2016</td><td>null</td><td>2024-03-12 21:29:...</td></tr>\n",
       "<tr><td>6300526</td><td>24000.0</td><td>2296.28</td><td>0.0</td><td>26296.275</td><td>730.17</td><td>Aug-2016</td><td>null</td><td>2024-03-12 21:29:...</td></tr>\n",
       "<tr><td>6301469</td><td>18000.0</td><td>9239.79</td><td>0.0</td><td>27239.795</td><td>452.24</td><td>Aug-2018</td><td>null</td><td>2024-03-12 21:29:...</td></tr>\n",
       "</table>\n"
      ],
      "text/plain": [
       "+--------+------------------------+-----------------------+-----------------------+----------------------+-------------------+-----------------+-----------------+--------------------+\n",
       "| loan_id|total_principal_received|total_interest_received|total_late_fee_received|total_payment_received|last_payment_amount|last_payment_date|next_payment_date|         ingest_date|\n",
       "+--------+------------------------+-----------------------+-----------------------+----------------------+-------------------+-----------------+-----------------+--------------------+\n",
       "|16441913|                  6000.0|                 619.19|                    0.0|             6619.1895|             183.74|         May-2017|             null|2024-03-12 21:29:...|\n",
       "|16411879|                 26375.0|                1432.08|                    0.0|             27807.076|           25387.68|         Oct-2014|             null|2024-03-12 21:29:...|\n",
       "|16372597|                 20000.0|                3568.46|                    0.0|             23568.465|             654.66|         May-2017|             null|2024-03-12 21:29:...|\n",
       "|16491729|                  7000.0|                 492.14|                    0.0|               7492.14|            5888.16|         Jan-2015|             null|2024-03-12 21:29:...|\n",
       "|16451874|                  7000.0|                 419.84|                    0.0|               7419.84|            4650.19|         Jul-2015|             null|2024-03-12 21:29:...|\n",
       "+--------+------------------------+-----------------------+-----------------------+----------------------+-------------------+-----------------+-----------------+--------------------+"
      ]
     },
     "execution_count": 23,
     "metadata": {},
     "output_type": "execute_result"
    }
   ],
   "source": [
    "spark.sql(\"select * from itv009959_lending_club.loans_repayments limit 5 \")"
   ]
  },
  {
   "cell_type": "code",
   "execution_count": 53,
   "id": "76c97a4d",
   "metadata": {},
   "outputs": [
    {
     "data": {
      "text/html": [
       "<table border='1'>\n",
       "<tr><th></th></tr>\n",
       "</table>\n"
      ],
      "text/plain": [
       "++\n",
       "||\n",
       "++\n",
       "++"
      ]
     },
     "execution_count": 53,
     "metadata": {},
     "output_type": "execute_result"
    }
   ],
   "source": [
    "spark.sql(\"\"\"\n",
    "create  EXTERNAL TABLE itv009959_lending_club.loans_defaulters_delinq(\n",
    "member_id string, dealing_2yrs int, dealing_amnt float, months_since_last_dealing int\n",
    ") stored as parquet LOCATION '/user/itv009959/lendingclubproject/cleaned/loans_defaulters_dealing_parquet'\n",
    "\n",
    "\"\"\")"
   ]
  },
  {
   "cell_type": "code",
   "execution_count": 55,
   "id": "cb81e3d6",
   "metadata": {},
   "outputs": [
    {
     "data": {
      "text/html": [
       "<table border='1'>\n",
       "<tr><th>member_id</th><th>dealing_2yrs</th><th>dealing_amnt</th><th>months_since_last_dealing</th></tr>\n",
       "<tr><td>202d9f56ecb7c3bc9...</td><td>1</td><td>0.0</td><td>6</td></tr>\n",
       "<tr><td>1b3a50d854fbbf97e...</td><td>1</td><td>0.0</td><td>21</td></tr>\n",
       "<tr><td>9847d8c1e9d0b2084...</td><td>1</td><td>0.0</td><td>6</td></tr>\n",
       "<tr><td>6f196952e71277fd4...</td><td>4</td><td>0.0</td><td>5</td></tr>\n",
       "<tr><td>9c617cbc6e3e3d6a1...</td><td>1</td><td>0.0</td><td>20</td></tr>\n",
       "<tr><td>8ff4d0ed17a1cab92...</td><td>1</td><td>0.0</td><td>15</td></tr>\n",
       "<tr><td>aec13cfd611b2cfea...</td><td>1</td><td>0.0</td><td>19</td></tr>\n",
       "<tr><td>af7a8a661df3318bd...</td><td>2</td><td>0.0</td><td>7</td></tr>\n",
       "<tr><td>176d6002f8f60ea33...</td><td>1</td><td>1850.0</td><td>1</td></tr>\n",
       "<tr><td>2a589bfc0ceedd44d...</td><td>1</td><td>0.0</td><td>1</td></tr>\n",
       "<tr><td>0faad9eafd79cdb0f...</td><td>1</td><td>0.0</td><td>17</td></tr>\n",
       "<tr><td>c667c98df57c9e1fd...</td><td>4</td><td>0.0</td><td>10</td></tr>\n",
       "<tr><td>486b79f40a3a8ed72...</td><td>1</td><td>0.0</td><td>14</td></tr>\n",
       "<tr><td>a1446f02aa29aaafa...</td><td>1</td><td>0.0</td><td>5</td></tr>\n",
       "<tr><td>9768305c49441eb4e...</td><td>1</td><td>0.0</td><td>12</td></tr>\n",
       "<tr><td>bb636703e3c8bfc86...</td><td>1</td><td>0.0</td><td>17</td></tr>\n",
       "<tr><td>39c33b1a817cc1b2f...</td><td>1</td><td>0.0</td><td>16</td></tr>\n",
       "<tr><td>89cb1445a8d029377...</td><td>1</td><td>0.0</td><td>13</td></tr>\n",
       "<tr><td>dad01217ec5d81d7b...</td><td>1</td><td>0.0</td><td>10</td></tr>\n",
       "<tr><td>0b400437eb7a0767a...</td><td>1</td><td>0.0</td><td>22</td></tr>\n",
       "</table>\n",
       "only showing top 20 rows\n"
      ],
      "text/plain": [
       "+--------------------+------------+------------+-------------------------+\n",
       "|           member_id|dealing_2yrs|dealing_amnt|months_since_last_dealing|\n",
       "+--------------------+------------+------------+-------------------------+\n",
       "|202d9f56ecb7c3bc9...|           1|         0.0|                        6|\n",
       "|1b3a50d854fbbf97e...|           1|         0.0|                       21|\n",
       "|9847d8c1e9d0b2084...|           1|         0.0|                        6|\n",
       "|6f196952e71277fd4...|           4|         0.0|                        5|\n",
       "|9c617cbc6e3e3d6a1...|           1|         0.0|                       20|\n",
       "|8ff4d0ed17a1cab92...|           1|         0.0|                       15|\n",
       "|aec13cfd611b2cfea...|           1|         0.0|                       19|\n",
       "|af7a8a661df3318bd...|           2|         0.0|                        7|\n",
       "|176d6002f8f60ea33...|           1|      1850.0|                        1|\n",
       "|2a589bfc0ceedd44d...|           1|         0.0|                        1|\n",
       "|0faad9eafd79cdb0f...|           1|         0.0|                       17|\n",
       "|c667c98df57c9e1fd...|           4|         0.0|                       10|\n",
       "|486b79f40a3a8ed72...|           1|         0.0|                       14|\n",
       "|a1446f02aa29aaafa...|           1|         0.0|                        5|\n",
       "|9768305c49441eb4e...|           1|         0.0|                       12|\n",
       "|bb636703e3c8bfc86...|           1|         0.0|                       17|\n",
       "|39c33b1a817cc1b2f...|           1|         0.0|                       16|\n",
       "|89cb1445a8d029377...|           1|         0.0|                       13|\n",
       "|dad01217ec5d81d7b...|           1|         0.0|                       10|\n",
       "|0b400437eb7a0767a...|           1|         0.0|                       22|\n",
       "+--------------------+------------+------------+-------------------------+\n",
       "only showing top 20 rows"
      ]
     },
     "execution_count": 55,
     "metadata": {},
     "output_type": "execute_result"
    }
   ],
   "source": [
    "spark.sql(\"select * from itv009959_lending_club.loans_defaulters_delinq\")"
   ]
  },
  {
   "cell_type": "code",
   "execution_count": 26,
   "id": "9a4135bf",
   "metadata": {},
   "outputs": [],
   "source": [
    "spark.stop()"
   ]
  },
  {
   "cell_type": "code",
   "execution_count": 56,
   "id": "72e8c272",
   "metadata": {},
   "outputs": [
    {
     "data": {
      "text/html": [
       "<table border='1'>\n",
       "<tr><th>col_name</th><th>data_type</th><th>comment</th></tr>\n",
       "<tr><td>member_id</td><td>string</td><td>null</td></tr>\n",
       "<tr><td>dealing_2yrs</td><td>int</td><td>null</td></tr>\n",
       "<tr><td>dealing_amnt</td><td>float</td><td>null</td></tr>\n",
       "<tr><td>months_since_last...</td><td>int</td><td>null</td></tr>\n",
       "</table>\n"
      ],
      "text/plain": [
       "+--------------------+---------+-------+\n",
       "|            col_name|data_type|comment|\n",
       "+--------------------+---------+-------+\n",
       "|           member_id|   string|   null|\n",
       "|        dealing_2yrs|      int|   null|\n",
       "|        dealing_amnt|    float|   null|\n",
       "|months_since_last...|      int|   null|\n",
       "+--------------------+---------+-------+"
      ]
     },
     "execution_count": 56,
     "metadata": {},
     "output_type": "execute_result"
    }
   ],
   "source": [
    "spark.sql(\"describe itv009959_lending_club.loans_defaulters_delinq  \")"
   ]
  },
  {
   "cell_type": "raw",
   "id": "e7e1b7e6",
   "metadata": {},
   "source": []
  },
  {
   "cell_type": "code",
   "execution_count": 52,
   "id": "86d530f3",
   "metadata": {},
   "outputs": [
    {
     "data": {
      "text/html": [
       "<table border='1'>\n",
       "<tr><th></th></tr>\n",
       "</table>\n"
      ],
      "text/plain": [
       "++\n",
       "||\n",
       "++\n",
       "++"
      ]
     },
     "execution_count": 52,
     "metadata": {},
     "output_type": "execute_result"
    }
   ],
   "source": [
    "spark.sql(\"drop table itv009959_lending_club.loans_defaulters_delinq  \")"
   ]
  },
  {
   "cell_type": "code",
   "execution_count": 44,
   "id": "afe7133d",
   "metadata": {},
   "outputs": [],
   "source": [
    "loans_def_raw_df = spark.read \\\n",
    ".format(\"parquet\") \\\n",
    ".option(\"header\",True) \\\n",
    ".load(\"/user/itv009959/lendingclubproject/cleaned/loans_defaulters_dealing_parquet\")"
   ]
  },
  {
   "cell_type": "code",
   "execution_count": 45,
   "id": "dc9fa25b",
   "metadata": {},
   "outputs": [
    {
     "data": {
      "text/html": [
       "<table border='1'>\n",
       "<tr><th>member_id</th><th>dealing_2yrs</th><th>dealing_amnt</th><th>months_since_last_dealing</th></tr>\n",
       "<tr><td>202d9f56ecb7c3bc9...</td><td>1</td><td>0.0</td><td>6</td></tr>\n",
       "<tr><td>1b3a50d854fbbf97e...</td><td>1</td><td>0.0</td><td>21</td></tr>\n",
       "<tr><td>9847d8c1e9d0b2084...</td><td>1</td><td>0.0</td><td>6</td></tr>\n",
       "<tr><td>6f196952e71277fd4...</td><td>4</td><td>0.0</td><td>5</td></tr>\n",
       "<tr><td>9c617cbc6e3e3d6a1...</td><td>1</td><td>0.0</td><td>20</td></tr>\n",
       "<tr><td>8ff4d0ed17a1cab92...</td><td>1</td><td>0.0</td><td>15</td></tr>\n",
       "<tr><td>aec13cfd611b2cfea...</td><td>1</td><td>0.0</td><td>19</td></tr>\n",
       "<tr><td>af7a8a661df3318bd...</td><td>2</td><td>0.0</td><td>7</td></tr>\n",
       "<tr><td>176d6002f8f60ea33...</td><td>1</td><td>1850.0</td><td>1</td></tr>\n",
       "<tr><td>2a589bfc0ceedd44d...</td><td>1</td><td>0.0</td><td>1</td></tr>\n",
       "<tr><td>0faad9eafd79cdb0f...</td><td>1</td><td>0.0</td><td>17</td></tr>\n",
       "<tr><td>c667c98df57c9e1fd...</td><td>4</td><td>0.0</td><td>10</td></tr>\n",
       "<tr><td>486b79f40a3a8ed72...</td><td>1</td><td>0.0</td><td>14</td></tr>\n",
       "<tr><td>a1446f02aa29aaafa...</td><td>1</td><td>0.0</td><td>5</td></tr>\n",
       "<tr><td>9768305c49441eb4e...</td><td>1</td><td>0.0</td><td>12</td></tr>\n",
       "<tr><td>bb636703e3c8bfc86...</td><td>1</td><td>0.0</td><td>17</td></tr>\n",
       "<tr><td>39c33b1a817cc1b2f...</td><td>1</td><td>0.0</td><td>16</td></tr>\n",
       "<tr><td>89cb1445a8d029377...</td><td>1</td><td>0.0</td><td>13</td></tr>\n",
       "<tr><td>dad01217ec5d81d7b...</td><td>1</td><td>0.0</td><td>10</td></tr>\n",
       "<tr><td>0b400437eb7a0767a...</td><td>1</td><td>0.0</td><td>22</td></tr>\n",
       "</table>\n",
       "only showing top 20 rows\n"
      ],
      "text/plain": [
       "+--------------------+------------+------------+-------------------------+\n",
       "|           member_id|dealing_2yrs|dealing_amnt|months_since_last_dealing|\n",
       "+--------------------+------------+------------+-------------------------+\n",
       "|202d9f56ecb7c3bc9...|           1|         0.0|                        6|\n",
       "|1b3a50d854fbbf97e...|           1|         0.0|                       21|\n",
       "|9847d8c1e9d0b2084...|           1|         0.0|                        6|\n",
       "|6f196952e71277fd4...|           4|         0.0|                        5|\n",
       "|9c617cbc6e3e3d6a1...|           1|         0.0|                       20|\n",
       "|8ff4d0ed17a1cab92...|           1|         0.0|                       15|\n",
       "|aec13cfd611b2cfea...|           1|         0.0|                       19|\n",
       "|af7a8a661df3318bd...|           2|         0.0|                        7|\n",
       "|176d6002f8f60ea33...|           1|      1850.0|                        1|\n",
       "|2a589bfc0ceedd44d...|           1|         0.0|                        1|\n",
       "|0faad9eafd79cdb0f...|           1|         0.0|                       17|\n",
       "|c667c98df57c9e1fd...|           4|         0.0|                       10|\n",
       "|486b79f40a3a8ed72...|           1|         0.0|                       14|\n",
       "|a1446f02aa29aaafa...|           1|         0.0|                        5|\n",
       "|9768305c49441eb4e...|           1|         0.0|                       12|\n",
       "|bb636703e3c8bfc86...|           1|         0.0|                       17|\n",
       "|39c33b1a817cc1b2f...|           1|         0.0|                       16|\n",
       "|89cb1445a8d029377...|           1|         0.0|                       13|\n",
       "|dad01217ec5d81d7b...|           1|         0.0|                       10|\n",
       "|0b400437eb7a0767a...|           1|         0.0|                       22|\n",
       "+--------------------+------------+------------+-------------------------+\n",
       "only showing top 20 rows"
      ]
     },
     "execution_count": 45,
     "metadata": {},
     "output_type": "execute_result"
    }
   ],
   "source": [
    "loans_def_raw_df"
   ]
  },
  {
   "cell_type": "code",
   "execution_count": 46,
   "id": "cc313a91",
   "metadata": {},
   "outputs": [
    {
     "data": {
      "text/plain": [
       "<bound method DataFrame.describe of DataFrame[member_id: string, dealing_2yrs: int, dealing_amnt: float, months_since_last_dealing: int]>"
      ]
     },
     "execution_count": 46,
     "metadata": {},
     "output_type": "execute_result"
    }
   ],
   "source": [
    "loans_def_raw_df.describe"
   ]
  },
  {
   "cell_type": "code",
   "execution_count": 57,
   "id": "b7d51791",
   "metadata": {},
   "outputs": [
    {
     "data": {
      "text/html": [
       "<table border='1'>\n",
       "<tr><th></th></tr>\n",
       "</table>\n"
      ],
      "text/plain": [
       "++\n",
       "||\n",
       "++\n",
       "++"
      ]
     },
     "execution_count": 57,
     "metadata": {},
     "output_type": "execute_result"
    }
   ],
   "source": [
    "spark.sql(\"\"\"\n",
    "create  EXTERNAL TABLE itv009959_lending_club.loans_defaulters_delinq_detail_records(\n",
    "member_id string, pub_rec int, pub_rec_bankruptcies int, inquiry_last_6months int\n",
    ") stored as parquet LOCATION '/user/itv009959/lendingclubproject/cleaned/loans_defaulters_detail_records_parquet'\n",
    "\n",
    "\"\"\")"
   ]
  },
  {
   "cell_type": "code",
   "execution_count": 58,
   "id": "956622b1",
   "metadata": {},
   "outputs": [
    {
     "data": {
      "text/html": [
       "<table border='1'>\n",
       "<tr><th>member_id</th><th>pub_rec</th><th>pub_rec_bankruptcies</th><th>inquiry_last_6months</th></tr>\n",
       "<tr><td>b59d80da191f5b573...</td><td>0</td><td>0</td><td>1</td></tr>\n",
       "<tr><td>202d9f56ecb7c3bc9...</td><td>0</td><td>0</td><td>0</td></tr>\n",
       "<tr><td>e5a140c0922b554b9...</td><td>0</td><td>0</td><td>0</td></tr>\n",
       "<tr><td>e12aefc548f750777...</td><td>0</td><td>0</td><td>0</td></tr>\n",
       "<tr><td>1b3a50d854fbbf97e...</td><td>0</td><td>0</td><td>0</td></tr>\n",
       "<tr><td>1c4329e5f17697127...</td><td>0</td><td>0</td><td>0</td></tr>\n",
       "<tr><td>5026c86ad983175eb...</td><td>1</td><td>0</td><td>2</td></tr>\n",
       "<tr><td>9847d8c1e9d0b2084...</td><td>2</td><td>0</td><td>0</td></tr>\n",
       "<tr><td>8340dbe1adea41fb4...</td><td>0</td><td>0</td><td>0</td></tr>\n",
       "<tr><td>d4de0de3ab7d79ad4...</td><td>0</td><td>0</td><td>0</td></tr>\n",
       "<tr><td>3df3cdeddb74a8712...</td><td>0</td><td>0</td><td>0</td></tr>\n",
       "<tr><td>9dd72636b1b4045b4...</td><td>0</td><td>0</td><td>3</td></tr>\n",
       "<tr><td>1d4e1ef4353b73c00...</td><td>0</td><td>0</td><td>2</td></tr>\n",
       "<tr><td>6f196952e71277fd4...</td><td>0</td><td>0</td><td>0</td></tr>\n",
       "<tr><td>9c617cbc6e3e3d6a1...</td><td>0</td><td>0</td><td>2</td></tr>\n",
       "<tr><td>45eb04dd75400a942...</td><td>0</td><td>0</td><td>2</td></tr>\n",
       "<tr><td>08d233c81f9e50726...</td><td>0</td><td>0</td><td>1</td></tr>\n",
       "<tr><td>8ff4d0ed17a1cab92...</td><td>2</td><td>0</td><td>2</td></tr>\n",
       "<tr><td>aec13cfd611b2cfea...</td><td>0</td><td>0</td><td>1</td></tr>\n",
       "<tr><td>9ba8c96ccba6cd1f0...</td><td>0</td><td>0</td><td>0</td></tr>\n",
       "</table>\n",
       "only showing top 20 rows\n"
      ],
      "text/plain": [
       "+--------------------+-------+--------------------+--------------------+\n",
       "|           member_id|pub_rec|pub_rec_bankruptcies|inquiry_last_6months|\n",
       "+--------------------+-------+--------------------+--------------------+\n",
       "|b59d80da191f5b573...|      0|                   0|                   1|\n",
       "|202d9f56ecb7c3bc9...|      0|                   0|                   0|\n",
       "|e5a140c0922b554b9...|      0|                   0|                   0|\n",
       "|e12aefc548f750777...|      0|                   0|                   0|\n",
       "|1b3a50d854fbbf97e...|      0|                   0|                   0|\n",
       "|1c4329e5f17697127...|      0|                   0|                   0|\n",
       "|5026c86ad983175eb...|      1|                   0|                   2|\n",
       "|9847d8c1e9d0b2084...|      2|                   0|                   0|\n",
       "|8340dbe1adea41fb4...|      0|                   0|                   0|\n",
       "|d4de0de3ab7d79ad4...|      0|                   0|                   0|\n",
       "|3df3cdeddb74a8712...|      0|                   0|                   0|\n",
       "|9dd72636b1b4045b4...|      0|                   0|                   3|\n",
       "|1d4e1ef4353b73c00...|      0|                   0|                   2|\n",
       "|6f196952e71277fd4...|      0|                   0|                   0|\n",
       "|9c617cbc6e3e3d6a1...|      0|                   0|                   2|\n",
       "|45eb04dd75400a942...|      0|                   0|                   2|\n",
       "|08d233c81f9e50726...|      0|                   0|                   1|\n",
       "|8ff4d0ed17a1cab92...|      2|                   0|                   2|\n",
       "|aec13cfd611b2cfea...|      0|                   0|                   1|\n",
       "|9ba8c96ccba6cd1f0...|      0|                   0|                   0|\n",
       "+--------------------+-------+--------------------+--------------------+\n",
       "only showing top 20 rows"
      ]
     },
     "execution_count": 58,
     "metadata": {},
     "output_type": "execute_result"
    }
   ],
   "source": [
    "spark.sql(\"select * from itv009959_lending_club.loans_defaulters_delinq_detail_records\")"
   ]
  },
  {
   "cell_type": "code",
   "execution_count": null,
   "id": "a3d00375",
   "metadata": {},
   "outputs": [],
   "source": []
  },
  {
   "cell_type": "code",
   "execution_count": null,
   "id": "b0ab30f2",
   "metadata": {},
   "outputs": [],
   "source": []
  }
 ],
 "metadata": {
  "kernelspec": {
   "display_name": "Pyspark 3",
   "language": "python",
   "name": "pyspark3"
  },
  "language_info": {
   "codemirror_mode": {
    "name": "ipython",
    "version": 3
   },
   "file_extension": ".py",
   "mimetype": "text/x-python",
   "name": "python",
   "nbconvert_exporter": "python",
   "pygments_lexer": "ipython3",
   "version": "3.6.12"
  }
 },
 "nbformat": 4,
 "nbformat_minor": 5
}
