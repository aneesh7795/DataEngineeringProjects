{
 "cells": [
  {
   "cell_type": "code",
   "execution_count": 1,
   "id": "4b321852",
   "metadata": {},
   "outputs": [],
   "source": [
    "from pyspark.sql import SparkSession\n",
    "import getpass\n",
    "username = getpass.getuser()\n",
    "spark = SparkSession. \\\n",
    "    builder. \\\n",
    "    appName(\"SparkDemo\"). \\\n",
    "    config('spark.ui.port','0'). \\\n",
    "    config('spark.shuffle.useOldFethProtocol','true'). \\\n",
    "    config('spark.sql.warehouse.dir',f'/user/{username}/warehouse'). \\\n",
    "    enableHiveSupport(). \\\n",
    "    master('yarn'). \\\n",
    "    getOrCreate()"
   ]
  },
  {
   "cell_type": "code",
   "execution_count": 2,
   "id": "f5914076",
   "metadata": {},
   "outputs": [],
   "source": [
    "raw_df = spark.read \\\n",
    ".format(\"csv\") \\\n",
    ".option(\"inferSchema\",\"true\") \\\n",
    ".option(\"header\",\"true\") \\\n",
    ".load(\"/public/trendytech/datasets/accepted_2007_to_2018Q4.csv\")"
   ]
  },
  {
   "cell_type": "code",
   "execution_count": 3,
   "id": "d1bb8c59",
   "metadata": {},
   "outputs": [],
   "source": [
    "raw_df.createOrReplaceTempView(\"lending_club_data\")"
   ]
  },
  {
   "cell_type": "code",
   "execution_count": 4,
   "id": "9a1a539a",
   "metadata": {},
   "outputs": [],
   "source": [
    "from pyspark.sql.functions import sha2,concat_ws"
   ]
  },
  {
   "cell_type": "code",
   "execution_count": 5,
   "id": "d8f6e032",
   "metadata": {},
   "outputs": [],
   "source": [
    "new_df= raw_df.withColumn(\"name_sha2\",sha2(concat_ws(\"||\",*[\"emp_title\",\"emp_length\",\"home_ownership\",\"annual_inc\",\"zip_code\",\"addr_state\",\"grade\",\"sub_grade\",\"verification_status\"]),256))"
   ]
  },
  {
   "cell_type": "code",
   "execution_count": 6,
   "id": "34100026",
   "metadata": {},
   "outputs": [],
   "source": [
    "new_df.createOrReplaceTempView(\"newtable\")"
   ]
  },
  {
   "cell_type": "code",
   "execution_count": 7,
   "id": "f0bec296",
   "metadata": {},
   "outputs": [
    {
     "data": {
      "text/html": [
       "<table border='1'>\n",
       "<tr><th>count(1)</th></tr>\n",
       "<tr><td>2260701</td></tr>\n",
       "</table>\n"
      ],
      "text/plain": [
       "+--------+\n",
       "|count(1)|\n",
       "+--------+\n",
       "| 2260701|\n",
       "+--------+"
      ]
     },
     "execution_count": 7,
     "metadata": {},
     "output_type": "execute_result"
    }
   ],
   "source": [
    "spark.sql(\"select count(1) from newtable\")"
   ]
  },
  {
   "cell_type": "code",
   "execution_count": 8,
   "id": "bdab8518",
   "metadata": {},
   "outputs": [
    {
     "data": {
      "text/html": [
       "<table border='1'>\n",
       "<tr><th>count(DISTINCT name_sha2)</th></tr>\n",
       "<tr><td>2257384</td></tr>\n",
       "</table>\n"
      ],
      "text/plain": [
       "+-------------------------+\n",
       "|count(DISTINCT name_sha2)|\n",
       "+-------------------------+\n",
       "|                  2257384|\n",
       "+-------------------------+"
      ]
     },
     "execution_count": 8,
     "metadata": {},
     "output_type": "execute_result"
    }
   ],
   "source": [
    "spark.sql(\"select count(distinct(name_sha2)) from newtable\")"
   ]
  },
  {
   "cell_type": "code",
   "execution_count": 9,
   "id": "e543a1fb",
   "metadata": {},
   "outputs": [],
   "source": [
    "customers_df = spark.read \\\n",
    ".format(\"csv\") \\\n",
    ".option(\"inferSchema\",\"true\") \\\n",
    ".option(\"header\",\"true\") \\\n",
    ".load(\"/user/itv009959/lendingclubproject/raw/customers_data_csv\")"
   ]
  },
  {
   "cell_type": "code",
   "execution_count": 10,
   "id": "924d6937",
   "metadata": {},
   "outputs": [
    {
     "data": {
      "text/html": [
       "<table border='1'>\n",
       "<tr><th>member_id</th><th>emp_title</th><th>emp_length</th><th>home_ownership</th><th>annual_inc</th><th>addr_state</th><th>zip_code</th><th>country</th><th>grade</th><th>sub_grade</th><th>verification_status</th><th>tot_hi_cred_lim</th><th>application_type</th><th>annual_inc_joint</th><th>verification_status_joint</th></tr>\n",
       "<tr><td>707271898dcabc8b2...</td><td>Physician Service...</td><td>3 years</td><td>RENT</td><td>40400.0</td><td>CO</td><td>801xx</td><td>USA</td><td>A</td><td>A2</td><td>Not Verified</td><td>68759.0</td><td>Individual</td><td>null</td><td>null</td></tr>\n",
       "<tr><td>8e1ea10aca3c4ad8f...</td><td>Operations</td><td>10+ years</td><td>MORTGAGE</td><td>53000.0</td><td>AR</td><td>720xx</td><td>USA</td><td>B</td><td>B2</td><td>Source Verified</td><td>63143.0</td><td>Individual</td><td>null</td><td>null</td></tr>\n",
       "<tr><td>1d6546a2cbc1fd240...</td><td>Underwriter</td><td>2 years</td><td>RENT</td><td>65000.0</td><td>ME</td><td>040xx</td><td>USA</td><td>B</td><td>B4</td><td>Not Verified</td><td>66695.0</td><td>Individual</td><td>null</td><td>null</td></tr>\n",
       "<tr><td>d6208beced388988f...</td><td>Crome restorer sp...</td><td>10+ years</td><td>MORTGAGE</td><td>60000.0</td><td>IL</td><td>606xx</td><td>USA</td><td>C</td><td>C1</td><td>Not Verified</td><td>68900.0</td><td>Individual</td><td>null</td><td>null</td></tr>\n",
       "<tr><td>b4af936688c28c165...</td><td>Program Coordinator</td><td>1 year</td><td>RENT</td><td>38000.0</td><td>FL</td><td>322xx</td><td>USA</td><td>A</td><td>A5</td><td>Not Verified</td><td>76877.0</td><td>Individual</td><td>null</td><td>null</td></tr>\n",
       "<tr><td>2c04e047879ada04e...</td><td>Executive Director</td><td>10+ years</td><td>MORTGAGE</td><td>166000.0</td><td>IL</td><td>601xx</td><td>USA</td><td>C</td><td>C2</td><td>Not Verified</td><td>217868.0</td><td>Individual</td><td>null</td><td>null</td></tr>\n",
       "<tr><td>39dfcd293cb7b2c17...</td><td>Emergency Managme...</td><td>4 years</td><td>MORTGAGE</td><td>81000.0</td><td>TX</td><td>761xx</td><td>USA</td><td>C</td><td>C4</td><td>Not Verified</td><td>293276.0</td><td>Individual</td><td>null</td><td>null</td></tr>\n",
       "<tr><td>5e6e1f8ad59c71a0b...</td><td>Clinical Applicat...</td><td>3 years</td><td>MORTGAGE</td><td>82000.0</td><td>CO</td><td>801xx</td><td>USA</td><td>A</td><td>A1</td><td>Not Verified</td><td>393500.0</td><td>Individual</td><td>null</td><td>null</td></tr>\n",
       "<tr><td>afd3b57e55eb95ed8...</td><td>Systems Analyst 3</td><td>4 years</td><td>OWN</td><td>118030.0</td><td>MI</td><td>482xx</td><td>USA</td><td>A</td><td>A3</td><td>Not Verified</td><td>82137.0</td><td>Individual</td><td>null</td><td>null</td></tr>\n",
       "<tr><td>8b5eed45ac53a0238...</td><td>Director of Front...</td><td>4 years</td><td>RENT</td><td>62000.0</td><td>NY</td><td>110xx</td><td>USA</td><td>A</td><td>A5</td><td>Not Verified</td><td>17400.0</td><td>Individual</td><td>null</td><td>null</td></tr>\n",
       "<tr><td>f9b1d34c3edcb893e...</td><td>Program Finance M...</td><td>10+ years</td><td>RENT</td><td>135000.0</td><td>VA</td><td>223xx</td><td>USA</td><td>D</td><td>D4</td><td>Not Verified</td><td>55592.0</td><td>Individual</td><td>null</td><td>null</td></tr>\n",
       "<tr><td>1ad9eaf0cd017b07b...</td><td>French Teacher</td><td>10+ years</td><td>RENT</td><td>65000.0</td><td>ME</td><td>040xx</td><td>USA</td><td>B</td><td>B3</td><td>Not Verified</td><td>31980.0</td><td>Individual</td><td>null</td><td>null</td></tr>\n",
       "<tr><td>319d1b9f0f8262a44...</td><td>Physician Assistant</td><td>10+ years</td><td>MORTGAGE</td><td>168000.0</td><td>VA</td><td>234xx</td><td>USA</td><td>B</td><td>B5</td><td>Not Verified</td><td>524367.0</td><td>Individual</td><td>null</td><td>null</td></tr>\n",
       "<tr><td>f8d7c9355352667eb...</td><td>Police Officer</td><td>10+ years</td><td>OWN</td><td>120000.0</td><td>NY</td><td>117xx</td><td>USA</td><td>B</td><td>B2</td><td>Not Verified</td><td>248815.0</td><td>Individual</td><td>null</td><td>null</td></tr>\n",
       "<tr><td>e599af63f1a06e96d...</td><td>Investigator</td><td>10+ years</td><td>MORTGAGE</td><td>120092.0</td><td>VA</td><td>220xx</td><td>USA</td><td>C</td><td>C4</td><td>Verified</td><td>502718.0</td><td>Individual</td><td>null</td><td>null</td></tr>\n",
       "<tr><td>d7f76105042a35af5...</td><td>Detective</td><td>10+ years</td><td>MORTGAGE</td><td>100000.0</td><td>TX</td><td>752xx</td><td>USA</td><td>D</td><td>D4</td><td>Not Verified</td><td>70678.0</td><td>Individual</td><td>null</td><td>null</td></tr>\n",
       "<tr><td>d7b8a3478590b59c6...</td><td>Truck Driver</td><td>1 year</td><td>OWN</td><td>36400.0</td><td>SC</td><td>291xx</td><td>USA</td><td>C</td><td>C3</td><td>Not Verified</td><td>41204.0</td><td>Individual</td><td>null</td><td>null</td></tr>\n",
       "<tr><td>4885a59f1ae5534c3...</td><td>IT Manager</td><td>10+ years</td><td>OWN</td><td>115000.0</td><td>NY</td><td>103xx</td><td>USA</td><td>B</td><td>B4</td><td>Not Verified</td><td>379479.0</td><td>Individual</td><td>null</td><td>null</td></tr>\n",
       "<tr><td>4558ee1fa31903d33...</td><td>service advisor</td><td>10+ years</td><td>MORTGAGE</td><td>63000.0</td><td>MN</td><td>563xx</td><td>USA</td><td>A</td><td>A3</td><td>Not Verified</td><td>260220.0</td><td>Individual</td><td>null</td><td>null</td></tr>\n",
       "<tr><td>619b3b7101cf2aeb7...</td><td>Secretary2</td><td>10+ years</td><td>MORTGAGE</td><td>60000.0</td><td>CT</td><td>064xx</td><td>USA</td><td>A</td><td>A5</td><td>Not Verified</td><td>144940.0</td><td>Individual</td><td>null</td><td>null</td></tr>\n",
       "</table>\n",
       "only showing top 20 rows\n"
      ],
      "text/plain": [
       "+--------------------+--------------------+----------+--------------+----------+----------+--------+-------+-----+---------+-------------------+---------------+----------------+----------------+-------------------------+\n",
       "|           member_id|           emp_title|emp_length|home_ownership|annual_inc|addr_state|zip_code|country|grade|sub_grade|verification_status|tot_hi_cred_lim|application_type|annual_inc_joint|verification_status_joint|\n",
       "+--------------------+--------------------+----------+--------------+----------+----------+--------+-------+-----+---------+-------------------+---------------+----------------+----------------+-------------------------+\n",
       "|707271898dcabc8b2...|Physician Service...|   3 years|          RENT|   40400.0|        CO|   801xx|    USA|    A|       A2|       Not Verified|        68759.0|      Individual|            null|                     null|\n",
       "|8e1ea10aca3c4ad8f...|          Operations| 10+ years|      MORTGAGE|   53000.0|        AR|   720xx|    USA|    B|       B2|    Source Verified|        63143.0|      Individual|            null|                     null|\n",
       "|1d6546a2cbc1fd240...|         Underwriter|   2 years|          RENT|   65000.0|        ME|   040xx|    USA|    B|       B4|       Not Verified|        66695.0|      Individual|            null|                     null|\n",
       "|d6208beced388988f...|Crome restorer sp...| 10+ years|      MORTGAGE|   60000.0|        IL|   606xx|    USA|    C|       C1|       Not Verified|        68900.0|      Individual|            null|                     null|\n",
       "|b4af936688c28c165...| Program Coordinator|    1 year|          RENT|   38000.0|        FL|   322xx|    USA|    A|       A5|       Not Verified|        76877.0|      Individual|            null|                     null|\n",
       "|2c04e047879ada04e...|  Executive Director| 10+ years|      MORTGAGE|  166000.0|        IL|   601xx|    USA|    C|       C2|       Not Verified|       217868.0|      Individual|            null|                     null|\n",
       "|39dfcd293cb7b2c17...|Emergency Managme...|   4 years|      MORTGAGE|   81000.0|        TX|   761xx|    USA|    C|       C4|       Not Verified|       293276.0|      Individual|            null|                     null|\n",
       "|5e6e1f8ad59c71a0b...|Clinical Applicat...|   3 years|      MORTGAGE|   82000.0|        CO|   801xx|    USA|    A|       A1|       Not Verified|       393500.0|      Individual|            null|                     null|\n",
       "|afd3b57e55eb95ed8...|   Systems Analyst 3|   4 years|           OWN|  118030.0|        MI|   482xx|    USA|    A|       A3|       Not Verified|        82137.0|      Individual|            null|                     null|\n",
       "|8b5eed45ac53a0238...|Director of Front...|   4 years|          RENT|   62000.0|        NY|   110xx|    USA|    A|       A5|       Not Verified|        17400.0|      Individual|            null|                     null|\n",
       "|f9b1d34c3edcb893e...|Program Finance M...| 10+ years|          RENT|  135000.0|        VA|   223xx|    USA|    D|       D4|       Not Verified|        55592.0|      Individual|            null|                     null|\n",
       "|1ad9eaf0cd017b07b...|      French Teacher| 10+ years|          RENT|   65000.0|        ME|   040xx|    USA|    B|       B3|       Not Verified|        31980.0|      Individual|            null|                     null|\n",
       "|319d1b9f0f8262a44...| Physician Assistant| 10+ years|      MORTGAGE|  168000.0|        VA|   234xx|    USA|    B|       B5|       Not Verified|       524367.0|      Individual|            null|                     null|\n",
       "|f8d7c9355352667eb...|      Police Officer| 10+ years|           OWN|  120000.0|        NY|   117xx|    USA|    B|       B2|       Not Verified|       248815.0|      Individual|            null|                     null|\n",
       "|e599af63f1a06e96d...|        Investigator| 10+ years|      MORTGAGE|  120092.0|        VA|   220xx|    USA|    C|       C4|           Verified|       502718.0|      Individual|            null|                     null|\n",
       "|d7f76105042a35af5...|           Detective| 10+ years|      MORTGAGE|  100000.0|        TX|   752xx|    USA|    D|       D4|       Not Verified|        70678.0|      Individual|            null|                     null|\n",
       "|d7b8a3478590b59c6...|        Truck Driver|    1 year|           OWN|   36400.0|        SC|   291xx|    USA|    C|       C3|       Not Verified|        41204.0|      Individual|            null|                     null|\n",
       "|4885a59f1ae5534c3...|          IT Manager| 10+ years|           OWN|  115000.0|        NY|   103xx|    USA|    B|       B4|       Not Verified|       379479.0|      Individual|            null|                     null|\n",
       "|4558ee1fa31903d33...|     service advisor| 10+ years|      MORTGAGE|   63000.0|        MN|   563xx|    USA|    A|       A3|       Not Verified|       260220.0|      Individual|            null|                     null|\n",
       "|619b3b7101cf2aeb7...|          Secretary2| 10+ years|      MORTGAGE|   60000.0|        CT|   064xx|    USA|    A|       A5|       Not Verified|       144940.0|      Individual|            null|                     null|\n",
       "+--------------------+--------------------+----------+--------------+----------+----------+--------+-------+-----+---------+-------------------+---------------+----------------+----------------+-------------------------+\n",
       "only showing top 20 rows"
      ]
     },
     "execution_count": 10,
     "metadata": {},
     "output_type": "execute_result"
    }
   ],
   "source": [
    "customers_df"
   ]
  },
  {
   "cell_type": "code",
   "execution_count": 11,
   "id": "8968e5f5",
   "metadata": {},
   "outputs": [],
   "source": [
    "spark.sql(\"\"\" select id as loan_id,name_sha2 as member_id,loan_amnt,funded_amnt,\n",
    "term,int_rate,installment,issue_d, loan_status,purpose,title\n",
    "from newtable\n",
    "\"\"\").repartition(1).write \\\n",
    ".option(\"header\",True) \\\n",
    ".format(\"csv\") \\\n",
    ".mode(\"overwrite\") \\\n",
    ".option(\"path\",\"/user/itv009959/lendingclubproject/raw/loans_data_csv\") \\\n",
    ".save()"
   ]
  },
  {
   "cell_type": "code",
   "execution_count": 12,
   "id": "01ee3069",
   "metadata": {},
   "outputs": [],
   "source": [
    "loans_df = spark.read \\\n",
    ".format(\"csv\") \\\n",
    ".option(\"inferSchema\",\"true\") \\\n",
    ".option(\"header\",\"true\") \\\n",
    ".load(\"/user/itv009959/lendingclubproject/raw/loans_data_csv\")"
   ]
  },
  {
   "cell_type": "code",
   "execution_count": 13,
   "id": "f6cf1669",
   "metadata": {},
   "outputs": [
    {
     "data": {
      "text/html": [
       "<table border='1'>\n",
       "<tr><th>loan_id</th><th>member_id</th><th>loan_amnt</th><th>funded_amnt</th><th>term</th><th>int_rate</th><th>installment</th><th>issue_d</th><th>loan_status</th><th>purpose</th><th>title</th></tr>\n",
       "<tr><td>56633077</td><td>b59d80da191f5b573...</td><td>3000.0</td><td>3000.0</td><td>36 months</td><td>7.89</td><td>93.86</td><td>Aug-2015</td><td>Fully Paid</td><td>credit_card</td><td>Credit card refin...</td></tr>\n",
       "<tr><td>55927518</td><td>202d9f56ecb7c3bc9...</td><td>15600.0</td><td>15600.0</td><td>36 months</td><td>7.89</td><td>488.06</td><td>Aug-2015</td><td>Fully Paid</td><td>credit_card</td><td>Credit card refin...</td></tr>\n",
       "<tr><td>56473345</td><td>e5a140c0922b554b9...</td><td>20000.0</td><td>20000.0</td><td>36 months</td><td>9.17</td><td>637.58</td><td>Aug-2015</td><td>Fully Paid</td><td>debt_consolidation</td><td>Debt consolidation</td></tr>\n",
       "<tr><td>56463188</td><td>e12aefc548f750777...</td><td>11200.0</td><td>11200.0</td><td>60 months</td><td>21.99</td><td>309.27</td><td>Aug-2015</td><td>Fully Paid</td><td>home_improvement</td><td>Home improvement</td></tr>\n",
       "<tr><td>56473316</td><td>1b3a50d854fbbf97e...</td><td>16000.0</td><td>16000.0</td><td>60 months</td><td>20.99</td><td>432.77</td><td>Aug-2015</td><td>Charged Off</td><td>debt_consolidation</td><td>Debt consolidation</td></tr>\n",
       "<tr><td>56663266</td><td>1c4329e5f17697127...</td><td>20000.0</td><td>20000.0</td><td>60 months</td><td>13.33</td><td>458.45</td><td>Aug-2015</td><td>Charged Off</td><td>debt_consolidation</td><td>Debt consolidation</td></tr>\n",
       "<tr><td>56483027</td><td>5026c86ad983175eb...</td><td>10000.0</td><td>10000.0</td><td>36 months</td><td>12.69</td><td>335.45</td><td>Aug-2015</td><td>Fully Paid</td><td>other</td><td>Other</td></tr>\n",
       "<tr><td>56613385</td><td>9847d8c1e9d0b2084...</td><td>23400.0</td><td>23400.0</td><td>60 months</td><td>19.19</td><td>609.46</td><td>Aug-2015</td><td>Current</td><td>small_business</td><td>Business</td></tr>\n",
       "<tr><td>56643620</td><td>8340dbe1adea41fb4...</td><td>16000.0</td><td>16000.0</td><td>36 months</td><td>5.32</td><td>481.84</td><td>Jul-2015</td><td>Fully Paid</td><td>debt_consolidation</td><td>Debt consolidation</td></tr>\n",
       "<tr><td>56533114</td><td>d4de0de3ab7d79ad4...</td><td>25450.0</td><td>25450.0</td><td>36 months</td><td>27.31</td><td>1043.24</td><td>Aug-2015</td><td>Charged Off</td><td>debt_consolidation</td><td>Debt consolidation</td></tr>\n",
       "<tr><td>56984127</td><td>3df3cdeddb74a8712...</td><td>24000.0</td><td>24000.0</td><td>36 months</td><td>7.89</td><td>750.86</td><td>Aug-2015</td><td>Fully Paid</td><td>debt_consolidation</td><td>Debt consolidation</td></tr>\n",
       "<tr><td>56131038</td><td>9dd72636b1b4045b4...</td><td>12000.0</td><td>12000.0</td><td>60 months</td><td>15.61</td><td>289.34</td><td>Aug-2015</td><td>Current</td><td>credit_card</td><td>Credit card refin...</td></tr>\n",
       "<tr><td>56452581</td><td>1d4e1ef4353b73c00...</td><td>25000.0</td><td>25000.0</td><td>36 months</td><td>13.33</td><td>846.33</td><td>Jul-2015</td><td>Fully Paid</td><td>home_improvement</td><td>Home improvement</td></tr>\n",
       "<tr><td>56685321</td><td>6f196952e71277fd4...</td><td>35000.0</td><td>35000.0</td><td>60 months</td><td>18.55</td><td>899.28</td><td>Aug-2015</td><td>Charged Off</td><td>small_business</td><td>Business</td></tr>\n",
       "<tr><td>56563360</td><td>9c617cbc6e3e3d6a1...</td><td>25000.0</td><td>25000.0</td><td>60 months</td><td>21.99</td><td>690.34</td><td>Aug-2015</td><td>Current</td><td>credit_card</td><td>Credit card refin...</td></tr>\n",
       "<tr><td>56533113</td><td>45eb04dd75400a942...</td><td>20000.0</td><td>20000.0</td><td>36 months</td><td>13.99</td><td>683.46</td><td>Aug-2015</td><td>Fully Paid</td><td>debt_consolidation</td><td>Debt consolidation</td></tr>\n",
       "<tr><td>56904118</td><td>08d233c81f9e50726...</td><td>9525.0</td><td>9525.0</td><td>36 months</td><td>12.29</td><td>317.69</td><td>Aug-2015</td><td>Charged Off</td><td>debt_consolidation</td><td>Debt consolidation</td></tr>\n",
       "<tr><td>56473361</td><td>8ff4d0ed17a1cab92...</td><td>4200.0</td><td>4200.0</td><td>36 months</td><td>15.61</td><td>146.86</td><td>Aug-2015</td><td>Fully Paid</td><td>credit_card</td><td>Credit card refin...</td></tr>\n",
       "<tr><td>56021410</td><td>aec13cfd611b2cfea...</td><td>8625.0</td><td>8625.0</td><td>36 months</td><td>16.55</td><td>305.58</td><td>Aug-2015</td><td>Fully Paid</td><td>debt_consolidation</td><td>Debt consolidation</td></tr>\n",
       "<tr><td>56473332</td><td>9ba8c96ccba6cd1f0...</td><td>19000.0</td><td>19000.0</td><td>60 months</td><td>17.57</td><td>478.05</td><td>Jul-2015</td><td>Current</td><td>credit_card</td><td>Credit card refin...</td></tr>\n",
       "</table>\n",
       "only showing top 20 rows\n"
      ],
      "text/plain": [
       "+--------+--------------------+---------+-----------+---------+--------+-----------+--------+-----------+------------------+--------------------+\n",
       "| loan_id|           member_id|loan_amnt|funded_amnt|     term|int_rate|installment| issue_d|loan_status|           purpose|               title|\n",
       "+--------+--------------------+---------+-----------+---------+--------+-----------+--------+-----------+------------------+--------------------+\n",
       "|56633077|b59d80da191f5b573...|   3000.0|     3000.0|36 months|    7.89|      93.86|Aug-2015| Fully Paid|       credit_card|Credit card refin...|\n",
       "|55927518|202d9f56ecb7c3bc9...|  15600.0|    15600.0|36 months|    7.89|     488.06|Aug-2015| Fully Paid|       credit_card|Credit card refin...|\n",
       "|56473345|e5a140c0922b554b9...|  20000.0|    20000.0|36 months|    9.17|     637.58|Aug-2015| Fully Paid|debt_consolidation|  Debt consolidation|\n",
       "|56463188|e12aefc548f750777...|  11200.0|    11200.0|60 months|   21.99|     309.27|Aug-2015| Fully Paid|  home_improvement|    Home improvement|\n",
       "|56473316|1b3a50d854fbbf97e...|  16000.0|    16000.0|60 months|   20.99|     432.77|Aug-2015|Charged Off|debt_consolidation|  Debt consolidation|\n",
       "|56663266|1c4329e5f17697127...|  20000.0|    20000.0|60 months|   13.33|     458.45|Aug-2015|Charged Off|debt_consolidation|  Debt consolidation|\n",
       "|56483027|5026c86ad983175eb...|  10000.0|    10000.0|36 months|   12.69|     335.45|Aug-2015| Fully Paid|             other|               Other|\n",
       "|56613385|9847d8c1e9d0b2084...|  23400.0|    23400.0|60 months|   19.19|     609.46|Aug-2015|    Current|    small_business|            Business|\n",
       "|56643620|8340dbe1adea41fb4...|  16000.0|    16000.0|36 months|    5.32|     481.84|Jul-2015| Fully Paid|debt_consolidation|  Debt consolidation|\n",
       "|56533114|d4de0de3ab7d79ad4...|  25450.0|    25450.0|36 months|   27.31|    1043.24|Aug-2015|Charged Off|debt_consolidation|  Debt consolidation|\n",
       "|56984127|3df3cdeddb74a8712...|  24000.0|    24000.0|36 months|    7.89|     750.86|Aug-2015| Fully Paid|debt_consolidation|  Debt consolidation|\n",
       "|56131038|9dd72636b1b4045b4...|  12000.0|    12000.0|60 months|   15.61|     289.34|Aug-2015|    Current|       credit_card|Credit card refin...|\n",
       "|56452581|1d4e1ef4353b73c00...|  25000.0|    25000.0|36 months|   13.33|     846.33|Jul-2015| Fully Paid|  home_improvement|    Home improvement|\n",
       "|56685321|6f196952e71277fd4...|  35000.0|    35000.0|60 months|   18.55|     899.28|Aug-2015|Charged Off|    small_business|            Business|\n",
       "|56563360|9c617cbc6e3e3d6a1...|  25000.0|    25000.0|60 months|   21.99|     690.34|Aug-2015|    Current|       credit_card|Credit card refin...|\n",
       "|56533113|45eb04dd75400a942...|  20000.0|    20000.0|36 months|   13.99|     683.46|Aug-2015| Fully Paid|debt_consolidation|  Debt consolidation|\n",
       "|56904118|08d233c81f9e50726...|   9525.0|     9525.0|36 months|   12.29|     317.69|Aug-2015|Charged Off|debt_consolidation|  Debt consolidation|\n",
       "|56473361|8ff4d0ed17a1cab92...|   4200.0|     4200.0|36 months|   15.61|     146.86|Aug-2015| Fully Paid|       credit_card|Credit card refin...|\n",
       "|56021410|aec13cfd611b2cfea...|   8625.0|     8625.0|36 months|   16.55|     305.58|Aug-2015| Fully Paid|debt_consolidation|  Debt consolidation|\n",
       "|56473332|9ba8c96ccba6cd1f0...|  19000.0|    19000.0|60 months|   17.57|     478.05|Jul-2015|    Current|       credit_card|Credit card refin...|\n",
       "+--------+--------------------+---------+-----------+---------+--------+-----------+--------+-----------+------------------+--------------------+\n",
       "only showing top 20 rows"
      ]
     },
     "execution_count": 13,
     "metadata": {},
     "output_type": "execute_result"
    }
   ],
   "source": [
    "loans_df"
   ]
  },
  {
   "cell_type": "code",
   "execution_count": 14,
   "id": "61255fdd",
   "metadata": {},
   "outputs": [],
   "source": [
    "spark.sql(\"\"\" select id as loan_id,total_rec_prncp,total_rec_int,total_rec_late_fee,total_pymnt,last_pymnt_amnt,last_pymnt_d,next_pymnt_d\n",
    "from newtable\n",
    "\"\"\").repartition(1).write \\\n",
    ".option(\"header\",True) \\\n",
    ".format(\"csv\") \\\n",
    ".mode(\"overwrite\") \\\n",
    ".option(\"path\",\"/user/itv009959/lendingclubproject/raw/loans_repayments_csv\") \\\n",
    ".save()"
   ]
  },
  {
   "cell_type": "code",
   "execution_count": 15,
   "id": "137f87d6",
   "metadata": {},
   "outputs": [],
   "source": [
    "loans_repayments_df = spark.read \\\n",
    ".format(\"csv\") \\\n",
    ".option(\"inferSchema\",\"true\") \\\n",
    ".option(\"header\",\"true\") \\\n",
    ".load(\"/user/itv009959/lendingclubproject/raw/loans_repayments_csv\")"
   ]
  },
  {
   "cell_type": "code",
   "execution_count": 16,
   "id": "91df5b8a",
   "metadata": {},
   "outputs": [
    {
     "data": {
      "text/html": [
       "<table border='1'>\n",
       "<tr><th>loan_id</th><th>total_rec_prncp</th><th>total_rec_int</th><th>total_rec_late_fee</th><th>total_pymnt</th><th>last_pymnt_amnt</th><th>last_pymnt_d</th><th>next_pymnt_d</th></tr>\n",
       "<tr><td>6300587</td><td>12000.0</td><td>1864.87</td><td>20.860000009100002</td><td>13885.726104168401</td><td>108.83</td><td>Nov-2014</td><td>null</td></tr>\n",
       "<tr><td>6311418</td><td>7125.0</td><td>95.92</td><td>0.0</td><td>7220.924234675899</td><td>7220.52</td><td>Sep-2013</td><td>null</td></tr>\n",
       "<tr><td>6321535</td><td>24000.0</td><td>7418.84</td><td>0.0</td><td>31418.84</td><td>13979.48</td><td>Apr-2016</td><td>null</td></tr>\n",
       "<tr><td>6300526</td><td>24000.0</td><td>2296.28</td><td>0.0</td><td>26296.2757411036</td><td>730.17</td><td>Aug-2016</td><td>null</td></tr>\n",
       "<tr><td>6301469</td><td>18000.0</td><td>9239.79</td><td>0.0</td><td>27239.794818997</td><td>452.24</td><td>Aug-2018</td><td>null</td></tr>\n",
       "<tr><td>6306881</td><td>20000.0</td><td>2469.32</td><td>0.0</td><td>22469.3219387879</td><td>16744.64</td><td>Oct-2014</td><td>null</td></tr>\n",
       "<tr><td>6301579</td><td>12000.0</td><td>2089.07</td><td>0.0</td><td>14089.07</td><td>4189.07</td><td>Oct-2015</td><td>null</td></tr>\n",
       "<tr><td>6291661</td><td>28000.0</td><td>12441.42</td><td>0.0</td><td>40441.4227009823</td><td>10660.91</td><td>Apr-2017</td><td>null</td></tr>\n",
       "<tr><td>6311612</td><td>3629.9</td><td>847.39</td><td>0.0</td><td>4478.25</td><td>179.13</td><td>Sep-2015</td><td>null</td></tr>\n",
       "<tr><td>6311704</td><td>23600.0</td><td>2077.3</td><td>0.0</td><td>25677.297703591</td><td>21445.23</td><td>Apr-2014</td><td>null</td></tr>\n",
       "<tr><td>6301559</td><td>13375.0</td><td>3926.19</td><td>0.0</td><td>17301.1873419706</td><td>480.18</td><td>Aug-2016</td><td>null</td></tr>\n",
       "<tr><td>6301412</td><td>17500.0</td><td>2062.85</td><td>0.0</td><td>19562.849989482198</td><td>3748.28</td><td>Jan-2016</td><td>null</td></tr>\n",
       "<tr><td>6331614</td><td>14000.0</td><td>2442.47</td><td>0.0</td><td>16442.4700020926</td><td>4430.47</td><td>Nov-2015</td><td>null</td></tr>\n",
       "<tr><td>6331589</td><td>1458.43</td><td>1100.69</td><td>0.0</td><td>4051.94</td><td>426.57</td><td>Mar-2014</td><td>null</td></tr>\n",
       "<tr><td>6321730</td><td>14000.0</td><td>719.51</td><td>0.0</td><td>14719.505688732199</td><td>11239.57</td><td>May-2014</td><td>null</td></tr>\n",
       "<tr><td>6321586</td><td>15000.0</td><td>1929.76</td><td>25.290000000028</td><td>16955.0514482354</td><td>10354.66</td><td>Oct-2014</td><td>null</td></tr>\n",
       "<tr><td>6331533</td><td>10000.0</td><td>2248.02</td><td>0.0</td><td>12248.0212664276</td><td>339.97</td><td>Aug-2016</td><td>null</td></tr>\n",
       "<tr><td>6321666</td><td>6239.23</td><td>1316.72</td><td>0.0</td><td>7819.45</td><td>260.55</td><td>Jan-2016</td><td>null</td></tr>\n",
       "<tr><td>6328050</td><td>10000.0</td><td>2617.64</td><td>0.0</td><td>12617.6399999982</td><td>4937.87</td><td>Jun-2015</td><td>null</td></tr>\n",
       "<tr><td>6305315</td><td>6000.0</td><td>515.17</td><td>0.0</td><td>6515.17</td><td>4733.17</td><td>Jun-2014</td><td>null</td></tr>\n",
       "</table>\n",
       "only showing top 20 rows\n"
      ],
      "text/plain": [
       "+-------+---------------+-------------+------------------+------------------+---------------+------------+------------+\n",
       "|loan_id|total_rec_prncp|total_rec_int|total_rec_late_fee|       total_pymnt|last_pymnt_amnt|last_pymnt_d|next_pymnt_d|\n",
       "+-------+---------------+-------------+------------------+------------------+---------------+------------+------------+\n",
       "|6300587|        12000.0|      1864.87|20.860000009100002|13885.726104168401|         108.83|    Nov-2014|        null|\n",
       "|6311418|         7125.0|        95.92|               0.0| 7220.924234675899|        7220.52|    Sep-2013|        null|\n",
       "|6321535|        24000.0|      7418.84|               0.0|          31418.84|       13979.48|    Apr-2016|        null|\n",
       "|6300526|        24000.0|      2296.28|               0.0|  26296.2757411036|         730.17|    Aug-2016|        null|\n",
       "|6301469|        18000.0|      9239.79|               0.0|   27239.794818997|         452.24|    Aug-2018|        null|\n",
       "|6306881|        20000.0|      2469.32|               0.0|  22469.3219387879|       16744.64|    Oct-2014|        null|\n",
       "|6301579|        12000.0|      2089.07|               0.0|          14089.07|        4189.07|    Oct-2015|        null|\n",
       "|6291661|        28000.0|     12441.42|               0.0|  40441.4227009823|       10660.91|    Apr-2017|        null|\n",
       "|6311612|         3629.9|       847.39|               0.0|           4478.25|         179.13|    Sep-2015|        null|\n",
       "|6311704|        23600.0|       2077.3|               0.0|   25677.297703591|       21445.23|    Apr-2014|        null|\n",
       "|6301559|        13375.0|      3926.19|               0.0|  17301.1873419706|         480.18|    Aug-2016|        null|\n",
       "|6301412|        17500.0|      2062.85|               0.0|19562.849989482198|        3748.28|    Jan-2016|        null|\n",
       "|6331614|        14000.0|      2442.47|               0.0|  16442.4700020926|        4430.47|    Nov-2015|        null|\n",
       "|6331589|        1458.43|      1100.69|               0.0|           4051.94|         426.57|    Mar-2014|        null|\n",
       "|6321730|        14000.0|       719.51|               0.0|14719.505688732199|       11239.57|    May-2014|        null|\n",
       "|6321586|        15000.0|      1929.76|   25.290000000028|  16955.0514482354|       10354.66|    Oct-2014|        null|\n",
       "|6331533|        10000.0|      2248.02|               0.0|  12248.0212664276|         339.97|    Aug-2016|        null|\n",
       "|6321666|        6239.23|      1316.72|               0.0|           7819.45|         260.55|    Jan-2016|        null|\n",
       "|6328050|        10000.0|      2617.64|               0.0|  12617.6399999982|        4937.87|    Jun-2015|        null|\n",
       "|6305315|         6000.0|       515.17|               0.0|           6515.17|        4733.17|    Jun-2014|        null|\n",
       "+-------+---------------+-------------+------------------+------------------+---------------+------------+------------+\n",
       "only showing top 20 rows"
      ]
     },
     "execution_count": 16,
     "metadata": {},
     "output_type": "execute_result"
    }
   ],
   "source": [
    "loans_repayments_df"
   ]
  },
  {
   "cell_type": "code",
   "execution_count": 18,
   "id": "acf77e17",
   "metadata": {},
   "outputs": [],
   "source": [
    "spark.sql(\"\"\" select name_sha2 as member_id,delinq_2yrs,delinq_amnt,pub_rec,pub_rec_bankruptcies,inq_last_6mths,\n",
    "total_rec_late_fee,mths_since_last_delinq,mths_since_last_record\n",
    "from newtable\n",
    "\"\"\").repartition(1).write \\\n",
    ".option(\"header\",True) \\\n",
    ".format(\"csv\") \\\n",
    ".mode(\"overwrite\") \\\n",
    ".option(\"path\",\"/user/itv009959/lendingclubproject/raw/loans_defaulters_csv\") \\\n",
    ".save()"
   ]
  },
  {
   "cell_type": "code",
   "execution_count": 19,
   "id": "4d11c425",
   "metadata": {},
   "outputs": [],
   "source": [
    "loans_defaulters_df = spark.read \\\n",
    ".format(\"csv\") \\\n",
    ".option(\"inferSchema\",\"true\") \\\n",
    ".option(\"header\",\"true\") \\\n",
    ".load(\"/user/itv009959/lendingclubproject/raw/loans_defaulters_csv\")"
   ]
  },
  {
   "cell_type": "code",
   "execution_count": 20,
   "id": "fa3167ad",
   "metadata": {},
   "outputs": [
    {
     "data": {
      "text/html": [
       "<table border='1'>\n",
       "<tr><th>member_id</th><th>delinq_2yrs</th><th>delinq_amnt</th><th>pub_rec</th><th>pub_rec_bankruptcies</th><th>inq_last_6mths</th><th>total_rec_late_fee</th><th>mths_since_last_delinq</th><th>mths_since_last_record</th></tr>\n",
       "<tr><td>b59d80da191f5b573...</td><td>0.0</td><td>0.0</td><td>0.0</td><td>0.0</td><td>1.0</td><td>0.0</td><td>31.0</td><td>null</td></tr>\n",
       "<tr><td>202d9f56ecb7c3bc9...</td><td>1.0</td><td>0.0</td><td>0.0</td><td>0.0</td><td>0.0</td><td>0.0</td><td>6.0</td><td>null</td></tr>\n",
       "<tr><td>e5a140c0922b554b9...</td><td>0.0</td><td>0.0</td><td>0.0</td><td>0.0</td><td>0.0</td><td>0.0</td><td>47.0</td><td>null</td></tr>\n",
       "<tr><td>e12aefc548f750777...</td><td>0.0</td><td>0.0</td><td>0.0</td><td>0.0</td><td>0.0</td><td>0.0</td><td>33.0</td><td>null</td></tr>\n",
       "<tr><td>1b3a50d854fbbf97e...</td><td>1.0</td><td>0.0</td><td>0.0</td><td>0.0</td><td>0.0</td><td>0.0</td><td>21.0</td><td>null</td></tr>\n",
       "<tr><td>1c4329e5f17697127...</td><td>0.0</td><td>0.0</td><td>0.0</td><td>0.0</td><td>0.0</td><td>0.0</td><td>null</td><td>null</td></tr>\n",
       "<tr><td>5026c86ad983175eb...</td><td>0.0</td><td>0.0</td><td>1.0</td><td>0.0</td><td>2.0</td><td>0.0</td><td>null</td><td>71.0</td></tr>\n",
       "<tr><td>9847d8c1e9d0b2084...</td><td>1.0</td><td>0.0</td><td>2.0</td><td>0.0</td><td>0.0</td><td>0.0</td><td>6.0</td><td>63.0</td></tr>\n",
       "<tr><td>8340dbe1adea41fb4...</td><td>0.0</td><td>0.0</td><td>0.0</td><td>0.0</td><td>0.0</td><td>0.0</td><td>36.0</td><td>null</td></tr>\n",
       "<tr><td>d4de0de3ab7d79ad4...</td><td>0.0</td><td>0.0</td><td>0.0</td><td>0.0</td><td>0.0</td><td>0.0</td><td>35.0</td><td>null</td></tr>\n",
       "<tr><td>3df3cdeddb74a8712...</td><td>0.0</td><td>0.0</td><td>0.0</td><td>0.0</td><td>0.0</td><td>0.0</td><td>null</td><td>null</td></tr>\n",
       "<tr><td>9dd72636b1b4045b4...</td><td>0.0</td><td>0.0</td><td>0.0</td><td>0.0</td><td>3.0</td><td>0.0</td><td>null</td><td>null</td></tr>\n",
       "<tr><td>1d4e1ef4353b73c00...</td><td>0.0</td><td>0.0</td><td>0.0</td><td>0.0</td><td>2.0</td><td>0.0</td><td>30.0</td><td>null</td></tr>\n",
       "<tr><td>6f196952e71277fd4...</td><td>4.0</td><td>0.0</td><td>0.0</td><td>0.0</td><td>0.0</td><td>0.0</td><td>5.0</td><td>null</td></tr>\n",
       "<tr><td>9c617cbc6e3e3d6a1...</td><td>1.0</td><td>0.0</td><td>0.0</td><td>0.0</td><td>2.0</td><td>0.0</td><td>20.0</td><td>null</td></tr>\n",
       "<tr><td>45eb04dd75400a942...</td><td>0.0</td><td>0.0</td><td>0.0</td><td>0.0</td><td>2.0</td><td>0.0</td><td>28.0</td><td>null</td></tr>\n",
       "<tr><td>08d233c81f9e50726...</td><td>0.0</td><td>0.0</td><td>0.0</td><td>0.0</td><td>1.0</td><td>0.0</td><td>null</td><td>null</td></tr>\n",
       "<tr><td>8ff4d0ed17a1cab92...</td><td>1.0</td><td>0.0</td><td>2.0</td><td>0.0</td><td>2.0</td><td>0.0</td><td>15.0</td><td>32.0</td></tr>\n",
       "<tr><td>aec13cfd611b2cfea...</td><td>1.0</td><td>0.0</td><td>0.0</td><td>0.0</td><td>1.0</td><td>0.0</td><td>19.0</td><td>null</td></tr>\n",
       "<tr><td>9ba8c96ccba6cd1f0...</td><td>0.0</td><td>0.0</td><td>0.0</td><td>0.0</td><td>0.0</td><td>0.0</td><td>37.0</td><td>null</td></tr>\n",
       "</table>\n",
       "only showing top 20 rows\n"
      ],
      "text/plain": [
       "+--------------------+-----------+-----------+-------+--------------------+--------------+------------------+----------------------+----------------------+\n",
       "|           member_id|delinq_2yrs|delinq_amnt|pub_rec|pub_rec_bankruptcies|inq_last_6mths|total_rec_late_fee|mths_since_last_delinq|mths_since_last_record|\n",
       "+--------------------+-----------+-----------+-------+--------------------+--------------+------------------+----------------------+----------------------+\n",
       "|b59d80da191f5b573...|        0.0|        0.0|    0.0|                 0.0|           1.0|               0.0|                  31.0|                  null|\n",
       "|202d9f56ecb7c3bc9...|        1.0|        0.0|    0.0|                 0.0|           0.0|               0.0|                   6.0|                  null|\n",
       "|e5a140c0922b554b9...|        0.0|        0.0|    0.0|                 0.0|           0.0|               0.0|                  47.0|                  null|\n",
       "|e12aefc548f750777...|        0.0|        0.0|    0.0|                 0.0|           0.0|               0.0|                  33.0|                  null|\n",
       "|1b3a50d854fbbf97e...|        1.0|        0.0|    0.0|                 0.0|           0.0|               0.0|                  21.0|                  null|\n",
       "|1c4329e5f17697127...|        0.0|        0.0|    0.0|                 0.0|           0.0|               0.0|                  null|                  null|\n",
       "|5026c86ad983175eb...|        0.0|        0.0|    1.0|                 0.0|           2.0|               0.0|                  null|                  71.0|\n",
       "|9847d8c1e9d0b2084...|        1.0|        0.0|    2.0|                 0.0|           0.0|               0.0|                   6.0|                  63.0|\n",
       "|8340dbe1adea41fb4...|        0.0|        0.0|    0.0|                 0.0|           0.0|               0.0|                  36.0|                  null|\n",
       "|d4de0de3ab7d79ad4...|        0.0|        0.0|    0.0|                 0.0|           0.0|               0.0|                  35.0|                  null|\n",
       "|3df3cdeddb74a8712...|        0.0|        0.0|    0.0|                 0.0|           0.0|               0.0|                  null|                  null|\n",
       "|9dd72636b1b4045b4...|        0.0|        0.0|    0.0|                 0.0|           3.0|               0.0|                  null|                  null|\n",
       "|1d4e1ef4353b73c00...|        0.0|        0.0|    0.0|                 0.0|           2.0|               0.0|                  30.0|                  null|\n",
       "|6f196952e71277fd4...|        4.0|        0.0|    0.0|                 0.0|           0.0|               0.0|                   5.0|                  null|\n",
       "|9c617cbc6e3e3d6a1...|        1.0|        0.0|    0.0|                 0.0|           2.0|               0.0|                  20.0|                  null|\n",
       "|45eb04dd75400a942...|        0.0|        0.0|    0.0|                 0.0|           2.0|               0.0|                  28.0|                  null|\n",
       "|08d233c81f9e50726...|        0.0|        0.0|    0.0|                 0.0|           1.0|               0.0|                  null|                  null|\n",
       "|8ff4d0ed17a1cab92...|        1.0|        0.0|    2.0|                 0.0|           2.0|               0.0|                  15.0|                  32.0|\n",
       "|aec13cfd611b2cfea...|        1.0|        0.0|    0.0|                 0.0|           1.0|               0.0|                  19.0|                  null|\n",
       "|9ba8c96ccba6cd1f0...|        0.0|        0.0|    0.0|                 0.0|           0.0|               0.0|                  37.0|                  null|\n",
       "+--------------------+-----------+-----------+-------+--------------------+--------------+------------------+----------------------+----------------------+\n",
       "only showing top 20 rows"
      ]
     },
     "execution_count": 20,
     "metadata": {},
     "output_type": "execute_result"
    }
   ],
   "source": [
    "loans_defaulters_df"
   ]
  },
  {
   "cell_type": "code",
   "execution_count": null,
   "id": "bf1281be",
   "metadata": {},
   "outputs": [],
   "source": []
  }
 ],
 "metadata": {
  "kernelspec": {
   "display_name": "Pyspark 3",
   "language": "python",
   "name": "pyspark3"
  },
  "language_info": {
   "codemirror_mode": {
    "name": "ipython",
    "version": 3
   },
   "file_extension": ".py",
   "mimetype": "text/x-python",
   "name": "python",
   "nbconvert_exporter": "python",
   "pygments_lexer": "ipython3",
   "version": "3.6.12"
  }
 },
 "nbformat": 4,
 "nbformat_minor": 5
}
