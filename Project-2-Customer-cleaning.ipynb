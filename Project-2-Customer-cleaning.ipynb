{
 "cells": [
  {
   "cell_type": "code",
   "execution_count": 107,
   "id": "d7398e3c",
   "metadata": {},
   "outputs": [],
   "source": [
    "from pyspark.sql import SparkSession\n",
    "import getpass\n",
    "username = getpass.getuser()\n",
    "spark = SparkSession. \\\n",
    "    builder. \\\n",
    "    appName(\"SparkDemo\"). \\\n",
    "    config('spark.ui.port','0'). \\\n",
    "    config('spark.shuffle.useOldFethProtocol','true'). \\\n",
    "    config('spark.sql.warehouse.dir',f'/user/{username}/warehouse'). \\\n",
    "    enableHiveSupport(). \\\n",
    "    master('yarn'). \\\n",
    "    getOrCreate()"
   ]
  },
  {
   "cell_type": "code",
   "execution_count": 108,
   "id": "77455a9f",
   "metadata": {},
   "outputs": [],
   "source": [
    "customers_schema = \"\"\" member_id string, emp_title string, emp_length string,\n",
    "home_ownership string, annual_inc float, addr_state string, zip_code string, \n",
    "country string, grade string, sub_grade string, verification_status string, \n",
    "tot_hi_cred_lim float, application_type string, annual_inc_joint float, verification_status_joint string \"\"\""
   ]
  },
  {
   "cell_type": "code",
   "execution_count": 110,
   "id": "fb0d65f3",
   "metadata": {},
   "outputs": [],
   "source": [
    "customers_raw_df = spark.read \\\n",
    ".format(\"csv\") \\\n",
    ".option(\"header\",\"true\") \\\n",
    ".schema(customers_schema) \\\n",
    ".load(\"/user/itv009959/lendingclubproject/raw/customers_data_csv\")"
   ]
  },
  {
   "cell_type": "code",
   "execution_count": 121,
   "id": "3065f782",
   "metadata": {},
   "outputs": [
    {
     "data": {
      "text/html": [
       "<table border='1'>\n",
       "<tr><th>member_id</th><th>emp_title</th><th>emp_length</th><th>home_ownership</th><th>annual_inc</th><th>addr_state</th><th>zip_code</th><th>country</th><th>grade</th><th>sub_grade</th><th>verification_status</th><th>tot_hi_cred_lim</th><th>application_type</th><th>annual_inc_joint</th><th>verification_status_joint</th></tr>\n",
       "<tr><td>707271898dcabc8b2...</td><td>Physician Service...</td><td>3 years</td><td>RENT</td><td>40400.0</td><td>CO</td><td>801xx</td><td>USA</td><td>A</td><td>A2</td><td>Not Verified</td><td>68759.0</td><td>Individual</td><td>null</td><td>null</td></tr>\n",
       "<tr><td>8e1ea10aca3c4ad8f...</td><td>Operations</td><td>10+ years</td><td>MORTGAGE</td><td>53000.0</td><td>AR</td><td>720xx</td><td>USA</td><td>B</td><td>B2</td><td>Source Verified</td><td>63143.0</td><td>Individual</td><td>null</td><td>null</td></tr>\n",
       "<tr><td>1d6546a2cbc1fd240...</td><td>Underwriter</td><td>2 years</td><td>RENT</td><td>65000.0</td><td>ME</td><td>040xx</td><td>USA</td><td>B</td><td>B4</td><td>Not Verified</td><td>66695.0</td><td>Individual</td><td>null</td><td>null</td></tr>\n",
       "<tr><td>d6208beced388988f...</td><td>Crome restorer sp...</td><td>10+ years</td><td>MORTGAGE</td><td>60000.0</td><td>IL</td><td>606xx</td><td>USA</td><td>C</td><td>C1</td><td>Not Verified</td><td>68900.0</td><td>Individual</td><td>null</td><td>null</td></tr>\n",
       "<tr><td>b4af936688c28c165...</td><td>Program Coordinator</td><td>1 year</td><td>RENT</td><td>38000.0</td><td>FL</td><td>322xx</td><td>USA</td><td>A</td><td>A5</td><td>Not Verified</td><td>76877.0</td><td>Individual</td><td>null</td><td>null</td></tr>\n",
       "<tr><td>2c04e047879ada04e...</td><td>Executive Director</td><td>10+ years</td><td>MORTGAGE</td><td>166000.0</td><td>IL</td><td>601xx</td><td>USA</td><td>C</td><td>C2</td><td>Not Verified</td><td>217868.0</td><td>Individual</td><td>null</td><td>null</td></tr>\n",
       "<tr><td>39dfcd293cb7b2c17...</td><td>Emergency Managme...</td><td>4 years</td><td>MORTGAGE</td><td>81000.0</td><td>TX</td><td>761xx</td><td>USA</td><td>C</td><td>C4</td><td>Not Verified</td><td>293276.0</td><td>Individual</td><td>null</td><td>null</td></tr>\n",
       "<tr><td>5e6e1f8ad59c71a0b...</td><td>Clinical Applicat...</td><td>3 years</td><td>MORTGAGE</td><td>82000.0</td><td>CO</td><td>801xx</td><td>USA</td><td>A</td><td>A1</td><td>Not Verified</td><td>393500.0</td><td>Individual</td><td>null</td><td>null</td></tr>\n",
       "<tr><td>afd3b57e55eb95ed8...</td><td>Systems Analyst 3</td><td>4 years</td><td>OWN</td><td>118030.0</td><td>MI</td><td>482xx</td><td>USA</td><td>A</td><td>A3</td><td>Not Verified</td><td>82137.0</td><td>Individual</td><td>null</td><td>null</td></tr>\n",
       "<tr><td>8b5eed45ac53a0238...</td><td>Director of Front...</td><td>4 years</td><td>RENT</td><td>62000.0</td><td>NY</td><td>110xx</td><td>USA</td><td>A</td><td>A5</td><td>Not Verified</td><td>17400.0</td><td>Individual</td><td>null</td><td>null</td></tr>\n",
       "<tr><td>f9b1d34c3edcb893e...</td><td>Program Finance M...</td><td>10+ years</td><td>RENT</td><td>135000.0</td><td>VA</td><td>223xx</td><td>USA</td><td>D</td><td>D4</td><td>Not Verified</td><td>55592.0</td><td>Individual</td><td>null</td><td>null</td></tr>\n",
       "<tr><td>1ad9eaf0cd017b07b...</td><td>French Teacher</td><td>10+ years</td><td>RENT</td><td>65000.0</td><td>ME</td><td>040xx</td><td>USA</td><td>B</td><td>B3</td><td>Not Verified</td><td>31980.0</td><td>Individual</td><td>null</td><td>null</td></tr>\n",
       "<tr><td>319d1b9f0f8262a44...</td><td>Physician Assistant</td><td>10+ years</td><td>MORTGAGE</td><td>168000.0</td><td>VA</td><td>234xx</td><td>USA</td><td>B</td><td>B5</td><td>Not Verified</td><td>524367.0</td><td>Individual</td><td>null</td><td>null</td></tr>\n",
       "<tr><td>f8d7c9355352667eb...</td><td>Police Officer</td><td>10+ years</td><td>OWN</td><td>120000.0</td><td>NY</td><td>117xx</td><td>USA</td><td>B</td><td>B2</td><td>Not Verified</td><td>248815.0</td><td>Individual</td><td>null</td><td>null</td></tr>\n",
       "<tr><td>e599af63f1a06e96d...</td><td>Investigator</td><td>10+ years</td><td>MORTGAGE</td><td>120092.0</td><td>VA</td><td>220xx</td><td>USA</td><td>C</td><td>C4</td><td>Verified</td><td>502718.0</td><td>Individual</td><td>null</td><td>null</td></tr>\n",
       "<tr><td>d7f76105042a35af5...</td><td>Detective</td><td>10+ years</td><td>MORTGAGE</td><td>100000.0</td><td>TX</td><td>752xx</td><td>USA</td><td>D</td><td>D4</td><td>Not Verified</td><td>70678.0</td><td>Individual</td><td>null</td><td>null</td></tr>\n",
       "<tr><td>d7b8a3478590b59c6...</td><td>Truck Driver</td><td>1 year</td><td>OWN</td><td>36400.0</td><td>SC</td><td>291xx</td><td>USA</td><td>C</td><td>C3</td><td>Not Verified</td><td>41204.0</td><td>Individual</td><td>null</td><td>null</td></tr>\n",
       "<tr><td>4885a59f1ae5534c3...</td><td>IT Manager</td><td>10+ years</td><td>OWN</td><td>115000.0</td><td>NY</td><td>103xx</td><td>USA</td><td>B</td><td>B4</td><td>Not Verified</td><td>379479.0</td><td>Individual</td><td>null</td><td>null</td></tr>\n",
       "<tr><td>4558ee1fa31903d33...</td><td>service advisor</td><td>10+ years</td><td>MORTGAGE</td><td>63000.0</td><td>MN</td><td>563xx</td><td>USA</td><td>A</td><td>A3</td><td>Not Verified</td><td>260220.0</td><td>Individual</td><td>null</td><td>null</td></tr>\n",
       "<tr><td>619b3b7101cf2aeb7...</td><td>Secretary2</td><td>10+ years</td><td>MORTGAGE</td><td>60000.0</td><td>CT</td><td>064xx</td><td>USA</td><td>A</td><td>A5</td><td>Not Verified</td><td>144940.0</td><td>Individual</td><td>null</td><td>null</td></tr>\n",
       "</table>\n",
       "only showing top 20 rows\n"
      ],
      "text/plain": [
       "+--------------------+--------------------+----------+--------------+----------+----------+--------+-------+-----+---------+-------------------+---------------+----------------+----------------+-------------------------+\n",
       "|           member_id|           emp_title|emp_length|home_ownership|annual_inc|addr_state|zip_code|country|grade|sub_grade|verification_status|tot_hi_cred_lim|application_type|annual_inc_joint|verification_status_joint|\n",
       "+--------------------+--------------------+----------+--------------+----------+----------+--------+-------+-----+---------+-------------------+---------------+----------------+----------------+-------------------------+\n",
       "|707271898dcabc8b2...|Physician Service...|   3 years|          RENT|   40400.0|        CO|   801xx|    USA|    A|       A2|       Not Verified|        68759.0|      Individual|            null|                     null|\n",
       "|8e1ea10aca3c4ad8f...|          Operations| 10+ years|      MORTGAGE|   53000.0|        AR|   720xx|    USA|    B|       B2|    Source Verified|        63143.0|      Individual|            null|                     null|\n",
       "|1d6546a2cbc1fd240...|         Underwriter|   2 years|          RENT|   65000.0|        ME|   040xx|    USA|    B|       B4|       Not Verified|        66695.0|      Individual|            null|                     null|\n",
       "|d6208beced388988f...|Crome restorer sp...| 10+ years|      MORTGAGE|   60000.0|        IL|   606xx|    USA|    C|       C1|       Not Verified|        68900.0|      Individual|            null|                     null|\n",
       "|b4af936688c28c165...| Program Coordinator|    1 year|          RENT|   38000.0|        FL|   322xx|    USA|    A|       A5|       Not Verified|        76877.0|      Individual|            null|                     null|\n",
       "|2c04e047879ada04e...|  Executive Director| 10+ years|      MORTGAGE|  166000.0|        IL|   601xx|    USA|    C|       C2|       Not Verified|       217868.0|      Individual|            null|                     null|\n",
       "|39dfcd293cb7b2c17...|Emergency Managme...|   4 years|      MORTGAGE|   81000.0|        TX|   761xx|    USA|    C|       C4|       Not Verified|       293276.0|      Individual|            null|                     null|\n",
       "|5e6e1f8ad59c71a0b...|Clinical Applicat...|   3 years|      MORTGAGE|   82000.0|        CO|   801xx|    USA|    A|       A1|       Not Verified|       393500.0|      Individual|            null|                     null|\n",
       "|afd3b57e55eb95ed8...|   Systems Analyst 3|   4 years|           OWN|  118030.0|        MI|   482xx|    USA|    A|       A3|       Not Verified|        82137.0|      Individual|            null|                     null|\n",
       "|8b5eed45ac53a0238...|Director of Front...|   4 years|          RENT|   62000.0|        NY|   110xx|    USA|    A|       A5|       Not Verified|        17400.0|      Individual|            null|                     null|\n",
       "|f9b1d34c3edcb893e...|Program Finance M...| 10+ years|          RENT|  135000.0|        VA|   223xx|    USA|    D|       D4|       Not Verified|        55592.0|      Individual|            null|                     null|\n",
       "|1ad9eaf0cd017b07b...|      French Teacher| 10+ years|          RENT|   65000.0|        ME|   040xx|    USA|    B|       B3|       Not Verified|        31980.0|      Individual|            null|                     null|\n",
       "|319d1b9f0f8262a44...| Physician Assistant| 10+ years|      MORTGAGE|  168000.0|        VA|   234xx|    USA|    B|       B5|       Not Verified|       524367.0|      Individual|            null|                     null|\n",
       "|f8d7c9355352667eb...|      Police Officer| 10+ years|           OWN|  120000.0|        NY|   117xx|    USA|    B|       B2|       Not Verified|       248815.0|      Individual|            null|                     null|\n",
       "|e599af63f1a06e96d...|        Investigator| 10+ years|      MORTGAGE|  120092.0|        VA|   220xx|    USA|    C|       C4|           Verified|       502718.0|      Individual|            null|                     null|\n",
       "|d7f76105042a35af5...|           Detective| 10+ years|      MORTGAGE|  100000.0|        TX|   752xx|    USA|    D|       D4|       Not Verified|        70678.0|      Individual|            null|                     null|\n",
       "|d7b8a3478590b59c6...|        Truck Driver|    1 year|           OWN|   36400.0|        SC|   291xx|    USA|    C|       C3|       Not Verified|        41204.0|      Individual|            null|                     null|\n",
       "|4885a59f1ae5534c3...|          IT Manager| 10+ years|           OWN|  115000.0|        NY|   103xx|    USA|    B|       B4|       Not Verified|       379479.0|      Individual|            null|                     null|\n",
       "|4558ee1fa31903d33...|     service advisor| 10+ years|      MORTGAGE|   63000.0|        MN|   563xx|    USA|    A|       A3|       Not Verified|       260220.0|      Individual|            null|                     null|\n",
       "|619b3b7101cf2aeb7...|          Secretary2| 10+ years|      MORTGAGE|   60000.0|        CT|   064xx|    USA|    A|       A5|       Not Verified|       144940.0|      Individual|            null|                     null|\n",
       "+--------------------+--------------------+----------+--------------+----------+----------+--------+-------+-----+---------+-------------------+---------------+----------------+----------------+-------------------------+\n",
       "only showing top 20 rows"
      ]
     },
     "execution_count": 121,
     "metadata": {},
     "output_type": "execute_result"
    }
   ],
   "source": [
    "customers_raw_df"
   ]
  },
  {
   "cell_type": "code",
   "execution_count": 122,
   "id": "05ccfbb3",
   "metadata": {},
   "outputs": [
    {
     "name": "stdout",
     "output_type": "stream",
     "text": [
      "root\n",
      " |-- member_id: string (nullable = true)\n",
      " |-- emp_title: string (nullable = true)\n",
      " |-- emp_length: string (nullable = true)\n",
      " |-- home_ownership: string (nullable = true)\n",
      " |-- annual_inc: float (nullable = true)\n",
      " |-- addr_state: string (nullable = true)\n",
      " |-- zip_code: string (nullable = true)\n",
      " |-- country: string (nullable = true)\n",
      " |-- grade: string (nullable = true)\n",
      " |-- sub_grade: string (nullable = true)\n",
      " |-- verification_status: string (nullable = true)\n",
      " |-- tot_hi_cred_lim: float (nullable = true)\n",
      " |-- application_type: string (nullable = true)\n",
      " |-- annual_inc_joint: float (nullable = true)\n",
      " |-- verification_status_joint: string (nullable = true)\n",
      "\n"
     ]
    }
   ],
   "source": [
    "customers_raw_df.printSchema()"
   ]
  },
  {
   "cell_type": "code",
   "execution_count": 123,
   "id": "d1f77053",
   "metadata": {},
   "outputs": [],
   "source": [
    "customers_df_renamed = customers_raw_df.withColumnRenamed(\"annual_inc\",\"annual_income\") \\\n",
    ".withColumnRenamed(\"addr_state\",\"address_state\") \\\n",
    ".withColumnRenamed(\"zip_code\",\"address_zipcode\") \\\n",
    ".withColumnRenamed(\"country\",\"address_country\") \\\n",
    ".withColumnRenamed(\"tot_hi_cred_lim\",\"total_high_credit_limit\") \\\n",
    ".withColumnRenamed(\"annual_inc_joint\",\"join_annual_income\")"
   ]
  },
  {
   "cell_type": "code",
   "execution_count": 124,
   "id": "65786a3b",
   "metadata": {},
   "outputs": [
    {
     "data": {
      "text/html": [
       "<table border='1'>\n",
       "<tr><th>member_id</th><th>emp_title</th><th>emp_length</th><th>home_ownership</th><th>annual_income</th><th>address_state</th><th>address_zipcode</th><th>address_country</th><th>grade</th><th>sub_grade</th><th>verification_status</th><th>total_high_credit_limit</th><th>application_type</th><th>join_annual_income</th><th>verification_status_joint</th></tr>\n",
       "<tr><td>707271898dcabc8b2...</td><td>Physician Service...</td><td>3 years</td><td>RENT</td><td>40400.0</td><td>CO</td><td>801xx</td><td>USA</td><td>A</td><td>A2</td><td>Not Verified</td><td>68759.0</td><td>Individual</td><td>null</td><td>null</td></tr>\n",
       "<tr><td>8e1ea10aca3c4ad8f...</td><td>Operations</td><td>10+ years</td><td>MORTGAGE</td><td>53000.0</td><td>AR</td><td>720xx</td><td>USA</td><td>B</td><td>B2</td><td>Source Verified</td><td>63143.0</td><td>Individual</td><td>null</td><td>null</td></tr>\n",
       "<tr><td>1d6546a2cbc1fd240...</td><td>Underwriter</td><td>2 years</td><td>RENT</td><td>65000.0</td><td>ME</td><td>040xx</td><td>USA</td><td>B</td><td>B4</td><td>Not Verified</td><td>66695.0</td><td>Individual</td><td>null</td><td>null</td></tr>\n",
       "<tr><td>d6208beced388988f...</td><td>Crome restorer sp...</td><td>10+ years</td><td>MORTGAGE</td><td>60000.0</td><td>IL</td><td>606xx</td><td>USA</td><td>C</td><td>C1</td><td>Not Verified</td><td>68900.0</td><td>Individual</td><td>null</td><td>null</td></tr>\n",
       "<tr><td>b4af936688c28c165...</td><td>Program Coordinator</td><td>1 year</td><td>RENT</td><td>38000.0</td><td>FL</td><td>322xx</td><td>USA</td><td>A</td><td>A5</td><td>Not Verified</td><td>76877.0</td><td>Individual</td><td>null</td><td>null</td></tr>\n",
       "<tr><td>2c04e047879ada04e...</td><td>Executive Director</td><td>10+ years</td><td>MORTGAGE</td><td>166000.0</td><td>IL</td><td>601xx</td><td>USA</td><td>C</td><td>C2</td><td>Not Verified</td><td>217868.0</td><td>Individual</td><td>null</td><td>null</td></tr>\n",
       "<tr><td>39dfcd293cb7b2c17...</td><td>Emergency Managme...</td><td>4 years</td><td>MORTGAGE</td><td>81000.0</td><td>TX</td><td>761xx</td><td>USA</td><td>C</td><td>C4</td><td>Not Verified</td><td>293276.0</td><td>Individual</td><td>null</td><td>null</td></tr>\n",
       "<tr><td>5e6e1f8ad59c71a0b...</td><td>Clinical Applicat...</td><td>3 years</td><td>MORTGAGE</td><td>82000.0</td><td>CO</td><td>801xx</td><td>USA</td><td>A</td><td>A1</td><td>Not Verified</td><td>393500.0</td><td>Individual</td><td>null</td><td>null</td></tr>\n",
       "<tr><td>afd3b57e55eb95ed8...</td><td>Systems Analyst 3</td><td>4 years</td><td>OWN</td><td>118030.0</td><td>MI</td><td>482xx</td><td>USA</td><td>A</td><td>A3</td><td>Not Verified</td><td>82137.0</td><td>Individual</td><td>null</td><td>null</td></tr>\n",
       "<tr><td>8b5eed45ac53a0238...</td><td>Director of Front...</td><td>4 years</td><td>RENT</td><td>62000.0</td><td>NY</td><td>110xx</td><td>USA</td><td>A</td><td>A5</td><td>Not Verified</td><td>17400.0</td><td>Individual</td><td>null</td><td>null</td></tr>\n",
       "<tr><td>f9b1d34c3edcb893e...</td><td>Program Finance M...</td><td>10+ years</td><td>RENT</td><td>135000.0</td><td>VA</td><td>223xx</td><td>USA</td><td>D</td><td>D4</td><td>Not Verified</td><td>55592.0</td><td>Individual</td><td>null</td><td>null</td></tr>\n",
       "<tr><td>1ad9eaf0cd017b07b...</td><td>French Teacher</td><td>10+ years</td><td>RENT</td><td>65000.0</td><td>ME</td><td>040xx</td><td>USA</td><td>B</td><td>B3</td><td>Not Verified</td><td>31980.0</td><td>Individual</td><td>null</td><td>null</td></tr>\n",
       "<tr><td>319d1b9f0f8262a44...</td><td>Physician Assistant</td><td>10+ years</td><td>MORTGAGE</td><td>168000.0</td><td>VA</td><td>234xx</td><td>USA</td><td>B</td><td>B5</td><td>Not Verified</td><td>524367.0</td><td>Individual</td><td>null</td><td>null</td></tr>\n",
       "<tr><td>f8d7c9355352667eb...</td><td>Police Officer</td><td>10+ years</td><td>OWN</td><td>120000.0</td><td>NY</td><td>117xx</td><td>USA</td><td>B</td><td>B2</td><td>Not Verified</td><td>248815.0</td><td>Individual</td><td>null</td><td>null</td></tr>\n",
       "<tr><td>e599af63f1a06e96d...</td><td>Investigator</td><td>10+ years</td><td>MORTGAGE</td><td>120092.0</td><td>VA</td><td>220xx</td><td>USA</td><td>C</td><td>C4</td><td>Verified</td><td>502718.0</td><td>Individual</td><td>null</td><td>null</td></tr>\n",
       "<tr><td>d7f76105042a35af5...</td><td>Detective</td><td>10+ years</td><td>MORTGAGE</td><td>100000.0</td><td>TX</td><td>752xx</td><td>USA</td><td>D</td><td>D4</td><td>Not Verified</td><td>70678.0</td><td>Individual</td><td>null</td><td>null</td></tr>\n",
       "<tr><td>d7b8a3478590b59c6...</td><td>Truck Driver</td><td>1 year</td><td>OWN</td><td>36400.0</td><td>SC</td><td>291xx</td><td>USA</td><td>C</td><td>C3</td><td>Not Verified</td><td>41204.0</td><td>Individual</td><td>null</td><td>null</td></tr>\n",
       "<tr><td>4885a59f1ae5534c3...</td><td>IT Manager</td><td>10+ years</td><td>OWN</td><td>115000.0</td><td>NY</td><td>103xx</td><td>USA</td><td>B</td><td>B4</td><td>Not Verified</td><td>379479.0</td><td>Individual</td><td>null</td><td>null</td></tr>\n",
       "<tr><td>4558ee1fa31903d33...</td><td>service advisor</td><td>10+ years</td><td>MORTGAGE</td><td>63000.0</td><td>MN</td><td>563xx</td><td>USA</td><td>A</td><td>A3</td><td>Not Verified</td><td>260220.0</td><td>Individual</td><td>null</td><td>null</td></tr>\n",
       "<tr><td>619b3b7101cf2aeb7...</td><td>Secretary2</td><td>10+ years</td><td>MORTGAGE</td><td>60000.0</td><td>CT</td><td>064xx</td><td>USA</td><td>A</td><td>A5</td><td>Not Verified</td><td>144940.0</td><td>Individual</td><td>null</td><td>null</td></tr>\n",
       "</table>\n",
       "only showing top 20 rows\n"
      ],
      "text/plain": [
       "+--------------------+--------------------+----------+--------------+-------------+-------------+---------------+---------------+-----+---------+-------------------+-----------------------+----------------+------------------+-------------------------+\n",
       "|           member_id|           emp_title|emp_length|home_ownership|annual_income|address_state|address_zipcode|address_country|grade|sub_grade|verification_status|total_high_credit_limit|application_type|join_annual_income|verification_status_joint|\n",
       "+--------------------+--------------------+----------+--------------+-------------+-------------+---------------+---------------+-----+---------+-------------------+-----------------------+----------------+------------------+-------------------------+\n",
       "|707271898dcabc8b2...|Physician Service...|   3 years|          RENT|      40400.0|           CO|          801xx|            USA|    A|       A2|       Not Verified|                68759.0|      Individual|              null|                     null|\n",
       "|8e1ea10aca3c4ad8f...|          Operations| 10+ years|      MORTGAGE|      53000.0|           AR|          720xx|            USA|    B|       B2|    Source Verified|                63143.0|      Individual|              null|                     null|\n",
       "|1d6546a2cbc1fd240...|         Underwriter|   2 years|          RENT|      65000.0|           ME|          040xx|            USA|    B|       B4|       Not Verified|                66695.0|      Individual|              null|                     null|\n",
       "|d6208beced388988f...|Crome restorer sp...| 10+ years|      MORTGAGE|      60000.0|           IL|          606xx|            USA|    C|       C1|       Not Verified|                68900.0|      Individual|              null|                     null|\n",
       "|b4af936688c28c165...| Program Coordinator|    1 year|          RENT|      38000.0|           FL|          322xx|            USA|    A|       A5|       Not Verified|                76877.0|      Individual|              null|                     null|\n",
       "|2c04e047879ada04e...|  Executive Director| 10+ years|      MORTGAGE|     166000.0|           IL|          601xx|            USA|    C|       C2|       Not Verified|               217868.0|      Individual|              null|                     null|\n",
       "|39dfcd293cb7b2c17...|Emergency Managme...|   4 years|      MORTGAGE|      81000.0|           TX|          761xx|            USA|    C|       C4|       Not Verified|               293276.0|      Individual|              null|                     null|\n",
       "|5e6e1f8ad59c71a0b...|Clinical Applicat...|   3 years|      MORTGAGE|      82000.0|           CO|          801xx|            USA|    A|       A1|       Not Verified|               393500.0|      Individual|              null|                     null|\n",
       "|afd3b57e55eb95ed8...|   Systems Analyst 3|   4 years|           OWN|     118030.0|           MI|          482xx|            USA|    A|       A3|       Not Verified|                82137.0|      Individual|              null|                     null|\n",
       "|8b5eed45ac53a0238...|Director of Front...|   4 years|          RENT|      62000.0|           NY|          110xx|            USA|    A|       A5|       Not Verified|                17400.0|      Individual|              null|                     null|\n",
       "|f9b1d34c3edcb893e...|Program Finance M...| 10+ years|          RENT|     135000.0|           VA|          223xx|            USA|    D|       D4|       Not Verified|                55592.0|      Individual|              null|                     null|\n",
       "|1ad9eaf0cd017b07b...|      French Teacher| 10+ years|          RENT|      65000.0|           ME|          040xx|            USA|    B|       B3|       Not Verified|                31980.0|      Individual|              null|                     null|\n",
       "|319d1b9f0f8262a44...| Physician Assistant| 10+ years|      MORTGAGE|     168000.0|           VA|          234xx|            USA|    B|       B5|       Not Verified|               524367.0|      Individual|              null|                     null|\n",
       "|f8d7c9355352667eb...|      Police Officer| 10+ years|           OWN|     120000.0|           NY|          117xx|            USA|    B|       B2|       Not Verified|               248815.0|      Individual|              null|                     null|\n",
       "|e599af63f1a06e96d...|        Investigator| 10+ years|      MORTGAGE|     120092.0|           VA|          220xx|            USA|    C|       C4|           Verified|               502718.0|      Individual|              null|                     null|\n",
       "|d7f76105042a35af5...|           Detective| 10+ years|      MORTGAGE|     100000.0|           TX|          752xx|            USA|    D|       D4|       Not Verified|                70678.0|      Individual|              null|                     null|\n",
       "|d7b8a3478590b59c6...|        Truck Driver|    1 year|           OWN|      36400.0|           SC|          291xx|            USA|    C|       C3|       Not Verified|                41204.0|      Individual|              null|                     null|\n",
       "|4885a59f1ae5534c3...|          IT Manager| 10+ years|           OWN|     115000.0|           NY|          103xx|            USA|    B|       B4|       Not Verified|               379479.0|      Individual|              null|                     null|\n",
       "|4558ee1fa31903d33...|     service advisor| 10+ years|      MORTGAGE|      63000.0|           MN|          563xx|            USA|    A|       A3|       Not Verified|               260220.0|      Individual|              null|                     null|\n",
       "|619b3b7101cf2aeb7...|          Secretary2| 10+ years|      MORTGAGE|      60000.0|           CT|          064xx|            USA|    A|       A5|       Not Verified|               144940.0|      Individual|              null|                     null|\n",
       "+--------------------+--------------------+----------+--------------+-------------+-------------+---------------+---------------+-----+---------+-------------------+-----------------------+----------------+------------------+-------------------------+\n",
       "only showing top 20 rows"
      ]
     },
     "execution_count": 124,
     "metadata": {},
     "output_type": "execute_result"
    }
   ],
   "source": [
    "customers_df_renamed"
   ]
  },
  {
   "cell_type": "code",
   "execution_count": 125,
   "id": "e27826d8",
   "metadata": {},
   "outputs": [],
   "source": [
    "from pyspark.sql.functions import current_timestamp"
   ]
  },
  {
   "cell_type": "code",
   "execution_count": 126,
   "id": "3b35c8ee",
   "metadata": {},
   "outputs": [],
   "source": [
    "customers_df_ingested = customers_df_renamed.withColumn(\"ingest_date\",current_timestamp())"
   ]
  },
  {
   "cell_type": "code",
   "execution_count": 127,
   "id": "1afef0bf",
   "metadata": {},
   "outputs": [
    {
     "data": {
      "text/html": [
       "<table border='1'>\n",
       "<tr><th>member_id</th><th>emp_title</th><th>emp_length</th><th>home_ownership</th><th>annual_income</th><th>address_state</th><th>address_zipcode</th><th>address_country</th><th>grade</th><th>sub_grade</th><th>verification_status</th><th>total_high_credit_limit</th><th>application_type</th><th>join_annual_income</th><th>verification_status_joint</th><th>ingest_date</th></tr>\n",
       "<tr><td>707271898dcabc8b2...</td><td>Physician Service...</td><td>3 years</td><td>RENT</td><td>40400.0</td><td>CO</td><td>801xx</td><td>USA</td><td>A</td><td>A2</td><td>Not Verified</td><td>68759.0</td><td>Individual</td><td>null</td><td>null</td><td>2024-03-12 17:34:...</td></tr>\n",
       "<tr><td>8e1ea10aca3c4ad8f...</td><td>Operations</td><td>10+ years</td><td>MORTGAGE</td><td>53000.0</td><td>AR</td><td>720xx</td><td>USA</td><td>B</td><td>B2</td><td>Source Verified</td><td>63143.0</td><td>Individual</td><td>null</td><td>null</td><td>2024-03-12 17:34:...</td></tr>\n",
       "<tr><td>1d6546a2cbc1fd240...</td><td>Underwriter</td><td>2 years</td><td>RENT</td><td>65000.0</td><td>ME</td><td>040xx</td><td>USA</td><td>B</td><td>B4</td><td>Not Verified</td><td>66695.0</td><td>Individual</td><td>null</td><td>null</td><td>2024-03-12 17:34:...</td></tr>\n",
       "<tr><td>d6208beced388988f...</td><td>Crome restorer sp...</td><td>10+ years</td><td>MORTGAGE</td><td>60000.0</td><td>IL</td><td>606xx</td><td>USA</td><td>C</td><td>C1</td><td>Not Verified</td><td>68900.0</td><td>Individual</td><td>null</td><td>null</td><td>2024-03-12 17:34:...</td></tr>\n",
       "<tr><td>b4af936688c28c165...</td><td>Program Coordinator</td><td>1 year</td><td>RENT</td><td>38000.0</td><td>FL</td><td>322xx</td><td>USA</td><td>A</td><td>A5</td><td>Not Verified</td><td>76877.0</td><td>Individual</td><td>null</td><td>null</td><td>2024-03-12 17:34:...</td></tr>\n",
       "<tr><td>2c04e047879ada04e...</td><td>Executive Director</td><td>10+ years</td><td>MORTGAGE</td><td>166000.0</td><td>IL</td><td>601xx</td><td>USA</td><td>C</td><td>C2</td><td>Not Verified</td><td>217868.0</td><td>Individual</td><td>null</td><td>null</td><td>2024-03-12 17:34:...</td></tr>\n",
       "<tr><td>39dfcd293cb7b2c17...</td><td>Emergency Managme...</td><td>4 years</td><td>MORTGAGE</td><td>81000.0</td><td>TX</td><td>761xx</td><td>USA</td><td>C</td><td>C4</td><td>Not Verified</td><td>293276.0</td><td>Individual</td><td>null</td><td>null</td><td>2024-03-12 17:34:...</td></tr>\n",
       "<tr><td>5e6e1f8ad59c71a0b...</td><td>Clinical Applicat...</td><td>3 years</td><td>MORTGAGE</td><td>82000.0</td><td>CO</td><td>801xx</td><td>USA</td><td>A</td><td>A1</td><td>Not Verified</td><td>393500.0</td><td>Individual</td><td>null</td><td>null</td><td>2024-03-12 17:34:...</td></tr>\n",
       "<tr><td>afd3b57e55eb95ed8...</td><td>Systems Analyst 3</td><td>4 years</td><td>OWN</td><td>118030.0</td><td>MI</td><td>482xx</td><td>USA</td><td>A</td><td>A3</td><td>Not Verified</td><td>82137.0</td><td>Individual</td><td>null</td><td>null</td><td>2024-03-12 17:34:...</td></tr>\n",
       "<tr><td>8b5eed45ac53a0238...</td><td>Director of Front...</td><td>4 years</td><td>RENT</td><td>62000.0</td><td>NY</td><td>110xx</td><td>USA</td><td>A</td><td>A5</td><td>Not Verified</td><td>17400.0</td><td>Individual</td><td>null</td><td>null</td><td>2024-03-12 17:34:...</td></tr>\n",
       "<tr><td>f9b1d34c3edcb893e...</td><td>Program Finance M...</td><td>10+ years</td><td>RENT</td><td>135000.0</td><td>VA</td><td>223xx</td><td>USA</td><td>D</td><td>D4</td><td>Not Verified</td><td>55592.0</td><td>Individual</td><td>null</td><td>null</td><td>2024-03-12 17:34:...</td></tr>\n",
       "<tr><td>1ad9eaf0cd017b07b...</td><td>French Teacher</td><td>10+ years</td><td>RENT</td><td>65000.0</td><td>ME</td><td>040xx</td><td>USA</td><td>B</td><td>B3</td><td>Not Verified</td><td>31980.0</td><td>Individual</td><td>null</td><td>null</td><td>2024-03-12 17:34:...</td></tr>\n",
       "<tr><td>319d1b9f0f8262a44...</td><td>Physician Assistant</td><td>10+ years</td><td>MORTGAGE</td><td>168000.0</td><td>VA</td><td>234xx</td><td>USA</td><td>B</td><td>B5</td><td>Not Verified</td><td>524367.0</td><td>Individual</td><td>null</td><td>null</td><td>2024-03-12 17:34:...</td></tr>\n",
       "<tr><td>f8d7c9355352667eb...</td><td>Police Officer</td><td>10+ years</td><td>OWN</td><td>120000.0</td><td>NY</td><td>117xx</td><td>USA</td><td>B</td><td>B2</td><td>Not Verified</td><td>248815.0</td><td>Individual</td><td>null</td><td>null</td><td>2024-03-12 17:34:...</td></tr>\n",
       "<tr><td>e599af63f1a06e96d...</td><td>Investigator</td><td>10+ years</td><td>MORTGAGE</td><td>120092.0</td><td>VA</td><td>220xx</td><td>USA</td><td>C</td><td>C4</td><td>Verified</td><td>502718.0</td><td>Individual</td><td>null</td><td>null</td><td>2024-03-12 17:34:...</td></tr>\n",
       "<tr><td>d7f76105042a35af5...</td><td>Detective</td><td>10+ years</td><td>MORTGAGE</td><td>100000.0</td><td>TX</td><td>752xx</td><td>USA</td><td>D</td><td>D4</td><td>Not Verified</td><td>70678.0</td><td>Individual</td><td>null</td><td>null</td><td>2024-03-12 17:34:...</td></tr>\n",
       "<tr><td>d7b8a3478590b59c6...</td><td>Truck Driver</td><td>1 year</td><td>OWN</td><td>36400.0</td><td>SC</td><td>291xx</td><td>USA</td><td>C</td><td>C3</td><td>Not Verified</td><td>41204.0</td><td>Individual</td><td>null</td><td>null</td><td>2024-03-12 17:34:...</td></tr>\n",
       "<tr><td>4885a59f1ae5534c3...</td><td>IT Manager</td><td>10+ years</td><td>OWN</td><td>115000.0</td><td>NY</td><td>103xx</td><td>USA</td><td>B</td><td>B4</td><td>Not Verified</td><td>379479.0</td><td>Individual</td><td>null</td><td>null</td><td>2024-03-12 17:34:...</td></tr>\n",
       "<tr><td>4558ee1fa31903d33...</td><td>service advisor</td><td>10+ years</td><td>MORTGAGE</td><td>63000.0</td><td>MN</td><td>563xx</td><td>USA</td><td>A</td><td>A3</td><td>Not Verified</td><td>260220.0</td><td>Individual</td><td>null</td><td>null</td><td>2024-03-12 17:34:...</td></tr>\n",
       "<tr><td>619b3b7101cf2aeb7...</td><td>Secretary2</td><td>10+ years</td><td>MORTGAGE</td><td>60000.0</td><td>CT</td><td>064xx</td><td>USA</td><td>A</td><td>A5</td><td>Not Verified</td><td>144940.0</td><td>Individual</td><td>null</td><td>null</td><td>2024-03-12 17:34:...</td></tr>\n",
       "</table>\n",
       "only showing top 20 rows\n"
      ],
      "text/plain": [
       "+--------------------+--------------------+----------+--------------+-------------+-------------+---------------+---------------+-----+---------+-------------------+-----------------------+----------------+------------------+-------------------------+--------------------+\n",
       "|           member_id|           emp_title|emp_length|home_ownership|annual_income|address_state|address_zipcode|address_country|grade|sub_grade|verification_status|total_high_credit_limit|application_type|join_annual_income|verification_status_joint|         ingest_date|\n",
       "+--------------------+--------------------+----------+--------------+-------------+-------------+---------------+---------------+-----+---------+-------------------+-----------------------+----------------+------------------+-------------------------+--------------------+\n",
       "|707271898dcabc8b2...|Physician Service...|   3 years|          RENT|      40400.0|           CO|          801xx|            USA|    A|       A2|       Not Verified|                68759.0|      Individual|              null|                     null|2024-03-12 17:34:...|\n",
       "|8e1ea10aca3c4ad8f...|          Operations| 10+ years|      MORTGAGE|      53000.0|           AR|          720xx|            USA|    B|       B2|    Source Verified|                63143.0|      Individual|              null|                     null|2024-03-12 17:34:...|\n",
       "|1d6546a2cbc1fd240...|         Underwriter|   2 years|          RENT|      65000.0|           ME|          040xx|            USA|    B|       B4|       Not Verified|                66695.0|      Individual|              null|                     null|2024-03-12 17:34:...|\n",
       "|d6208beced388988f...|Crome restorer sp...| 10+ years|      MORTGAGE|      60000.0|           IL|          606xx|            USA|    C|       C1|       Not Verified|                68900.0|      Individual|              null|                     null|2024-03-12 17:34:...|\n",
       "|b4af936688c28c165...| Program Coordinator|    1 year|          RENT|      38000.0|           FL|          322xx|            USA|    A|       A5|       Not Verified|                76877.0|      Individual|              null|                     null|2024-03-12 17:34:...|\n",
       "|2c04e047879ada04e...|  Executive Director| 10+ years|      MORTGAGE|     166000.0|           IL|          601xx|            USA|    C|       C2|       Not Verified|               217868.0|      Individual|              null|                     null|2024-03-12 17:34:...|\n",
       "|39dfcd293cb7b2c17...|Emergency Managme...|   4 years|      MORTGAGE|      81000.0|           TX|          761xx|            USA|    C|       C4|       Not Verified|               293276.0|      Individual|              null|                     null|2024-03-12 17:34:...|\n",
       "|5e6e1f8ad59c71a0b...|Clinical Applicat...|   3 years|      MORTGAGE|      82000.0|           CO|          801xx|            USA|    A|       A1|       Not Verified|               393500.0|      Individual|              null|                     null|2024-03-12 17:34:...|\n",
       "|afd3b57e55eb95ed8...|   Systems Analyst 3|   4 years|           OWN|     118030.0|           MI|          482xx|            USA|    A|       A3|       Not Verified|                82137.0|      Individual|              null|                     null|2024-03-12 17:34:...|\n",
       "|8b5eed45ac53a0238...|Director of Front...|   4 years|          RENT|      62000.0|           NY|          110xx|            USA|    A|       A5|       Not Verified|                17400.0|      Individual|              null|                     null|2024-03-12 17:34:...|\n",
       "|f9b1d34c3edcb893e...|Program Finance M...| 10+ years|          RENT|     135000.0|           VA|          223xx|            USA|    D|       D4|       Not Verified|                55592.0|      Individual|              null|                     null|2024-03-12 17:34:...|\n",
       "|1ad9eaf0cd017b07b...|      French Teacher| 10+ years|          RENT|      65000.0|           ME|          040xx|            USA|    B|       B3|       Not Verified|                31980.0|      Individual|              null|                     null|2024-03-12 17:34:...|\n",
       "|319d1b9f0f8262a44...| Physician Assistant| 10+ years|      MORTGAGE|     168000.0|           VA|          234xx|            USA|    B|       B5|       Not Verified|               524367.0|      Individual|              null|                     null|2024-03-12 17:34:...|\n",
       "|f8d7c9355352667eb...|      Police Officer| 10+ years|           OWN|     120000.0|           NY|          117xx|            USA|    B|       B2|       Not Verified|               248815.0|      Individual|              null|                     null|2024-03-12 17:34:...|\n",
       "|e599af63f1a06e96d...|        Investigator| 10+ years|      MORTGAGE|     120092.0|           VA|          220xx|            USA|    C|       C4|           Verified|               502718.0|      Individual|              null|                     null|2024-03-12 17:34:...|\n",
       "|d7f76105042a35af5...|           Detective| 10+ years|      MORTGAGE|     100000.0|           TX|          752xx|            USA|    D|       D4|       Not Verified|                70678.0|      Individual|              null|                     null|2024-03-12 17:34:...|\n",
       "|d7b8a3478590b59c6...|        Truck Driver|    1 year|           OWN|      36400.0|           SC|          291xx|            USA|    C|       C3|       Not Verified|                41204.0|      Individual|              null|                     null|2024-03-12 17:34:...|\n",
       "|4885a59f1ae5534c3...|          IT Manager| 10+ years|           OWN|     115000.0|           NY|          103xx|            USA|    B|       B4|       Not Verified|               379479.0|      Individual|              null|                     null|2024-03-12 17:34:...|\n",
       "|4558ee1fa31903d33...|     service advisor| 10+ years|      MORTGAGE|      63000.0|           MN|          563xx|            USA|    A|       A3|       Not Verified|               260220.0|      Individual|              null|                     null|2024-03-12 17:34:...|\n",
       "|619b3b7101cf2aeb7...|          Secretary2| 10+ years|      MORTGAGE|      60000.0|           CT|          064xx|            USA|    A|       A5|       Not Verified|               144940.0|      Individual|              null|                     null|2024-03-12 17:34:...|\n",
       "+--------------------+--------------------+----------+--------------+-------------+-------------+---------------+---------------+-----+---------+-------------------+-----------------------+----------------+------------------+-------------------------+--------------------+\n",
       "only showing top 20 rows"
      ]
     },
     "execution_count": 127,
     "metadata": {},
     "output_type": "execute_result"
    }
   ],
   "source": [
    "customers_df_ingested"
   ]
  },
  {
   "cell_type": "code",
   "execution_count": 128,
   "id": "864e491d",
   "metadata": {},
   "outputs": [
    {
     "data": {
      "text/plain": [
       "2260701"
      ]
     },
     "execution_count": 128,
     "metadata": {},
     "output_type": "execute_result"
    }
   ],
   "source": [
    "customers_df_ingested.count()"
   ]
  },
  {
   "cell_type": "code",
   "execution_count": 129,
   "id": "87560178",
   "metadata": {},
   "outputs": [],
   "source": [
    "customers_distinct = customers_df_ingested.distinct()"
   ]
  },
  {
   "cell_type": "code",
   "execution_count": 130,
   "id": "ea6af515",
   "metadata": {},
   "outputs": [
    {
     "data": {
      "text/plain": [
       "2260638"
      ]
     },
     "execution_count": 130,
     "metadata": {},
     "output_type": "execute_result"
    }
   ],
   "source": [
    "customers_distinct.count()"
   ]
  },
  {
   "cell_type": "code",
   "execution_count": 131,
   "id": "c1e0e2d1",
   "metadata": {},
   "outputs": [],
   "source": [
    "customers_distinct.createOrReplaceTempView(\"customers\")"
   ]
  },
  {
   "cell_type": "code",
   "execution_count": 132,
   "id": "5e985255",
   "metadata": {},
   "outputs": [
    {
     "data": {
      "text/html": [
       "<table border='1'>\n",
       "<tr><th>member_id</th><th>emp_title</th><th>emp_length</th><th>home_ownership</th><th>annual_income</th><th>address_state</th><th>address_zipcode</th><th>address_country</th><th>grade</th><th>sub_grade</th><th>verification_status</th><th>total_high_credit_limit</th><th>application_type</th><th>join_annual_income</th><th>verification_status_joint</th><th>ingest_date</th></tr>\n",
       "<tr><td>28f813f2dbd389d94...</td><td>Business Developm...</td><td>10+ years</td><td>MORTGAGE</td><td>67000.0</td><td>IL</td><td>604xx</td><td>USA</td><td>C</td><td>C1</td><td>Source Verified</td><td>186967.0</td><td>Individual</td><td>null</td><td>null</td><td>2024-03-12 17:34:...</td></tr>\n",
       "<tr><td>89c95cc1c0a11f760...</td><td>Supervisor</td><td>10+ years</td><td>RENT</td><td>42000.0</td><td>NY</td><td>115xx</td><td>USA</td><td>B</td><td>B3</td><td>Verified</td><td>221202.0</td><td>Individual</td><td>null</td><td>null</td><td>2024-03-12 17:34:...</td></tr>\n",
       "<tr><td>fe2b4be6340070c54...</td><td>null</td><td>null</td><td>RENT</td><td>31000.0</td><td>NY</td><td>142xx</td><td>USA</td><td>D</td><td>D3</td><td>Source Verified</td><td>19100.0</td><td>Individual</td><td>null</td><td>null</td><td>2024-03-12 17:34:...</td></tr>\n",
       "<tr><td>4de2852d38c8cbef6...</td><td>lead customer ser...</td><td>8 years</td><td>RENT</td><td>74000.0</td><td>AK</td><td>995xx</td><td>USA</td><td>B</td><td>B1</td><td>Not Verified</td><td>37000.0</td><td>Individual</td><td>null</td><td>null</td><td>2024-03-12 17:34:...</td></tr>\n",
       "<tr><td>e573ae83004f28b50...</td><td>GM</td><td>4 years</td><td>OWN</td><td>38000.0</td><td>SC</td><td>295xx</td><td>USA</td><td>D</td><td>D4</td><td>Verified</td><td>23694.0</td><td>Individual</td><td>null</td><td>null</td><td>2024-03-12 17:34:...</td></tr>\n",
       "<tr><td>f3aa6f48a5efd7aac...</td><td>Media Specialist</td><td>10+ years</td><td>MORTGAGE</td><td>60000.0</td><td>FL</td><td>327xx</td><td>USA</td><td>C</td><td>C5</td><td>Source Verified</td><td>3100.0</td><td>Individual</td><td>null</td><td>null</td><td>2024-03-12 17:34:...</td></tr>\n",
       "<tr><td>307679b4ae65a4f28...</td><td>Mechanic</td><td>8 years</td><td>MORTGAGE</td><td>110000.0</td><td>PA</td><td>179xx</td><td>USA</td><td>C</td><td>C1</td><td>Not Verified</td><td>288400.0</td><td>Individual</td><td>null</td><td>null</td><td>2024-03-12 17:34:...</td></tr>\n",
       "<tr><td>50fdd1738748332d6...</td><td>Respiratory care ...</td><td>2 years</td><td>OWN</td><td>60000.0</td><td>OK</td><td>731xx</td><td>USA</td><td>D</td><td>D5</td><td>Verified</td><td>173217.0</td><td>Individual</td><td>null</td><td>null</td><td>2024-03-12 17:34:...</td></tr>\n",
       "<tr><td>f0349cb67df6ada13...</td><td>JOURNALIST</td><td>3 years</td><td>RENT</td><td>82000.0</td><td>DC</td><td>200xx</td><td>USA</td><td>B</td><td>B1</td><td>Source Verified</td><td>39300.0</td><td>Individual</td><td>null</td><td>null</td><td>2024-03-12 17:34:...</td></tr>\n",
       "<tr><td>782d817a4150de56a...</td><td>CORRECTION OFFICER</td><td>10+ years</td><td>MORTGAGE</td><td>50000.0</td><td>OH</td><td>433xx</td><td>USA</td><td>C</td><td>C4</td><td>Source Verified</td><td>176971.0</td><td>Individual</td><td>null</td><td>null</td><td>2024-03-12 17:34:...</td></tr>\n",
       "<tr><td>8e84bffb238db84bb...</td><td>truck driver</td><td>10+ years</td><td>MORTGAGE</td><td>64000.0</td><td>IL</td><td>605xx</td><td>USA</td><td>D</td><td>D3</td><td>Verified</td><td>247777.0</td><td>Individual</td><td>null</td><td>null</td><td>2024-03-12 17:34:...</td></tr>\n",
       "<tr><td>c0efbc708d5d19e09...</td><td>Vice President</td><td>4 years</td><td>MORTGAGE</td><td>165000.0</td><td>WV</td><td>253xx</td><td>USA</td><td>B</td><td>B1</td><td>Not Verified</td><td>173685.0</td><td>Individual</td><td>null</td><td>null</td><td>2024-03-12 17:34:...</td></tr>\n",
       "<tr><td>1a4a2fb3dad1c9d4d...</td><td>Federal</td><td>10+ years</td><td>RENT</td><td>46000.0</td><td>AK</td><td>996xx</td><td>USA</td><td>B</td><td>B5</td><td>Source Verified</td><td>81514.0</td><td>Individual</td><td>null</td><td>null</td><td>2024-03-12 17:34:...</td></tr>\n",
       "<tr><td>58948e88d8d70c654...</td><td>Producer</td><td>10+ years</td><td>MORTGAGE</td><td>112000.0</td><td>CA</td><td>911xx</td><td>USA</td><td>B</td><td>B5</td><td>Not Verified</td><td>557950.0</td><td>Individual</td><td>null</td><td>null</td><td>2024-03-12 17:34:...</td></tr>\n",
       "<tr><td>82c79fc95b7dea6d5...</td><td>null</td><td>null</td><td>RENT</td><td>100000.0</td><td>NY</td><td>119xx</td><td>USA</td><td>B</td><td>B4</td><td>Verified</td><td>76726.0</td><td>Individual</td><td>null</td><td>null</td><td>2024-03-12 17:34:...</td></tr>\n",
       "<tr><td>c7241b56845032833...</td><td>null</td><td>null</td><td>MORTGAGE</td><td>80000.0</td><td>CT</td><td>061xx</td><td>USA</td><td>A</td><td>A4</td><td>Source Verified</td><td>71485.0</td><td>Individual</td><td>null</td><td>null</td><td>2024-03-12 17:34:...</td></tr>\n",
       "<tr><td>e41da9c644ff85bed...</td><td>Tech Lead - Servi...</td><td>7 years</td><td>RENT</td><td>71332.0</td><td>AK</td><td>995xx</td><td>USA</td><td>D</td><td>D1</td><td>Source Verified</td><td>28689.0</td><td>Individual</td><td>null</td><td>null</td><td>2024-03-12 17:34:...</td></tr>\n",
       "<tr><td>86222549222cd23e2...</td><td>Teller</td><td>1 year</td><td>MORTGAGE</td><td>34000.0</td><td>CO</td><td>812xx</td><td>USA</td><td>C</td><td>C4</td><td>Source Verified</td><td>275496.0</td><td>Joint App</td><td>94000.0</td><td>Source Verified</td><td>2024-03-12 17:34:...</td></tr>\n",
       "<tr><td>480a50a0b427a3060...</td><td>Assistant Center ...</td><td>2 years</td><td>MORTGAGE</td><td>140000.0</td><td>IN</td><td>461xx</td><td>USA</td><td>C</td><td>C2</td><td>Source Verified</td><td>342345.0</td><td>Individual</td><td>null</td><td>null</td><td>2024-03-12 17:34:...</td></tr>\n",
       "<tr><td>3c1df429c49123479...</td><td>Lecturer</td><td>10+ years</td><td>RENT</td><td>53000.0</td><td>NY</td><td>148xx</td><td>USA</td><td>C</td><td>C4</td><td>Source Verified</td><td>41134.0</td><td>Individual</td><td>null</td><td>null</td><td>2024-03-12 17:34:...</td></tr>\n",
       "</table>\n",
       "only showing top 20 rows\n"
      ],
      "text/plain": [
       "+--------------------+--------------------+----------+--------------+-------------+-------------+---------------+---------------+-----+---------+-------------------+-----------------------+----------------+------------------+-------------------------+--------------------+\n",
       "|           member_id|           emp_title|emp_length|home_ownership|annual_income|address_state|address_zipcode|address_country|grade|sub_grade|verification_status|total_high_credit_limit|application_type|join_annual_income|verification_status_joint|         ingest_date|\n",
       "+--------------------+--------------------+----------+--------------+-------------+-------------+---------------+---------------+-----+---------+-------------------+-----------------------+----------------+------------------+-------------------------+--------------------+\n",
       "|3c57bd1c99240eee6...|   Senior Consultant|  < 1 year|      MORTGAGE|     115000.0|           IL|          604xx|            USA|    B|       B1|    Source Verified|               482254.0|      Individual|              null|                     null|2024-03-12 17:34:...|\n",
       "|8acd5e8afdb19a37e...|Information Secur...|   3 years|          RENT|      80000.0|           VA|          232xx|            USA|    A|       A1|    Source Verified|                55966.0|      Individual|              null|                     null|2024-03-12 17:34:...|\n",
       "|44cbe07b4547924bd...|         Lead Tester|   2 years|          RENT|      38667.0|           LA|          708xx|            USA|    E|       E2|    Source Verified|                54917.0|      Individual|              null|                     null|2024-03-12 17:34:...|\n",
       "|bb0f6ca7e86fce17b...|         Maintenance|   6 years|      MORTGAGE|      50000.0|           MA|          019xx|            USA|    C|       C4|       Not Verified|               194830.0|      Individual|              null|                     null|2024-03-12 17:34:...|\n",
       "|41477e458ea366426...|Executive Team Le...| 10+ years|      MORTGAGE|      69250.0|           NC|          280xx|            USA|    C|       C1|       Not Verified|               383433.0|      Individual|              null|                     null|2024-03-12 17:34:...|\n",
       "|ed6aa29f304eb6487...| carpenter maintance| 10+ years|           OWN|      65000.0|           AK|          997xx|            USA|    C|       C2|           Verified|                13108.0|      Individual|              null|                     null|2024-03-12 17:34:...|\n",
       "|f4bcfaedd5826eabd...|           Assembler|    1 year|          RENT|      24000.0|           MI|          490xx|            USA|    B|       B5|    Source Verified|                79642.0|      Individual|              null|                     null|2024-03-12 17:34:...|\n",
       "|90cc21b573f11766d...|  Nurse Practitioner|   4 years|          RENT|      78000.0|           TN|          377xx|            USA|    C|       C1|    Source Verified|               130529.0|      Individual|              null|                     null|2024-03-12 17:34:...|\n",
       "|ccdd4e2608c1e6e52...|Operating Assistance| 10+ years|      MORTGAGE|      52000.0|           OH|          432xx|            USA|    B|       B4|           Verified|               134779.0|      Individual|              null|                     null|2024-03-12 17:34:...|\n",
       "|30a32812787eaad69...|     Asst. Dir of HR|  < 1 year|      MORTGAGE|      55000.0|           OK|          730xx|            USA|    F|       F4|    Source Verified|               105304.0|      Individual|              null|                     null|2024-03-12 17:34:...|\n",
       "|b64f9132157e3be36...|Asst. Vice-President| 10+ years|           OWN|      45000.0|           CT|          060xx|            USA|    B|       B5|           Verified|                81477.0|      Individual|              null|                     null|2024-03-12 17:34:...|\n",
       "|7ed3ac4a4c33f3559...|          Magistrate| 10+ years|      MORTGAGE|     139000.0|           NY|          117xx|            USA|    B|       B1|    Source Verified|               573907.0|      Individual|              null|                     null|2024-03-12 17:34:...|\n",
       "|76ccd8d5dd07cdcf0...|             Manager| 10+ years|      MORTGAGE|      60000.0|           NY|          130xx|            USA|    B|       B3|    Source Verified|                31390.0|      Individual|              null|                     null|2024-03-12 17:34:...|\n",
       "|dd0b73ca822b5afe9...|      Vice President|   3 years|      MORTGAGE|     125000.0|           MO|          652xx|            USA|    D|       D1|           Verified|               195321.0|      Individual|              null|                     null|2024-03-12 17:34:...|\n",
       "|8a0cb1b1c264e7829...|Principal Tax Acc...|   7 years|          RENT|      97200.0|           MA|          017xx|            USA|    C|       C4|    Source Verified|                41700.0|      Individual|              null|                     null|2024-03-12 17:34:...|\n",
       "|5aa7a9c3fe835ac76...|                null|      null|      MORTGAGE|      37330.0|           OH|          431xx|            USA|    B|       B3|           Verified|               251817.0|      Individual|              null|                     null|2024-03-12 17:34:...|\n",
       "|77092cbf6ed0baf3d...|Sales and Finance...|   2 years|          RENT|      38500.0|           GA|          305xx|            USA|    B|       B5|    Source Verified|                70538.0|      Individual|              null|                     null|2024-03-12 17:34:...|\n",
       "|9438891b17086d11a...|Senior Field Serv...| 10+ years|      MORTGAGE|      85000.0|           CA|          940xx|            USA|    A|       A4|       Not Verified|              1002139.0|      Individual|              null|                     null|2024-03-12 17:34:...|\n",
       "|3f95d2ad316cd412a...|      dermatology PA| 10+ years|      MORTGAGE|     360000.0|           KS|          660xx|            USA|    D|       D4|    Source Verified|               484866.0|      Individual|              null|                     null|2024-03-12 17:34:...|\n",
       "|6e9fd5a2f16bf493c...|    Registered nurse|   4 years|      MORTGAGE|      60000.0|           FL|          331xx|            USA|    A|       A2|       Not Verified|               144326.0|      Individual|              null|                     null|2024-03-12 17:34:...|\n",
       "+--------------------+--------------------+----------+--------------+-------------+-------------+---------------+---------------+-----+---------+-------------------+-----------------------+----------------+------------------+-------------------------+--------------------+\n",
       "only showing top 20 rows"
      ]
     },
     "execution_count": 132,
     "metadata": {},
     "output_type": "execute_result"
    }
   ],
   "source": [
    "spark.sql(\"select * from customers\")"
   ]
  },
  {
   "cell_type": "code",
   "execution_count": 133,
   "id": "c8825448",
   "metadata": {},
   "outputs": [
    {
     "data": {
      "text/html": [
       "<table border='1'>\n",
       "<tr><th>count(1)</th></tr>\n",
       "<tr><td>5</td></tr>\n",
       "</table>\n"
      ],
      "text/plain": [
       "+--------+\n",
       "|count(1)|\n",
       "+--------+\n",
       "|       5|\n",
       "+--------+"
      ]
     },
     "execution_count": 133,
     "metadata": {},
     "output_type": "execute_result"
    }
   ],
   "source": [
    "spark.sql(\"select count(*) from customers where annual_income is null\")"
   ]
  },
  {
   "cell_type": "code",
   "execution_count": 134,
   "id": "747261be",
   "metadata": {},
   "outputs": [],
   "source": [
    "customers_income_filtered = spark.sql(\"select * from customers where annual_income is not null\")"
   ]
  },
  {
   "cell_type": "code",
   "execution_count": 135,
   "id": "2d9cb6aa",
   "metadata": {},
   "outputs": [],
   "source": [
    "customers_income_filtered.createOrReplaceTempView(\"customers\")"
   ]
  },
  {
   "cell_type": "code",
   "execution_count": 136,
   "id": "1f11e2e3",
   "metadata": {},
   "outputs": [],
   "source": [
    "from pyspark.sql.functions import regexp_replace, col"
   ]
  },
  {
   "cell_type": "code",
   "execution_count": 137,
   "id": "a97f1322",
   "metadata": {},
   "outputs": [],
   "source": [
    "customers_employment_length_cleaned = customers_income_filtered.withColumn(\"emp_length\",regexp_replace(col(\"emp_length\"),\"\\D\",\"\"))"
   ]
  },
  {
   "cell_type": "code",
   "execution_count": 138,
   "id": "d5fd76e0",
   "metadata": {},
   "outputs": [
    {
     "data": {
      "text/html": [
       "<table border='1'>\n",
       "<tr><th>member_id</th><th>emp_title</th><th>emp_length</th><th>home_ownership</th><th>annual_income</th><th>address_state</th><th>address_zipcode</th><th>address_country</th><th>grade</th><th>sub_grade</th><th>verification_status</th><th>total_high_credit_limit</th><th>application_type</th><th>join_annual_income</th><th>verification_status_joint</th><th>ingest_date</th></tr>\n",
       "<tr><td>53cb0bbcffa80ba4a...</td><td>Nurse assistant</td><td>10</td><td>RENT</td><td>52000.0</td><td>CA</td><td>944xx</td><td>USA</td><td>C</td><td>C3</td><td>Not Verified</td><td>48435.0</td><td>Individual</td><td>null</td><td>null</td><td>2024-03-12 17:35:...</td></tr>\n",
       "<tr><td>a458913dcc4537324...</td><td>maintenance</td><td>10</td><td>MORTGAGE</td><td>105000.0</td><td>IN</td><td>473xx</td><td>USA</td><td>B</td><td>B3</td><td>Not Verified</td><td>243004.0</td><td>Individual</td><td>null</td><td>null</td><td>2024-03-12 17:35:...</td></tr>\n",
       "<tr><td>30570c6690c9ac315...</td><td>null</td><td>null</td><td>OWN</td><td>30000.0</td><td>NC</td><td>275xx</td><td>USA</td><td>A</td><td>A5</td><td>Not Verified</td><td>53200.0</td><td>Individual</td><td>null</td><td>null</td><td>2024-03-12 17:35:...</td></tr>\n",
       "<tr><td>939beeb844750e341...</td><td>Sr IT Business An...</td><td>10</td><td>MORTGAGE</td><td>90000.0</td><td>NC</td><td>280xx</td><td>USA</td><td>A</td><td>A5</td><td>Verified</td><td>63605.0</td><td>Individual</td><td>null</td><td>null</td><td>2024-03-12 17:35:...</td></tr>\n",
       "<tr><td>52cc002a63722b3a6...</td><td>K3 Life Skills Te...</td><td>3</td><td>RENT</td><td>33000.0</td><td>TN</td><td>371xx</td><td>USA</td><td>C</td><td>C1</td><td>Source Verified</td><td>41000.0</td><td>Individual</td><td>null</td><td>null</td><td>2024-03-12 17:35:...</td></tr>\n",
       "<tr><td>8b70dd165df74149f...</td><td>Vice President</td><td>10</td><td>MORTGAGE</td><td>160000.0</td><td>OK</td><td>740xx</td><td>USA</td><td>A</td><td>A4</td><td>Not Verified</td><td>575280.0</td><td>Joint App</td><td>188000.0</td><td>Not Verified</td><td>2024-03-12 17:35:...</td></tr>\n",
       "<tr><td>3a4139206f262a884...</td><td>irrigation tec</td><td>10</td><td>MORTGAGE</td><td>48000.0</td><td>MI</td><td>480xx</td><td>USA</td><td>B</td><td>B1</td><td>Not Verified</td><td>41832.0</td><td>Individual</td><td>null</td><td>null</td><td>2024-03-12 17:35:...</td></tr>\n",
       "<tr><td>837809100b1bac449...</td><td>Mechanic</td><td>10</td><td>RENT</td><td>59000.0</td><td>TX</td><td>761xx</td><td>USA</td><td>A</td><td>A3</td><td>Verified</td><td>81900.0</td><td>Individual</td><td>null</td><td>null</td><td>2024-03-12 17:35:...</td></tr>\n",
       "<tr><td>d2e6f70a74c915f88...</td><td>Operations Manager</td><td>9</td><td>OWN</td><td>125000.0</td><td>NY</td><td>112xx</td><td>USA</td><td>B</td><td>B3</td><td>Not Verified</td><td>524736.0</td><td>Individual</td><td>null</td><td>null</td><td>2024-03-12 17:35:...</td></tr>\n",
       "<tr><td>11fe2f6f7027fe092...</td><td>Sr Administrative...</td><td>3</td><td>RENT</td><td>79800.0</td><td>CA</td><td>940xx</td><td>USA</td><td>B</td><td>B2</td><td>Source Verified</td><td>97037.0</td><td>Joint App</td><td>132800.0</td><td>Not Verified</td><td>2024-03-12 17:35:...</td></tr>\n",
       "<tr><td>0f25c042452856383...</td><td>Senior Sales Manager</td><td>1</td><td>RENT</td><td>55000.0</td><td>FL</td><td>337xx</td><td>USA</td><td>A</td><td>A3</td><td>Not Verified</td><td>96637.0</td><td>Individual</td><td>null</td><td>null</td><td>2024-03-12 17:35:...</td></tr>\n",
       "<tr><td>4c22cb58af40f712d...</td><td>Technician servic...</td><td>5</td><td>RENT</td><td>60000.0</td><td>TX</td><td>799xx</td><td>USA</td><td>B</td><td>B4</td><td>Source Verified</td><td>93125.0</td><td>Individual</td><td>null</td><td>null</td><td>2024-03-12 17:35:...</td></tr>\n",
       "<tr><td>f8542ae01e98e417f...</td><td>warehouse associate</td><td>3</td><td>RENT</td><td>30000.0</td><td>TX</td><td>760xx</td><td>USA</td><td>C</td><td>C5</td><td>Source Verified</td><td>27228.0</td><td>Joint App</td><td>60000.0</td><td>Source Verified</td><td>2024-03-12 17:35:...</td></tr>\n",
       "<tr><td>7ab7ffb11631cc16f...</td><td>Sous chef</td><td>1</td><td>OWN</td><td>52000.0</td><td>NY</td><td>105xx</td><td>USA</td><td>A</td><td>A5</td><td>Not Verified</td><td>29720.0</td><td>Individual</td><td>null</td><td>null</td><td>2024-03-12 17:35:...</td></tr>\n",
       "<tr><td>72a3fecf96cf4b2df...</td><td>null</td><td>null</td><td>RENT</td><td>32000.0</td><td>FL</td><td>334xx</td><td>USA</td><td>B</td><td>B4</td><td>Verified</td><td>8000.0</td><td>Individual</td><td>null</td><td>null</td><td>2024-03-12 17:35:...</td></tr>\n",
       "<tr><td>d00e502a4fba01031...</td><td>Teacher</td><td>9</td><td>MORTGAGE</td><td>75000.0</td><td>WI</td><td>530xx</td><td>USA</td><td>A</td><td>A5</td><td>Not Verified</td><td>377287.0</td><td>Joint App</td><td>115500.0</td><td>Not Verified</td><td>2024-03-12 17:35:...</td></tr>\n",
       "<tr><td>ce971ac0c30a92b8f...</td><td>Senior process an...</td><td>10</td><td>MORTGAGE</td><td>67000.0</td><td>OH</td><td>430xx</td><td>USA</td><td>A</td><td>A1</td><td>Not Verified</td><td>195061.0</td><td>Individual</td><td>null</td><td>null</td><td>2024-03-12 17:35:...</td></tr>\n",
       "<tr><td>b6de8ae660709c7bf...</td><td>Medical Assistant</td><td>6</td><td>RENT</td><td>45000.0</td><td>NY</td><td>112xx</td><td>USA</td><td>B</td><td>B1</td><td>Source Verified</td><td>50611.0</td><td>Individual</td><td>null</td><td>null</td><td>2024-03-12 17:35:...</td></tr>\n",
       "<tr><td>03ae096f13b966c5b...</td><td>Cyber Warfare</td><td>10</td><td>MORTGAGE</td><td>116000.0</td><td>PA</td><td>166xx</td><td>USA</td><td>C</td><td>C2</td><td>Not Verified</td><td>242511.0</td><td>Joint App</td><td>136000.0</td><td>Not Verified</td><td>2024-03-12 17:35:...</td></tr>\n",
       "<tr><td>d9e1557f093636ace...</td><td>null</td><td>null</td><td>OWN</td><td>35000.0</td><td>LA</td><td>713xx</td><td>USA</td><td>C</td><td>C3</td><td>Source Verified</td><td>40900.0</td><td>Individual</td><td>null</td><td>null</td><td>2024-03-12 17:35:...</td></tr>\n",
       "</table>\n",
       "only showing top 20 rows\n"
      ],
      "text/plain": [
       "+--------------------+--------------------+----------+--------------+-------------+-------------+---------------+---------------+-----+---------+-------------------+-----------------------+----------------+------------------+-------------------------+--------------------+\n",
       "|           member_id|           emp_title|emp_length|home_ownership|annual_income|address_state|address_zipcode|address_country|grade|sub_grade|verification_status|total_high_credit_limit|application_type|join_annual_income|verification_status_joint|         ingest_date|\n",
       "+--------------------+--------------------+----------+--------------+-------------+-------------+---------------+---------------+-----+---------+-------------------+-----------------------+----------------+------------------+-------------------------+--------------------+\n",
       "|c0e01f8f5d38674ee...|          Technician|        10|      MORTGAGE|      90000.0|           NY|          104xx|            USA|    E|       E5|           Verified|               170892.0|      Individual|              null|                     null|2024-03-12 17:35:...|\n",
       "|da6adf2ee424aad6f...|            Engineer|         1|      MORTGAGE|     100000.0|           SC|          294xx|            USA|    D|       D1|           Verified|               447519.0|      Individual|              null|                     null|2024-03-12 17:35:...|\n",
       "|993a1d42bbe9d4cb1...|Painter Wallcovering|        10|          RENT|      52000.0|           NY|          100xx|            USA|    B|       B3|       Not Verified|                42000.0|      Individual|              null|                     null|2024-03-12 17:35:...|\n",
       "|944349a9dca6ed5c9...|           Paralegal|         4|      MORTGAGE|      70000.0|           FL|          337xx|            USA|    B|       B1|    Source Verified|               292086.0|      Individual|              null|                     null|2024-03-12 17:35:...|\n",
       "|2d4373abb4cae7390...|Risk Management M...|         6|          RENT|      69000.0|           CA|          919xx|            USA|    B|       B4|       Not Verified|                84897.0|      Individual|              null|                     null|2024-03-12 17:35:...|\n",
       "|d1581636c0328f28e...|                null|      null|           OWN|      40000.0|           PA|          174xx|            USA|    B|       B4|           Verified|                42400.0|      Individual|              null|                     null|2024-03-12 17:35:...|\n",
       "|5f60e46f4b046bfdc...|    Material Handler|         4|      MORTGAGE|      30000.0|           GA|          301xx|            USA|    C|       C1|    Source Verified|                33181.0|      Individual|              null|                     null|2024-03-12 17:35:...|\n",
       "|6305e4178d570a805...|Business Sales Ma...|        10|      MORTGAGE|     105000.0|           TX|          761xx|            USA|    F|       F2|       Not Verified|               216809.0|      Individual|              null|                     null|2024-03-12 17:35:...|\n",
       "|c217e1bf758ab80ca...|        Asst Manager|         1|          RENT|      46000.0|           NC|          275xx|            USA|    A|       A3|       Not Verified|                57458.0|      Individual|              null|                     null|2024-03-12 17:35:...|\n",
       "|d4205b2638e5878a0...|           Bartender|         4|          RENT|      23000.0|           CA|          917xx|            USA|    D|       D1|    Source Verified|                51190.0|      Individual|              null|                     null|2024-03-12 17:35:...|\n",
       "|2af49d3c92e632687...|Receiving Coordin...|         6|      MORTGAGE|      45000.0|           SC|          291xx|            USA|    D|       D2|       Not Verified|               129573.0|      Individual|              null|                     null|2024-03-12 17:35:...|\n",
       "|8866a1525ec981505...|              Dealer|         1|          RENT|      28200.0|           IL|          606xx|            USA|    B|       B4|    Source Verified|                32915.0|      Individual|              null|                     null|2024-03-12 17:35:...|\n",
       "|e9a7d17ce6602773d...|          Technician|         6|          RENT|      45400.0|           NY|          101xx|            USA|    D|       D2|       Not Verified|                69683.0|      Individual|              null|                     null|2024-03-12 17:35:...|\n",
       "|350dcf243abe67119...|                null|      null|           OWN|     145000.0|           FL|          334xx|            USA|    E|       E1|           Verified|               117361.0|      Individual|              null|                     null|2024-03-12 17:35:...|\n",
       "|0703ad5e184666628...|Security Program ...|         4|          RENT|      52000.0|           CA|          959xx|            USA|    C|       C1|           Verified|                30400.0|      Individual|              null|                     null|2024-03-12 17:35:...|\n",
       "|7e7ce613311df1b10...|               sales|        10|          RENT|      32000.0|           CA|          953xx|            USA|    C|       C4|       Not Verified|                 8500.0|      Individual|              null|                     null|2024-03-12 17:35:...|\n",
       "|d36a0dc8f6779f714...|          supervisor|        10|      MORTGAGE|      50000.0|           WI|          535xx|            USA|    D|       D3|    Source Verified|               153723.0|      Individual|              null|                     null|2024-03-12 17:35:...|\n",
       "|9093dbb7fda95f594...|        Case manager|         6|      MORTGAGE|      37000.0|           TX|          759xx|            USA|    C|       C3|    Source Verified|                96870.0|      Individual|              null|                     null|2024-03-12 17:35:...|\n",
       "|314d93fc4283ff180...|                 CFO|         9|      MORTGAGE|     310000.0|           CA|          900xx|            USA|    C|       C3|           Verified|              1042712.0|      Individual|              null|                     null|2024-03-12 17:35:...|\n",
       "|3f6a0ca53a5bf9f5c...|             Faculty|         5|           OWN|      65000.0|           NY|          140xx|            USA|    B|       B1|       Not Verified|               231500.0|      Individual|              null|                     null|2024-03-12 17:35:...|\n",
       "+--------------------+--------------------+----------+--------------+-------------+-------------+---------------+---------------+-----+---------+-------------------+-----------------------+----------------+------------------+-------------------------+--------------------+\n",
       "only showing top 20 rows"
      ]
     },
     "execution_count": 138,
     "metadata": {},
     "output_type": "execute_result"
    }
   ],
   "source": [
    "customers_employment_length_cleaned"
   ]
  },
  {
   "cell_type": "code",
   "execution_count": 139,
   "id": "99da68cd",
   "metadata": {},
   "outputs": [
    {
     "name": "stdout",
     "output_type": "stream",
     "text": [
      "root\n",
      " |-- member_id: string (nullable = true)\n",
      " |-- emp_title: string (nullable = true)\n",
      " |-- emp_length: string (nullable = true)\n",
      " |-- home_ownership: string (nullable = true)\n",
      " |-- annual_income: float (nullable = true)\n",
      " |-- address_state: string (nullable = true)\n",
      " |-- address_zipcode: string (nullable = true)\n",
      " |-- address_country: string (nullable = true)\n",
      " |-- grade: string (nullable = true)\n",
      " |-- sub_grade: string (nullable = true)\n",
      " |-- verification_status: string (nullable = true)\n",
      " |-- total_high_credit_limit: float (nullable = true)\n",
      " |-- application_type: string (nullable = true)\n",
      " |-- join_annual_income: float (nullable = true)\n",
      " |-- verification_status_joint: string (nullable = true)\n",
      " |-- ingest_date: timestamp (nullable = false)\n",
      "\n"
     ]
    }
   ],
   "source": [
    "customers_employment_length_cleaned.printSchema()"
   ]
  },
  {
   "cell_type": "code",
   "execution_count": 140,
   "id": "a318364d",
   "metadata": {},
   "outputs": [],
   "source": [
    "customers_emplength_casted = customers_employment_length_cleaned.withColumn(\"emp_length\",customers_employment_length_cleaned.emp_length.cast('int'))"
   ]
  },
  {
   "cell_type": "code",
   "execution_count": 141,
   "id": "1e4085cc",
   "metadata": {},
   "outputs": [
    {
     "data": {
      "text/html": [
       "<table border='1'>\n",
       "<tr><th>member_id</th><th>emp_title</th><th>emp_length</th><th>home_ownership</th><th>annual_income</th><th>address_state</th><th>address_zipcode</th><th>address_country</th><th>grade</th><th>sub_grade</th><th>verification_status</th><th>total_high_credit_limit</th><th>application_type</th><th>join_annual_income</th><th>verification_status_joint</th><th>ingest_date</th></tr>\n",
       "<tr><td>dd487e4d363d7f6d3...</td><td>assist ink blender</td><td>10</td><td>OWN</td><td>55000.0</td><td>WI</td><td>549xx</td><td>USA</td><td>B</td><td>B1</td><td>Not Verified</td><td>119011.0</td><td>Individual</td><td>null</td><td>null</td><td>2024-03-12 17:35:...</td></tr>\n",
       "<tr><td>66c0acba3f4565c1b...</td><td>General Manager</td><td>10</td><td>MORTGAGE</td><td>225000.0</td><td>VT</td><td>053xx</td><td>USA</td><td>B</td><td>B1</td><td>Source Verified</td><td>119697.0</td><td>Individual</td><td>null</td><td>null</td><td>2024-03-12 17:35:...</td></tr>\n",
       "<tr><td>ba3a38adb6cb9fcf8...</td><td>PASS Program Manager</td><td>1</td><td>MORTGAGE</td><td>92000.0</td><td>IL</td><td>606xx</td><td>USA</td><td>C</td><td>C4</td><td>Verified</td><td>202769.0</td><td>Individual</td><td>null</td><td>null</td><td>2024-03-12 17:35:...</td></tr>\n",
       "<tr><td>dba794120c4ead047...</td><td>Court Officer</td><td>10</td><td>MORTGAGE</td><td>75000.0</td><td>NY</td><td>125xx</td><td>USA</td><td>C</td><td>C4</td><td>Not Verified</td><td>297921.0</td><td>Individual</td><td>null</td><td>null</td><td>2024-03-12 17:35:...</td></tr>\n",
       "<tr><td>1d2923d0303f641c0...</td><td>Computer Specialist</td><td>5</td><td>OWN</td><td>49000.0</td><td>NY</td><td>113xx</td><td>USA</td><td>B</td><td>B5</td><td>Source Verified</td><td>91725.0</td><td>Individual</td><td>null</td><td>null</td><td>2024-03-12 17:35:...</td></tr>\n",
       "<tr><td>30bf0014a37a26b6b...</td><td>shareholder</td><td>10</td><td>OWN</td><td>190000.0</td><td>NJ</td><td>070xx</td><td>USA</td><td>C</td><td>C3</td><td>Not Verified</td><td>793541.0</td><td>Individual</td><td>null</td><td>null</td><td>2024-03-12 17:35:...</td></tr>\n",
       "<tr><td>dfc18dc83aebfedc9...</td><td>Admin. Asst./HR</td><td>10</td><td>OWN</td><td>36000.0</td><td>AL</td><td>361xx</td><td>USA</td><td>D</td><td>D2</td><td>Not Verified</td><td>27400.0</td><td>Individual</td><td>null</td><td>null</td><td>2024-03-12 17:35:...</td></tr>\n",
       "<tr><td>2c3cf0c7a084104a2...</td><td>Support Engineer</td><td>2</td><td>MORTGAGE</td><td>71000.0</td><td>AL</td><td>350xx</td><td>USA</td><td>C</td><td>C4</td><td>Not Verified</td><td>187187.0</td><td>Individual</td><td>null</td><td>null</td><td>2024-03-12 17:35:...</td></tr>\n",
       "<tr><td>eb1eda3afc50c1293...</td><td>owner</td><td>10</td><td>OWN</td><td>36000.0</td><td>FL</td><td>337xx</td><td>USA</td><td>C</td><td>C3</td><td>Source Verified</td><td>53394.0</td><td>Individual</td><td>null</td><td>null</td><td>2024-03-12 17:35:...</td></tr>\n",
       "<tr><td>75a4866b295496320...</td><td>CEO</td><td>4</td><td>MORTGAGE</td><td>80000.0</td><td>FL</td><td>330xx</td><td>USA</td><td>B</td><td>B1</td><td>Not Verified</td><td>49599.0</td><td>Individual</td><td>null</td><td>null</td><td>2024-03-12 17:35:...</td></tr>\n",
       "<tr><td>467b5199064959687...</td><td>Inspector</td><td>9</td><td>RENT</td><td>98000.0</td><td>LA</td><td>706xx</td><td>USA</td><td>C</td><td>C4</td><td>Source Verified</td><td>33578.0</td><td>Individual</td><td>null</td><td>null</td><td>2024-03-12 17:35:...</td></tr>\n",
       "<tr><td>eb2b456b1cdb094f8...</td><td>President</td><td>10</td><td>MORTGAGE</td><td>100000.0</td><td>CA</td><td>928xx</td><td>USA</td><td>C</td><td>C3</td><td>Source Verified</td><td>505219.0</td><td>Individual</td><td>null</td><td>null</td><td>2024-03-12 17:35:...</td></tr>\n",
       "<tr><td>69f58bc92512d7805...</td><td>Director</td><td>10</td><td>OWN</td><td>225000.0</td><td>CT</td><td>060xx</td><td>USA</td><td>A</td><td>A1</td><td>Source Verified</td><td>635534.0</td><td>Individual</td><td>null</td><td>null</td><td>2024-03-12 17:35:...</td></tr>\n",
       "<tr><td>3ccdb167b714d6665...</td><td>Branch Manager</td><td>1</td><td>RENT</td><td>60000.0</td><td>IL</td><td>605xx</td><td>USA</td><td>B</td><td>B4</td><td>Source Verified</td><td>90310.0</td><td>Individual</td><td>null</td><td>null</td><td>2024-03-12 17:35:...</td></tr>\n",
       "<tr><td>69810df5334e993e5...</td><td>Manager</td><td>2</td><td>OWN</td><td>32000.0</td><td>MI</td><td>497xx</td><td>USA</td><td>E</td><td>E5</td><td>Source Verified</td><td>23708.0</td><td>Individual</td><td>null</td><td>null</td><td>2024-03-12 17:35:...</td></tr>\n",
       "<tr><td>43ca354a7fab148c4...</td><td>Facilties Coordin...</td><td>6</td><td>RENT</td><td>45000.0</td><td>TX</td><td>750xx</td><td>USA</td><td>B</td><td>B4</td><td>Source Verified</td><td>23961.0</td><td>Individual</td><td>null</td><td>null</td><td>2024-03-12 17:35:...</td></tr>\n",
       "<tr><td>1cf442ffa189afa62...</td><td>President/CEO/ Ma...</td><td>10</td><td>MORTGAGE</td><td>220000.0</td><td>GA</td><td>301xx</td><td>USA</td><td>C</td><td>C1</td><td>Source Verified</td><td>61924.0</td><td>Individual</td><td>null</td><td>null</td><td>2024-03-12 17:35:...</td></tr>\n",
       "<tr><td>4e8016641f03266fb...</td><td>franchise owner</td><td>10</td><td>MORTGAGE</td><td>58000.0</td><td>TN</td><td>370xx</td><td>USA</td><td>D</td><td>D2</td><td>Not Verified</td><td>234286.0</td><td>Individual</td><td>null</td><td>null</td><td>2024-03-12 17:35:...</td></tr>\n",
       "<tr><td>df9226073f9f55d6e...</td><td>IT Manager</td><td>8</td><td>MORTGAGE</td><td>80000.0</td><td>OH</td><td>441xx</td><td>USA</td><td>A</td><td>A4</td><td>Not Verified</td><td>225232.0</td><td>Individual</td><td>null</td><td>null</td><td>2024-03-12 17:35:...</td></tr>\n",
       "<tr><td>399bd740f1a9f0d85...</td><td>Senior Process En...</td><td>3</td><td>RENT</td><td>92000.0</td><td>AZ</td><td>850xx</td><td>USA</td><td>C</td><td>C5</td><td>Verified</td><td>43889.0</td><td>Individual</td><td>null</td><td>null</td><td>2024-03-12 17:35:...</td></tr>\n",
       "</table>\n",
       "only showing top 20 rows\n"
      ],
      "text/plain": [
       "+--------------------+--------------------+----------+--------------+-------------+-------------+---------------+---------------+-----+---------+-------------------+-----------------------+----------------+------------------+-------------------------+--------------------+\n",
       "|           member_id|           emp_title|emp_length|home_ownership|annual_income|address_state|address_zipcode|address_country|grade|sub_grade|verification_status|total_high_credit_limit|application_type|join_annual_income|verification_status_joint|         ingest_date|\n",
       "+--------------------+--------------------+----------+--------------+-------------+-------------+---------------+---------------+-----+---------+-------------------+-----------------------+----------------+------------------+-------------------------+--------------------+\n",
       "|11318fa3442737d8a...|      Gate Inspector|         3|          RENT|      40000.0|           CA|          907xx|            USA|    A|       A1|       Not Verified|                41700.0|      Individual|              null|                     null|2024-03-12 17:35:...|\n",
       "|9049b0c5b07f2737e...|         Hairstylist|         1|          RENT|      25000.0|           IN|          462xx|            USA|    E|       E4|    Source Verified|                18822.0|      Individual|              null|                     null|2024-03-12 17:35:...|\n",
       "|f2ea7b34a4de8cf95...|Business System A...|        10|      MORTGAGE|     112000.0|           CA|          928xx|            USA|    B|       B1|           Verified|               562300.0|      Individual|              null|                     null|2024-03-12 17:35:...|\n",
       "|b750ec184a46708fc...|Director - Retail...|         7|      MORTGAGE|     160000.0|           MI|          483xx|            USA|    A|       A3|           Verified|               526310.0|      Individual|              null|                     null|2024-03-12 17:35:...|\n",
       "|79cc4fbdcfca4a2ef...|             Chemist|         7|      MORTGAGE|     117000.0|           TX|          775xx|            USA|    C|       C5|    Source Verified|               347968.0|      Individual|              null|                     null|2024-03-12 17:35:...|\n",
       "|5b783c0fd9c9437b5...|        Psychiatrist|         2|      MORTGAGE|     298000.0|           FL|          334xx|            USA|    C|       C3|    Source Verified|               101694.0|      Individual|              null|                     null|2024-03-12 17:35:...|\n",
       "|b46cd77797b417427...|      security guard|         1|          RENT|      40000.0|           IL|          604xx|            USA|    C|       C3|           Verified|                23714.0|       Joint App|           80000.0|          Source Verified|2024-03-12 17:35:...|\n",
       "|b31ec69d68d8a614f...|            Attorney|        10|          RENT|     190000.0|           VA|          220xx|            USA|    B|       B2|    Source Verified|               263863.0|      Individual|              null|                     null|2024-03-12 17:35:...|\n",
       "|8e0186621d560259c...|     Sytems Engineer|         1|      MORTGAGE|      98000.0|           GA|          303xx|            USA|    A|       A5|    Source Verified|               328592.0|      Individual|              null|                     null|2024-03-12 17:35:...|\n",
       "|a454d051b651a4c2b...|Assistant Project...|         1|           OWN|     150000.0|           VA|          220xx|            USA|    A|       A2|    Source Verified|               282488.0|       Joint App|          150000.0|             Not Verified|2024-03-12 17:35:...|\n",
       "|eab1cbd321681f3bc...|         Sr. Analyst|        10|      MORTGAGE|     120000.0|           IL|          605xx|            USA|    A|       A3|       Not Verified|               159100.0|      Individual|              null|                     null|2024-03-12 17:35:...|\n",
       "|f8a2ad83abdb8a7a8...|   MEDICAL ASSISTANT|         4|          RENT|      75000.0|           CA|          913xx|            USA|    B|       B2|           Verified|                68728.0|      Individual|              null|                     null|2024-03-12 17:35:...|\n",
       "|21a0460173decfb51...|  Nurse Practitioner|         1|      MORTGAGE|     100000.0|           OH|          450xx|            USA|    A|       A5|           Verified|              1030595.0|       Joint App|          275000.0|                 Verified|2024-03-12 17:35:...|\n",
       "|3ce52d4e6b5450854...|        Undersheriff|         1|      MORTGAGE|      65000.0|           MT|          593xx|            USA|    C|       C5|           Verified|               270083.0|       Joint App|          185000.0|                 Verified|2024-03-12 17:35:...|\n",
       "|bfcad31ed3dd4ede2...|                  RN|         1|          RENT|      59700.0|           OH|          441xx|            USA|    D|       D3|    Source Verified|                69562.0|      Individual|              null|                     null|2024-03-12 17:35:...|\n",
       "|ce79f90e8b8a154ce...|              Spicer|         4|           OWN|     112000.0|           NJ|          080xx|            USA|    B|       B1|           Verified|               279374.0|      Individual|              null|                     null|2024-03-12 17:35:...|\n",
       "|81e9683d08e80f9e6...|       music teacher|        10|      MORTGAGE|      60000.0|           AL|          361xx|            USA|    C|       C4|    Source Verified|               144680.0|      Individual|              null|                     null|2024-03-12 17:35:...|\n",
       "|e90a2f5a08d13b670...|Web Creative Manager|        10|           OWN|      94000.0|           CA|          950xx|            USA|    C|       C5|           Verified|               714042.0|      Individual|              null|                     null|2024-03-12 17:35:...|\n",
       "|9bda688ead68ccfa1...|Associate/Sales C...|         6|           OWN|      36000.0|           PA|          150xx|            USA|    B|       B4|       Not Verified|                23260.0|      Individual|              null|                     null|2024-03-12 17:35:...|\n",
       "|3fa1204049ebd1b6f...|Logistics Manger ...|         3|          RENT|      50000.0|           CA|          953xx|            USA|    A|       A4|       Not Verified|                68066.0|      Individual|              null|                     null|2024-03-12 17:35:...|\n",
       "+--------------------+--------------------+----------+--------------+-------------+-------------+---------------+---------------+-----+---------+-------------------+-----------------------+----------------+------------------+-------------------------+--------------------+\n",
       "only showing top 20 rows"
      ]
     },
     "execution_count": 141,
     "metadata": {},
     "output_type": "execute_result"
    }
   ],
   "source": [
    "customers_emplength_casted"
   ]
  },
  {
   "cell_type": "code",
   "execution_count": 142,
   "id": "a7ac3c83",
   "metadata": {},
   "outputs": [
    {
     "name": "stdout",
     "output_type": "stream",
     "text": [
      "root\n",
      " |-- member_id: string (nullable = true)\n",
      " |-- emp_title: string (nullable = true)\n",
      " |-- emp_length: integer (nullable = true)\n",
      " |-- home_ownership: string (nullable = true)\n",
      " |-- annual_income: float (nullable = true)\n",
      " |-- address_state: string (nullable = true)\n",
      " |-- address_zipcode: string (nullable = true)\n",
      " |-- address_country: string (nullable = true)\n",
      " |-- grade: string (nullable = true)\n",
      " |-- sub_grade: string (nullable = true)\n",
      " |-- verification_status: string (nullable = true)\n",
      " |-- total_high_credit_limit: float (nullable = true)\n",
      " |-- application_type: string (nullable = true)\n",
      " |-- join_annual_income: float (nullable = true)\n",
      " |-- verification_status_joint: string (nullable = true)\n",
      " |-- ingest_date: timestamp (nullable = false)\n",
      "\n"
     ]
    }
   ],
   "source": [
    "customers_emplength_casted.printSchema()"
   ]
  },
  {
   "cell_type": "code",
   "execution_count": 143,
   "id": "049804cd",
   "metadata": {},
   "outputs": [
    {
     "data": {
      "text/plain": [
       "146903"
      ]
     },
     "execution_count": 143,
     "metadata": {},
     "output_type": "execute_result"
    }
   ],
   "source": [
    "customers_emplength_casted.filter(\"emp_length is null\").count()"
   ]
  },
  {
   "cell_type": "code",
   "execution_count": 144,
   "id": "f424ab94",
   "metadata": {},
   "outputs": [],
   "source": [
    "customers_emplength_casted.createOrReplaceTempView(\"customers\")"
   ]
  },
  {
   "cell_type": "code",
   "execution_count": 145,
   "id": "33a346f7",
   "metadata": {},
   "outputs": [],
   "source": [
    "avg_emp_length = spark.sql(\"select floor(avg(emp_length)) as avg_emp_length from customers\").collect()"
   ]
  },
  {
   "cell_type": "code",
   "execution_count": 146,
   "id": "91f0e27c",
   "metadata": {},
   "outputs": [
    {
     "name": "stdout",
     "output_type": "stream",
     "text": [
      "[Row(avg_emp_length=6)]\n"
     ]
    }
   ],
   "source": [
    "print(avg_emp_length)"
   ]
  },
  {
   "cell_type": "code",
   "execution_count": 147,
   "id": "755e6e7e",
   "metadata": {},
   "outputs": [],
   "source": [
    "avg_emp_duration= avg_emp_length[0][0]"
   ]
  },
  {
   "cell_type": "code",
   "execution_count": 148,
   "id": "a6bc73ab",
   "metadata": {},
   "outputs": [
    {
     "data": {
      "text/plain": [
       "6"
      ]
     },
     "execution_count": 148,
     "metadata": {},
     "output_type": "execute_result"
    }
   ],
   "source": [
    "avg_emp_duration"
   ]
  },
  {
   "cell_type": "code",
   "execution_count": 149,
   "id": "ffb78707",
   "metadata": {},
   "outputs": [],
   "source": [
    "customers_emplength_replaced= customers_emplength_casted.na.fill(avg_emp_duration,subset= ['emp_length'])"
   ]
  },
  {
   "cell_type": "code",
   "execution_count": 150,
   "id": "0c50b825",
   "metadata": {},
   "outputs": [
    {
     "data": {
      "text/html": [
       "<table border='1'>\n",
       "<tr><th>member_id</th><th>emp_title</th><th>emp_length</th><th>home_ownership</th><th>annual_income</th><th>address_state</th><th>address_zipcode</th><th>address_country</th><th>grade</th><th>sub_grade</th><th>verification_status</th><th>total_high_credit_limit</th><th>application_type</th><th>join_annual_income</th><th>verification_status_joint</th><th>ingest_date</th></tr>\n",
       "<tr><td>9c81900ff2ec02898...</td><td>Paralegal</td><td>1</td><td>RENT</td><td>48006.0</td><td>MO</td><td>630xx</td><td>USA</td><td>D</td><td>D2</td><td>Not Verified</td><td>76250.0</td><td>Individual</td><td>null</td><td>null</td><td>2024-03-12 17:36:...</td></tr>\n",
       "<tr><td>80eb97c8525c521a0...</td><td>sole proprietor</td><td>10</td><td>MORTGAGE</td><td>150000.0</td><td>CO</td><td>801xx</td><td>USA</td><td>C</td><td>C1</td><td>Source Verified</td><td>687833.0</td><td>Individual</td><td>null</td><td>null</td><td>2024-03-12 17:36:...</td></tr>\n",
       "<tr><td>987f83e7ddeee7365...</td><td>Educator</td><td>10</td><td>MORTGAGE</td><td>98000.0</td><td>CA</td><td>934xx</td><td>USA</td><td>A</td><td>A3</td><td>Not Verified</td><td>55500.0</td><td>Individual</td><td>null</td><td>null</td><td>2024-03-12 17:36:...</td></tr>\n",
       "<tr><td>45323dee25640adf6...</td><td>Planner</td><td>3</td><td>MORTGAGE</td><td>60000.0</td><td>CA</td><td>917xx</td><td>USA</td><td>A</td><td>A3</td><td>Verified</td><td>556208.0</td><td>Joint App</td><td>127000.0</td><td>Verified</td><td>2024-03-12 17:36:...</td></tr>\n",
       "<tr><td>534c96bb347cab971...</td><td>Managing member</td><td>5</td><td>MORTGAGE</td><td>150000.0</td><td>CA</td><td>908xx</td><td>USA</td><td>A</td><td>A5</td><td>Source Verified</td><td>569147.0</td><td>Individual</td><td>null</td><td>null</td><td>2024-03-12 17:36:...</td></tr>\n",
       "<tr><td>8de294e3b31ba4180...</td><td>Tax Program Assis...</td><td>10</td><td>RENT</td><td>49795.0</td><td>CA</td><td>958xx</td><td>USA</td><td>D</td><td>D2</td><td>Not Verified</td><td>29600.0</td><td>Individual</td><td>null</td><td>null</td><td>2024-03-12 17:36:...</td></tr>\n",
       "<tr><td>00354b439913ee7c6...</td><td>null</td><td>6</td><td>MORTGAGE</td><td>19200.0</td><td>CA</td><td>923xx</td><td>USA</td><td>B</td><td>B3</td><td>Verified</td><td>188596.0</td><td>Joint App</td><td>94200.0</td><td>Verified</td><td>2024-03-12 17:36:...</td></tr>\n",
       "<tr><td>562f74ab41124b2a5...</td><td>Polisher</td><td>4</td><td>RENT</td><td>50453.0</td><td>RI</td><td>029xx</td><td>USA</td><td>C</td><td>C4</td><td>Source Verified</td><td>30147.0</td><td>Individual</td><td>null</td><td>null</td><td>2024-03-12 17:36:...</td></tr>\n",
       "<tr><td>b3a007ba42e4efccf...</td><td>null</td><td>6</td><td>MORTGAGE</td><td>40000.0</td><td>CA</td><td>959xx</td><td>USA</td><td>C</td><td>C3</td><td>Verified</td><td>193794.0</td><td>Individual</td><td>null</td><td>null</td><td>2024-03-12 17:36:...</td></tr>\n",
       "<tr><td>71ac5968b03476e09...</td><td>Realtor</td><td>1</td><td>RENT</td><td>55000.0</td><td>NV</td><td>891xx</td><td>USA</td><td>C</td><td>C3</td><td>Source Verified</td><td>54500.0</td><td>Individual</td><td>null</td><td>null</td><td>2024-03-12 17:36:...</td></tr>\n",
       "<tr><td>294b6df4183337fb6...</td><td>LAB ASSISTANT</td><td>10</td><td>MORTGAGE</td><td>45000.0</td><td>AL</td><td>352xx</td><td>USA</td><td>D</td><td>D4</td><td>Verified</td><td>59025.0</td><td>Individual</td><td>null</td><td>null</td><td>2024-03-12 17:36:...</td></tr>\n",
       "<tr><td>dfd49c19b8057ef01...</td><td>Rental Coordinator</td><td>10</td><td>RENT</td><td>49000.0</td><td>IN</td><td>462xx</td><td>USA</td><td>B</td><td>B2</td><td>Source Verified</td><td>51297.0</td><td>Individual</td><td>null</td><td>null</td><td>2024-03-12 17:36:...</td></tr>\n",
       "<tr><td>37940f88f564ffd74...</td><td>TEACHER</td><td>10</td><td>MORTGAGE</td><td>54000.0</td><td>OK</td><td>744xx</td><td>USA</td><td>A</td><td>A1</td><td>Source Verified</td><td>297300.0</td><td>Individual</td><td>null</td><td>null</td><td>2024-03-12 17:36:...</td></tr>\n",
       "<tr><td>73b31cd5138f48c0b...</td><td>Owner</td><td>10</td><td>MORTGAGE</td><td>130000.0</td><td>TX</td><td>795xx</td><td>USA</td><td>B</td><td>B4</td><td>Source Verified</td><td>292564.0</td><td>Individual</td><td>null</td><td>null</td><td>2024-03-12 17:36:...</td></tr>\n",
       "<tr><td>b0b014943b49218e0...</td><td>Correctional Officer</td><td>10</td><td>OWN</td><td>89000.0</td><td>CA</td><td>932xx</td><td>USA</td><td>B</td><td>B2</td><td>Not Verified</td><td>310282.0</td><td>Individual</td><td>null</td><td>null</td><td>2024-03-12 17:36:...</td></tr>\n",
       "<tr><td>fbf74517986890cec...</td><td>Management</td><td>3</td><td>MORTGAGE</td><td>65000.0</td><td>TX</td><td>760xx</td><td>USA</td><td>A</td><td>A2</td><td>Not Verified</td><td>243096.0</td><td>Individual</td><td>null</td><td>null</td><td>2024-03-12 17:36:...</td></tr>\n",
       "<tr><td>39c1a553ded2e146d...</td><td>chef</td><td>7</td><td>MORTGAGE</td><td>58000.0</td><td>TX</td><td>782xx</td><td>USA</td><td>B</td><td>B1</td><td>Not Verified</td><td>185387.0</td><td>Individual</td><td>null</td><td>null</td><td>2024-03-12 17:36:...</td></tr>\n",
       "<tr><td>8b65d32f52e5bf756...</td><td>Team Manager</td><td>1</td><td>MORTGAGE</td><td>58000.0</td><td>AZ</td><td>852xx</td><td>USA</td><td>B</td><td>B2</td><td>Source Verified</td><td>226673.0</td><td>Joint App</td><td>91000.0</td><td>Source Verified</td><td>2024-03-12 17:36:...</td></tr>\n",
       "<tr><td>90d66d2f828ab78d3...</td><td>Human Resource</td><td>10</td><td>OWN</td><td>49000.0</td><td>MO</td><td>654xx</td><td>USA</td><td>A</td><td>A4</td><td>Source Verified</td><td>97164.0</td><td>Individual</td><td>null</td><td>null</td><td>2024-03-12 17:36:...</td></tr>\n",
       "<tr><td>149cd46771d795a94...</td><td>Assistant parts m...</td><td>10</td><td>RENT</td><td>45000.0</td><td>CA</td><td>926xx</td><td>USA</td><td>C</td><td>C5</td><td>Verified</td><td>52308.0</td><td>Individual</td><td>null</td><td>null</td><td>2024-03-12 17:36:...</td></tr>\n",
       "</table>\n",
       "only showing top 20 rows\n"
      ],
      "text/plain": [
       "+--------------------+--------------------+----------+--------------+-------------+-------------+---------------+---------------+-----+---------+-------------------+-----------------------+----------------+------------------+-------------------------+--------------------+\n",
       "|           member_id|           emp_title|emp_length|home_ownership|annual_income|address_state|address_zipcode|address_country|grade|sub_grade|verification_status|total_high_credit_limit|application_type|join_annual_income|verification_status_joint|         ingest_date|\n",
       "+--------------------+--------------------+----------+--------------+-------------+-------------+---------------+---------------+-----+---------+-------------------+-----------------------+----------------+------------------+-------------------------+--------------------+\n",
       "|f49b991d8e81eb70f...|Lead Project Desi...|         7|          RENT|      56500.0|           IL|          618xx|            USA|    A|       A1|       Not Verified|                89844.0|      Individual|              null|                     null|2024-03-12 17:36:...|\n",
       "|3ce97d134b4994dc8...|         Mail Career|         3|          RENT|      48000.0|           TX|          770xx|            USA|    B|       B2|    Source Verified|               100893.0|      Individual|              null|                     null|2024-03-12 17:36:...|\n",
       "|68a1bcfb58b445b0f...|Director of Devel...|         3|          RENT|     115000.0|           CA|          949xx|            USA|    C|       C4|    Source Verified|                33100.0|      Individual|              null|                     null|2024-03-12 17:36:...|\n",
       "|096963bc2ec4cacd0...|           Bartender|        10|      MORTGAGE|      25000.0|           IL|          622xx|            USA|    D|       D1|    Source Verified|               110057.0|       Joint App|           50000.0|                     null|2024-03-12 17:36:...|\n",
       "|0721953b887ea82c1...|               nurse|         3|      MORTGAGE|     120000.0|           FL|          335xx|            USA|    B|       B4|    Source Verified|                77687.0|      Individual|              null|                     null|2024-03-12 17:36:...|\n",
       "|1822d7c2694951b48...|              Driver|         2|          RENT|      65000.0|           NY|          104xx|            USA|    B|       B4|    Source Verified|                49194.0|      Individual|              null|                     null|2024-03-12 17:36:...|\n",
       "|4349b14964e4accb0...|                null|         6|      MORTGAGE|      37000.0|           AZ|          853xx|            USA|    A|       A1|       Not Verified|               243570.0|      Individual|              null|                     null|2024-03-12 17:36:...|\n",
       "|53c1972ca27390092...|director new prod...|        10|           OWN|      76000.0|           OH|          442xx|            USA|    D|       D3|       Not Verified|               126627.0|      Individual|              null|                     null|2024-03-12 17:36:...|\n",
       "|fb8696a231ddeb2a3...|          Janitorial|         5|          RENT|      33000.0|           GA|          310xx|            USA|    C|       C1|    Source Verified|                24630.0|      Individual|              null|                     null|2024-03-12 17:36:...|\n",
       "|a8a1073653e42cae9...|CS and Data Analy...|         1|          RENT|      55000.0|           CA|          921xx|            USA|    A|       A1|       Not Verified|                42978.0|      Individual|              null|                     null|2024-03-12 17:36:...|\n",
       "|0480e7a3128b443d6...|             ANALYST|        10|          RENT|      55790.0|           CA|          950xx|            USA|    A|       A1|    Source Verified|                37406.0|      Individual|              null|                     null|2024-03-12 17:36:...|\n",
       "|3d1657e3c5fad18bf...|      Branch Manager|         6|      MORTGAGE|     300000.0|           PA|          180xx|            USA|    A|       A1|    Source Verified|               636370.0|      Individual|              null|                     null|2024-03-12 17:36:...|\n",
       "|47d677416fa158247...|      Vice President|        10|      MORTGAGE|     260000.0|           ME|          040xx|            USA|    A|       A2|    Source Verified|               565193.0|      Individual|              null|                     null|2024-03-12 17:36:...|\n",
       "|619a5fd17f4fba3e4...|        Chief Deputy|         3|      MORTGAGE|     120000.0|           KY|          420xx|            USA|    B|       B2|    Source Verified|               380829.0|       Joint App|          145000.0|          Source Verified|2024-03-12 17:36:...|\n",
       "|412d1bb5cb3b48551...|Reconciliation & ...|        10|          RENT|      64000.0|           MA|          021xx|            USA|    C|       C5|       Not Verified|                75803.0|      Individual|              null|                     null|2024-03-12 17:36:...|\n",
       "|964980f0d8aa11c28...|      Vice President|        10|      MORTGAGE|     265000.0|           NJ|          070xx|            USA|    B|       B4|    Source Verified|               755186.0|      Individual|              null|                     null|2024-03-12 17:36:...|\n",
       "|ed9c0cea4fecb7350...|    Training Manager|         3|      MORTGAGE|     150000.0|           TX|          770xx|            USA|    B|       B3|    Source Verified|               426900.0|      Individual|              null|                     null|2024-03-12 17:36:...|\n",
       "|e56d1dec583602d76...|         Housekeeper|         2|           OWN|      35000.0|           FL|          334xx|            USA|    D|       D5|       Not Verified|                21500.0|      Individual|              null|                     null|2024-03-12 17:36:...|\n",
       "|69e81b70a9a0d0204...|Client’s Right/Ri...|        10|      MORTGAGE|      51000.0|           TX|          757xx|            USA|    B|       B2|    Source Verified|               142066.0|      Individual|              null|                     null|2024-03-12 17:36:...|\n",
       "|6430ee74bfda45a72...|             Teacher|         5|          RENT|      40000.0|           NC|          273xx|            USA|    A|       A1|    Source Verified|                34737.0|      Individual|              null|                     null|2024-03-12 17:36:...|\n",
       "+--------------------+--------------------+----------+--------------+-------------+-------------+---------------+---------------+-----+---------+-------------------+-----------------------+----------------+------------------+-------------------------+--------------------+\n",
       "only showing top 20 rows"
      ]
     },
     "execution_count": 150,
     "metadata": {},
     "output_type": "execute_result"
    }
   ],
   "source": [
    "customers_emplength_replaced"
   ]
  },
  {
   "cell_type": "code",
   "execution_count": 151,
   "id": "5508974e",
   "metadata": {},
   "outputs": [
    {
     "data": {
      "text/plain": [
       "0"
      ]
     },
     "execution_count": 151,
     "metadata": {},
     "output_type": "execute_result"
    }
   ],
   "source": [
    "customers_emplength_replaced.filter('emp_length is null').count()"
   ]
  },
  {
   "cell_type": "code",
   "execution_count": 152,
   "id": "a44eb847",
   "metadata": {},
   "outputs": [],
   "source": [
    "customers_emplength_replaced.createOrReplaceTempView(\"customers\")"
   ]
  },
  {
   "cell_type": "code",
   "execution_count": 153,
   "id": "69c45212",
   "metadata": {},
   "outputs": [
    {
     "data": {
      "text/html": [
       "<table border='1'>\n",
       "<tr><th>address_state</th></tr>\n",
       "<tr><td>Helping Kenya&#x27;s D...</td></tr>\n",
       "<tr><td>175 (total projec...</td></tr>\n",
       "<tr><td>223xx</td></tr>\n",
       "<tr><td>SC</td></tr>\n",
       "<tr><td>AZ</td></tr>\n",
       "<tr><td>so Plan &quot;&quot;C&quot;&quot; is ...</td></tr>\n",
       "<tr><td>I am 56 yrs. old ...</td></tr>\n",
       "<tr><td>financially I mad...</td></tr>\n",
       "<tr><td>but no one will l...</td></tr>\n",
       "<tr><td>LA</td></tr>\n",
       "<tr><td>etc.  First</td></tr>\n",
       "<tr><td>MN</td></tr>\n",
       "<tr><td>yet Capital One n...</td></tr>\n",
       "<tr><td>850xx</td></tr>\n",
       "<tr><td>499xx</td></tr>\n",
       "<tr><td>Eliminating Credi...</td></tr>\n",
       "<tr><td>Advocate business...</td></tr>\n",
       "<tr><td>and MBA&#x27;s are ove...</td></tr>\n",
       "<tr><td>I the credit card...</td></tr>\n",
       "<tr><td>951xx</td></tr>\n",
       "</table>\n",
       "only showing top 20 rows\n"
      ],
      "text/plain": [
       "+--------------------+\n",
       "|       address_state|\n",
       "+--------------------+\n",
       "|Helping Kenya's D...|\n",
       "|               223xx|\n",
       "|175 (total projec...|\n",
       "|                  SC|\n",
       "|                  AZ|\n",
       "|I am 56 yrs. old ...|\n",
       "|so Plan \"\"C\"\" is ...|\n",
       "|financially I mad...|\n",
       "|but no one will l...|\n",
       "|                  LA|\n",
       "|         etc.  First|\n",
       "|                  MN|\n",
       "|               850xx|\n",
       "|yet Capital One n...|\n",
       "|               499xx|\n",
       "|Eliminating Credi...|\n",
       "|and MBA's are ove...|\n",
       "|Advocate business...|\n",
       "|I the credit card...|\n",
       "|               951xx|\n",
       "+--------------------+\n",
       "only showing top 20 rows"
      ]
     },
     "execution_count": 153,
     "metadata": {},
     "output_type": "execute_result"
    }
   ],
   "source": [
    "spark.sql(\"select distinct(address_state) from customers\")"
   ]
  },
  {
   "cell_type": "code",
   "execution_count": 154,
   "id": "e33491b3",
   "metadata": {},
   "outputs": [
    {
     "data": {
      "text/html": [
       "<table border='1'>\n",
       "<tr><th>count(address_state)</th></tr>\n",
       "<tr><td>254</td></tr>\n",
       "</table>\n"
      ],
      "text/plain": [
       "+--------------------+\n",
       "|count(address_state)|\n",
       "+--------------------+\n",
       "|                 254|\n",
       "+--------------------+"
      ]
     },
     "execution_count": 154,
     "metadata": {},
     "output_type": "execute_result"
    }
   ],
   "source": [
    "spark.sql(\"select count(address_state) from customers where length(address_state)>2\")"
   ]
  },
  {
   "cell_type": "code",
   "execution_count": 155,
   "id": "35006d11",
   "metadata": {},
   "outputs": [],
   "source": [
    "from pyspark.sql.functions import when,col,length"
   ]
  },
  {
   "cell_type": "code",
   "execution_count": 156,
   "id": "0e8aa455",
   "metadata": {},
   "outputs": [],
   "source": [
    "customers_state_cleaned = customers_emplength_replaced.withColumn(\n",
    "    \"address_state\", \n",
    "    when(length(col(\"address_state\"))>2,\"NA\").otherwise(col(\"address_state\"))\n",
    "                                        )"
   ]
  },
  {
   "cell_type": "code",
   "execution_count": 157,
   "id": "a0450076",
   "metadata": {},
   "outputs": [
    {
     "data": {
      "text/html": [
       "<table border='1'>\n",
       "<tr><th>member_id</th><th>emp_title</th><th>emp_length</th><th>home_ownership</th><th>annual_income</th><th>address_state</th><th>address_zipcode</th><th>address_country</th><th>grade</th><th>sub_grade</th><th>verification_status</th><th>total_high_credit_limit</th><th>application_type</th><th>join_annual_income</th><th>verification_status_joint</th><th>ingest_date</th></tr>\n",
       "<tr><td>bc7fca8290c1e4aa7...</td><td>Beal Service Corp</td><td>6</td><td>MORTGAGE</td><td>84000.0</td><td>TX</td><td>750xx</td><td>USA</td><td>C</td><td>C2</td><td>Not Verified</td><td>null</td><td>Individual</td><td>null</td><td>null</td><td>2024-03-12 17:37:...</td></tr>\n",
       "<tr><td>f6c4f46c27a75c915...</td><td>Retired From Texa...</td><td>10</td><td>RENT</td><td>39000.0</td><td>TX</td><td>770xx</td><td>USA</td><td>F</td><td>F1</td><td>Verified</td><td>null</td><td>Individual</td><td>null</td><td>null</td><td>2024-03-12 17:37:...</td></tr>\n",
       "<tr><td>4c704c28ec2315673...</td><td>DHL Express</td><td>2</td><td>RENT</td><td>55000.0</td><td>NY</td><td>104xx</td><td>USA</td><td>E</td><td>E4</td><td>Not Verified</td><td>null</td><td>Individual</td><td>null</td><td>null</td><td>2024-03-12 17:37:...</td></tr>\n",
       "<tr><td>aa8ff6e88731f81f2...</td><td>Rock, Paper, Scis...</td><td>1</td><td>MORTGAGE</td><td>20000.0</td><td>GA</td><td>300xx</td><td>USA</td><td>F</td><td>F4</td><td>Not Verified</td><td>null</td><td>Individual</td><td>null</td><td>null</td><td>2024-03-12 17:37:...</td></tr>\n",
       "<tr><td>c3bea8c7053491dff...</td><td>null</td><td>6</td><td>OWN</td><td>58000.0</td><td>NC</td><td>281xx</td><td>USA</td><td>C</td><td>C4</td><td>Verified</td><td>66400.0</td><td>Individual</td><td>null</td><td>null</td><td>2024-03-12 17:37:...</td></tr>\n",
       "<tr><td>0fd88be5056f1af5c...</td><td>USAF</td><td>7</td><td>RENT</td><td>70000.0</td><td>CA</td><td>934xx</td><td>USA</td><td>C</td><td>C5</td><td>Verified</td><td>95950.0</td><td>Individual</td><td>null</td><td>null</td><td>2024-03-12 17:37:...</td></tr>\n",
       "<tr><td>da15b90d4a557c56f...</td><td>Warehouse manager</td><td>5</td><td>RENT</td><td>54000.0</td><td>NJ</td><td>073xx</td><td>USA</td><td>B</td><td>B2</td><td>Not Verified</td><td>34224.0</td><td>Individual</td><td>null</td><td>null</td><td>2024-03-12 17:37:...</td></tr>\n",
       "<tr><td>aa354703c3b80495b...</td><td>Owner</td><td>2</td><td>RENT</td><td>50000.0</td><td>MA</td><td>021xx</td><td>USA</td><td>D</td><td>D2</td><td>Source Verified</td><td>24700.0</td><td>Individual</td><td>null</td><td>null</td><td>2024-03-12 17:37:...</td></tr>\n",
       "<tr><td>19a59b8ce40b875d4...</td><td>CEO</td><td>9</td><td>MORTGAGE</td><td>72000.0</td><td>CA</td><td>907xx</td><td>USA</td><td>F</td><td>F2</td><td>Not Verified</td><td>421017.0</td><td>Individual</td><td>null</td><td>null</td><td>2024-03-12 17:37:...</td></tr>\n",
       "<tr><td>110d8654b3a30eb1e...</td><td>Manager/Funeral D...</td><td>5</td><td>RENT</td><td>70600.0</td><td>OK</td><td>740xx</td><td>USA</td><td>B</td><td>B4</td><td>Source Verified</td><td>50565.0</td><td>Individual</td><td>null</td><td>null</td><td>2024-03-12 17:37:...</td></tr>\n",
       "<tr><td>4e77d2e62d780d08f...</td><td>Chef</td><td>10</td><td>MORTGAGE</td><td>92000.0</td><td>TX</td><td>750xx</td><td>USA</td><td>F</td><td>F1</td><td>Source Verified</td><td>376875.0</td><td>Individual</td><td>null</td><td>null</td><td>2024-03-12 17:37:...</td></tr>\n",
       "<tr><td>ddad6e6dcd5bdc89d...</td><td>null</td><td>6</td><td>RENT</td><td>39000.0</td><td>TX</td><td>777xx</td><td>USA</td><td>C</td><td>C3</td><td>Verified</td><td>35446.0</td><td>Individual</td><td>null</td><td>null</td><td>2024-03-12 17:37:...</td></tr>\n",
       "<tr><td>54e3b848f94cb7c7b...</td><td>County Officer</td><td>10</td><td>RENT</td><td>97000.0</td><td>NJ</td><td>071xx</td><td>USA</td><td>C</td><td>C3</td><td>Not Verified</td><td>109825.0</td><td>Individual</td><td>null</td><td>null</td><td>2024-03-12 17:37:...</td></tr>\n",
       "<tr><td>2356d76a3f33ffdfb...</td><td>PROJECT MANAGER</td><td>10</td><td>OWN</td><td>55000.0</td><td>TX</td><td>770xx</td><td>USA</td><td>D</td><td>D1</td><td>Not Verified</td><td>55800.0</td><td>Individual</td><td>null</td><td>null</td><td>2024-03-12 17:37:...</td></tr>\n",
       "<tr><td>9a0a9d05ba637b245...</td><td>Field superintendent</td><td>10</td><td>MORTGAGE</td><td>60000.0</td><td>TX</td><td>773xx</td><td>USA</td><td>C</td><td>C2</td><td>Not Verified</td><td>184900.0</td><td>Individual</td><td>null</td><td>null</td><td>2024-03-12 17:37:...</td></tr>\n",
       "<tr><td>262595b71d0ac03e9...</td><td>Patient Care Tech</td><td>10</td><td>RENT</td><td>40000.0</td><td>NY</td><td>112xx</td><td>USA</td><td>A</td><td>A4</td><td>Source Verified</td><td>23100.0</td><td>Individual</td><td>null</td><td>null</td><td>2024-03-12 17:37:...</td></tr>\n",
       "<tr><td>33b05feb78c4c8950...</td><td>Associate</td><td>6</td><td>RENT</td><td>45000.0</td><td>OK</td><td>731xx</td><td>USA</td><td>B</td><td>B2</td><td>Not Verified</td><td>62839.0</td><td>Individual</td><td>null</td><td>null</td><td>2024-03-12 17:37:...</td></tr>\n",
       "<tr><td>58c7e0ed45ff434f5...</td><td>null</td><td>6</td><td>MORTGAGE</td><td>50940.0</td><td>NY</td><td>112xx</td><td>USA</td><td>C</td><td>C5</td><td>Not Verified</td><td>198600.0</td><td>Individual</td><td>null</td><td>null</td><td>2024-03-12 17:37:...</td></tr>\n",
       "<tr><td>00793f861ca8fface...</td><td>Business systems ...</td><td>1</td><td>MORTGAGE</td><td>90000.0</td><td>OR</td><td>970xx</td><td>USA</td><td>C</td><td>C2</td><td>Not Verified</td><td>320562.0</td><td>Individual</td><td>null</td><td>null</td><td>2024-03-12 17:37:...</td></tr>\n",
       "<tr><td>04559997fa5de6000...</td><td>null</td><td>6</td><td>RENT</td><td>49950.0</td><td>CA</td><td>953xx</td><td>USA</td><td>B</td><td>B3</td><td>Verified</td><td>42000.0</td><td>Individual</td><td>null</td><td>null</td><td>2024-03-12 17:37:...</td></tr>\n",
       "</table>\n",
       "only showing top 20 rows\n"
      ],
      "text/plain": [
       "+--------------------+--------------------+----------+--------------+-------------+-------------+---------------+---------------+-----+---------+-------------------+-----------------------+----------------+------------------+-------------------------+--------------------+\n",
       "|           member_id|           emp_title|emp_length|home_ownership|annual_income|address_state|address_zipcode|address_country|grade|sub_grade|verification_status|total_high_credit_limit|application_type|join_annual_income|verification_status_joint|         ingest_date|\n",
       "+--------------------+--------------------+----------+--------------+-------------+-------------+---------------+---------------+-----+---------+-------------------+-----------------------+----------------+------------------+-------------------------+--------------------+\n",
       "|178df882f52cf7ab7...|              Manger|         4|          RENT|      28000.0|           NY|          123xx|            USA|    C|       C4|           Verified|                18000.0|      Individual|              null|                     null|2024-03-12 17:37:...|\n",
       "|4a8327dbfb6ab3105...|  Digital Copywriter|         1|          RENT|      56000.0|           FL|          333xx|            USA|    D|       D3|    Source Verified|                92685.0|      Individual|              null|                     null|2024-03-12 17:37:...|\n",
       "|a64ee6100f2288916...| Executive Assistant|         7|          RENT|      94000.0|           GA|          303xx|            USA|    B|       B5|           Verified|               160506.0|      Individual|              null|                     null|2024-03-12 17:37:...|\n",
       "|5433ad17c6d233c70...|Maintenance Director|        10|      MORTGAGE|      37538.0|           MI|          482xx|            USA|    D|       D1|           Verified|                53529.0|      Individual|              null|                     null|2024-03-12 17:37:...|\n",
       "|5c7540c6cfa627b9a...|Administrative As...|        10|          RENT|      77376.0|           NY|          112xx|            USA|    B|       B1|    Source Verified|                59080.0|       Joint App|          112376.0|          Source Verified|2024-03-12 17:37:...|\n",
       "|8aa0512a1a25863b5...|        Food service|         8|      MORTGAGE|      12000.0|           IN|          461xx|            USA|    D|       D2|       Not Verified|               179351.0|       Joint App|          132000.0|             Not Verified|2024-03-12 17:37:...|\n",
       "|d003843e8a2638170...|                null|         6|           OWN|     100000.0|           NY|          117xx|            USA|    A|       A5|           Verified|               388880.0|      Individual|              null|                     null|2024-03-12 17:37:...|\n",
       "|cb66ceb0e10df2a8b...|New business cust...|        10|          RENT|      50000.0|           AZ|          852xx|            USA|    B|       B1|       Not Verified|                67479.0|      Individual|              null|                     null|2024-03-12 17:37:...|\n",
       "|d2681013c8af1f9d9...|       Sales manager|         3|          RENT|     110000.0|           NJ|          070xx|            USA|    E|       E4|    Source Verified|                49249.0|      Individual|              null|                     null|2024-03-12 17:37:...|\n",
       "|621ad32f24093342f...|  Derivative Analyst|         1|           OWN|      70000.0|           CA|          952xx|            USA|    C|       C1|    Source Verified|                16658.0|      Individual|              null|                     null|2024-03-12 17:37:...|\n",
       "|03926475419bb3978...|                 CEO|        10|      MORTGAGE|     110000.0|           GA|          303xx|            USA|    B|       B1|       Not Verified|               503899.0|      Individual|              null|                     null|2024-03-12 17:37:...|\n",
       "|c21b570e9ef2ab56e...|         comp rep II|        10|      MORTGAGE|      70000.0|           CO|          801xx|            USA|    C|       C1|       Not Verified|               366141.0|       Joint App|          171000.0|             Not Verified|2024-03-12 17:37:...|\n",
       "|4b1d299e05f57af98...|Customer service rep|         1|           OWN|      18000.0|           TX|          799xx|            USA|    E|       E3|           Verified|                30343.0|      Individual|              null|                     null|2024-03-12 17:37:...|\n",
       "|dc5b46df4db9422ed...|Lead Interior Des...|         7|      MORTGAGE|      68000.0|           NC|          287xx|            USA|    B|       B3|       Not Verified|                68040.0|      Individual|              null|                     null|2024-03-12 17:37:...|\n",
       "|50c149606b6264004...|     Carpenter/Owner|         8|      MORTGAGE|      60000.0|           NJ|          070xx|            USA|    A|       A4|       Not Verified|               343474.0|       Joint App|          120000.0|             Not Verified|2024-03-12 17:37:...|\n",
       "|f577f27beb4b4919a...|  Physical Therapist|         4|          RENT|      74880.0|           NY|          104xx|            USA|    B|       B5|    Source Verified|                61400.0|      Individual|              null|                     null|2024-03-12 17:37:...|\n",
       "|3bb7dd0d43e4c933c...|    Business manager|        10|      MORTGAGE|     104000.0|           NJ|          076xx|            USA|    B|       B4|       Not Verified|               401384.0|      Individual|              null|                     null|2024-03-12 17:37:...|\n",
       "|33b9a5509463fd4a6...|Associate Product...|         1|      MORTGAGE|      60000.0|           KS|          662xx|            USA|    A|       A1|           Verified|               381160.0|      Individual|              null|                     null|2024-03-12 17:37:...|\n",
       "|77547c0f9b2b35d02...|              Carman|        10|      MORTGAGE|      65000.0|           CA|          948xx|            USA|    A|       A1|           Verified|               417192.0|      Individual|              null|                     null|2024-03-12 17:37:...|\n",
       "|1f3259c3768d5b120...|       hvac machanic|         7|      MORTGAGE|      60000.0|           NJ|          082xx|            USA|    B|       B4|       Not Verified|               262101.0|      Individual|              null|                     null|2024-03-12 17:37:...|\n",
       "+--------------------+--------------------+----------+--------------+-------------+-------------+---------------+---------------+-----+---------+-------------------+-----------------------+----------------+------------------+-------------------------+--------------------+\n",
       "only showing top 20 rows"
      ]
     },
     "execution_count": 157,
     "metadata": {},
     "output_type": "execute_result"
    }
   ],
   "source": [
    "customers_state_cleaned"
   ]
  },
  {
   "cell_type": "code",
   "execution_count": 158,
   "id": "109bc96e",
   "metadata": {},
   "outputs": [
    {
     "data": {
      "text/html": [
       "<table border='1'>\n",
       "<tr><th>address_state</th></tr>\n",
       "<tr><td>AZ</td></tr>\n",
       "<tr><td>SC</td></tr>\n",
       "<tr><td>LA</td></tr>\n",
       "<tr><td>MN</td></tr>\n",
       "<tr><td>NJ</td></tr>\n",
       "<tr><td>DC</td></tr>\n",
       "<tr><td>OR</td></tr>\n",
       "<tr><td>NA</td></tr>\n",
       "<tr><td>VA</td></tr>\n",
       "<tr><td>null</td></tr>\n",
       "<tr><td>RI</td></tr>\n",
       "<tr><td>KY</td></tr>\n",
       "<tr><td>WY</td></tr>\n",
       "<tr><td>NH</td></tr>\n",
       "<tr><td>MI</td></tr>\n",
       "<tr><td>NV</td></tr>\n",
       "<tr><td>WI</td></tr>\n",
       "<tr><td>ID</td></tr>\n",
       "<tr><td>CA</td></tr>\n",
       "<tr><td>NE</td></tr>\n",
       "</table>\n",
       "only showing top 20 rows\n"
      ],
      "text/plain": [
       "+-------------+\n",
       "|address_state|\n",
       "+-------------+\n",
       "|           SC|\n",
       "|           AZ|\n",
       "|           LA|\n",
       "|           MN|\n",
       "|           NJ|\n",
       "|           DC|\n",
       "|           OR|\n",
       "|           NA|\n",
       "|           VA|\n",
       "|         null|\n",
       "|           RI|\n",
       "|           KY|\n",
       "|           WY|\n",
       "|           NH|\n",
       "|           MI|\n",
       "|           NV|\n",
       "|           WI|\n",
       "|           ID|\n",
       "|           CA|\n",
       "|           CT|\n",
       "+-------------+\n",
       "only showing top 20 rows"
      ]
     },
     "execution_count": 158,
     "metadata": {},
     "output_type": "execute_result"
    }
   ],
   "source": [
    "customers_state_cleaned.select(\"address_state\").distinct()"
   ]
  },
  {
   "cell_type": "code",
   "execution_count": 159,
   "id": "444d1d18",
   "metadata": {},
   "outputs": [],
   "source": [
    "customers_state_cleaned.write \\\n",
    ".format(\"parquet\") \\\n",
    ".mode(\"overwrite\") \\\n",
    ".option(\"path\",\"/user/itv009959/lendingclubproject/cleaned/customers_parquet\") \\\n",
    ".save()"
   ]
  },
  {
   "cell_type": "code",
   "execution_count": 160,
   "id": "4bccede0",
   "metadata": {},
   "outputs": [],
   "source": [
    "customers_state_cleaned.write \\\n",
    ".option(\"header\",\"true\") \\\n",
    ".format(\"csv\") \\\n",
    ".mode(\"overwrite\") \\\n",
    ".option(\"path\",\"/user/itv009959/lendingclubproject/cleaned/customers_csv\") \\\n",
    ".save()"
   ]
  },
  {
   "cell_type": "code",
   "execution_count": 161,
   "id": "354319d3",
   "metadata": {},
   "outputs": [],
   "source": [
    "spark.stop()"
   ]
  },
  {
   "cell_type": "code",
   "execution_count": null,
   "id": "1aeeed95",
   "metadata": {},
   "outputs": [],
   "source": []
  }
 ],
 "metadata": {
  "kernelspec": {
   "display_name": "Pyspark 3",
   "language": "python",
   "name": "pyspark3"
  },
  "language_info": {
   "codemirror_mode": {
    "name": "ipython",
    "version": 3
   },
   "file_extension": ".py",
   "mimetype": "text/x-python",
   "name": "python",
   "nbconvert_exporter": "python",
   "pygments_lexer": "ipython3",
   "version": "3.6.12"
  }
 },
 "nbformat": 4,
 "nbformat_minor": 5
}
