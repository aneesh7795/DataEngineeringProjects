{
 "cells": [
  {
   "cell_type": "code",
   "execution_count": 1,
   "id": "69dfa67d",
   "metadata": {},
   "outputs": [],
   "source": [
    "from pyspark.sql import SparkSession\n",
    "import getpass\n",
    "username = getpass.getuser()\n",
    "spark = SparkSession. \\\n",
    "    builder. \\\n",
    "    appName(\"SparkDemo\"). \\\n",
    "    config('spark.ui.port','0'). \\\n",
    "    config('spark.shuffle.useOldFethProtocol','true'). \\\n",
    "    config('spark.sql.warehouse.dir',f'/user/{username}/warehouse'). \\\n",
    "    enableHiveSupport(). \\\n",
    "    master('yarn'). \\\n",
    "    getOrCreate()"
   ]
  },
  {
   "cell_type": "code",
   "execution_count": 2,
   "id": "6543eff1",
   "metadata": {},
   "outputs": [],
   "source": [
    "loans_def_schema = \"member_id string, dealing_2yrs float, dealing_amnt float, pub_rec float, pub_rec_bankruptcies float ,inquiry_last_6months float, total_recorded_late_fee float, months_since_last_dealing float, months_since_last_record float\""
   ]
  },
  {
   "cell_type": "code",
   "execution_count": 3,
   "id": "ac2d26f8",
   "metadata": {},
   "outputs": [],
   "source": [
    "loans_def_raw_df = spark.read \\\n",
    ".format(\"csv\") \\\n",
    ".option(\"header\",\"true\") \\\n",
    ".schema(loans_def_schema) \\\n",
    ".load(\"/user/itv009959/lendingclubproject/raw/loans_defaulters_csv\")"
   ]
  },
  {
   "cell_type": "code",
   "execution_count": 4,
   "id": "ba7aab52",
   "metadata": {},
   "outputs": [
    {
     "data": {
      "text/html": [
       "<table border='1'>\n",
       "<tr><th>member_id</th><th>dealing_2yrs</th><th>dealing_amnt</th><th>pub_rec</th><th>pub_rec_bankruptcies</th><th>inquiry_last_6months</th><th>total_recorded_late_fee</th><th>months_since_last_dealing</th><th>months_since_last_record</th></tr>\n",
       "<tr><td>b59d80da191f5b573...</td><td>0.0</td><td>0.0</td><td>0.0</td><td>0.0</td><td>1.0</td><td>0.0</td><td>31.0</td><td>null</td></tr>\n",
       "<tr><td>202d9f56ecb7c3bc9...</td><td>1.0</td><td>0.0</td><td>0.0</td><td>0.0</td><td>0.0</td><td>0.0</td><td>6.0</td><td>null</td></tr>\n",
       "<tr><td>e5a140c0922b554b9...</td><td>0.0</td><td>0.0</td><td>0.0</td><td>0.0</td><td>0.0</td><td>0.0</td><td>47.0</td><td>null</td></tr>\n",
       "<tr><td>e12aefc548f750777...</td><td>0.0</td><td>0.0</td><td>0.0</td><td>0.0</td><td>0.0</td><td>0.0</td><td>33.0</td><td>null</td></tr>\n",
       "<tr><td>1b3a50d854fbbf97e...</td><td>1.0</td><td>0.0</td><td>0.0</td><td>0.0</td><td>0.0</td><td>0.0</td><td>21.0</td><td>null</td></tr>\n",
       "<tr><td>1c4329e5f17697127...</td><td>0.0</td><td>0.0</td><td>0.0</td><td>0.0</td><td>0.0</td><td>0.0</td><td>null</td><td>null</td></tr>\n",
       "<tr><td>5026c86ad983175eb...</td><td>0.0</td><td>0.0</td><td>1.0</td><td>0.0</td><td>2.0</td><td>0.0</td><td>null</td><td>71.0</td></tr>\n",
       "<tr><td>9847d8c1e9d0b2084...</td><td>1.0</td><td>0.0</td><td>2.0</td><td>0.0</td><td>0.0</td><td>0.0</td><td>6.0</td><td>63.0</td></tr>\n",
       "<tr><td>8340dbe1adea41fb4...</td><td>0.0</td><td>0.0</td><td>0.0</td><td>0.0</td><td>0.0</td><td>0.0</td><td>36.0</td><td>null</td></tr>\n",
       "<tr><td>d4de0de3ab7d79ad4...</td><td>0.0</td><td>0.0</td><td>0.0</td><td>0.0</td><td>0.0</td><td>0.0</td><td>35.0</td><td>null</td></tr>\n",
       "<tr><td>3df3cdeddb74a8712...</td><td>0.0</td><td>0.0</td><td>0.0</td><td>0.0</td><td>0.0</td><td>0.0</td><td>null</td><td>null</td></tr>\n",
       "<tr><td>9dd72636b1b4045b4...</td><td>0.0</td><td>0.0</td><td>0.0</td><td>0.0</td><td>3.0</td><td>0.0</td><td>null</td><td>null</td></tr>\n",
       "<tr><td>1d4e1ef4353b73c00...</td><td>0.0</td><td>0.0</td><td>0.0</td><td>0.0</td><td>2.0</td><td>0.0</td><td>30.0</td><td>null</td></tr>\n",
       "<tr><td>6f196952e71277fd4...</td><td>4.0</td><td>0.0</td><td>0.0</td><td>0.0</td><td>0.0</td><td>0.0</td><td>5.0</td><td>null</td></tr>\n",
       "<tr><td>9c617cbc6e3e3d6a1...</td><td>1.0</td><td>0.0</td><td>0.0</td><td>0.0</td><td>2.0</td><td>0.0</td><td>20.0</td><td>null</td></tr>\n",
       "<tr><td>45eb04dd75400a942...</td><td>0.0</td><td>0.0</td><td>0.0</td><td>0.0</td><td>2.0</td><td>0.0</td><td>28.0</td><td>null</td></tr>\n",
       "<tr><td>08d233c81f9e50726...</td><td>0.0</td><td>0.0</td><td>0.0</td><td>0.0</td><td>1.0</td><td>0.0</td><td>null</td><td>null</td></tr>\n",
       "<tr><td>8ff4d0ed17a1cab92...</td><td>1.0</td><td>0.0</td><td>2.0</td><td>0.0</td><td>2.0</td><td>0.0</td><td>15.0</td><td>32.0</td></tr>\n",
       "<tr><td>aec13cfd611b2cfea...</td><td>1.0</td><td>0.0</td><td>0.0</td><td>0.0</td><td>1.0</td><td>0.0</td><td>19.0</td><td>null</td></tr>\n",
       "<tr><td>9ba8c96ccba6cd1f0...</td><td>0.0</td><td>0.0</td><td>0.0</td><td>0.0</td><td>0.0</td><td>0.0</td><td>37.0</td><td>null</td></tr>\n",
       "</table>\n",
       "only showing top 20 rows\n"
      ],
      "text/plain": [
       "+--------------------+------------+------------+-------+--------------------+--------------------+-----------------------+-------------------------+------------------------+\n",
       "|           member_id|dealing_2yrs|dealing_amnt|pub_rec|pub_rec_bankruptcies|inquiry_last_6months|total_recorded_late_fee|months_since_last_dealing|months_since_last_record|\n",
       "+--------------------+------------+------------+-------+--------------------+--------------------+-----------------------+-------------------------+------------------------+\n",
       "|b59d80da191f5b573...|         0.0|         0.0|    0.0|                 0.0|                 1.0|                    0.0|                     31.0|                    null|\n",
       "|202d9f56ecb7c3bc9...|         1.0|         0.0|    0.0|                 0.0|                 0.0|                    0.0|                      6.0|                    null|\n",
       "|e5a140c0922b554b9...|         0.0|         0.0|    0.0|                 0.0|                 0.0|                    0.0|                     47.0|                    null|\n",
       "|e12aefc548f750777...|         0.0|         0.0|    0.0|                 0.0|                 0.0|                    0.0|                     33.0|                    null|\n",
       "|1b3a50d854fbbf97e...|         1.0|         0.0|    0.0|                 0.0|                 0.0|                    0.0|                     21.0|                    null|\n",
       "|1c4329e5f17697127...|         0.0|         0.0|    0.0|                 0.0|                 0.0|                    0.0|                     null|                    null|\n",
       "|5026c86ad983175eb...|         0.0|         0.0|    1.0|                 0.0|                 2.0|                    0.0|                     null|                    71.0|\n",
       "|9847d8c1e9d0b2084...|         1.0|         0.0|    2.0|                 0.0|                 0.0|                    0.0|                      6.0|                    63.0|\n",
       "|8340dbe1adea41fb4...|         0.0|         0.0|    0.0|                 0.0|                 0.0|                    0.0|                     36.0|                    null|\n",
       "|d4de0de3ab7d79ad4...|         0.0|         0.0|    0.0|                 0.0|                 0.0|                    0.0|                     35.0|                    null|\n",
       "|3df3cdeddb74a8712...|         0.0|         0.0|    0.0|                 0.0|                 0.0|                    0.0|                     null|                    null|\n",
       "|9dd72636b1b4045b4...|         0.0|         0.0|    0.0|                 0.0|                 3.0|                    0.0|                     null|                    null|\n",
       "|1d4e1ef4353b73c00...|         0.0|         0.0|    0.0|                 0.0|                 2.0|                    0.0|                     30.0|                    null|\n",
       "|6f196952e71277fd4...|         4.0|         0.0|    0.0|                 0.0|                 0.0|                    0.0|                      5.0|                    null|\n",
       "|9c617cbc6e3e3d6a1...|         1.0|         0.0|    0.0|                 0.0|                 2.0|                    0.0|                     20.0|                    null|\n",
       "|45eb04dd75400a942...|         0.0|         0.0|    0.0|                 0.0|                 2.0|                    0.0|                     28.0|                    null|\n",
       "|08d233c81f9e50726...|         0.0|         0.0|    0.0|                 0.0|                 1.0|                    0.0|                     null|                    null|\n",
       "|8ff4d0ed17a1cab92...|         1.0|         0.0|    2.0|                 0.0|                 2.0|                    0.0|                     15.0|                    32.0|\n",
       "|aec13cfd611b2cfea...|         1.0|         0.0|    0.0|                 0.0|                 1.0|                    0.0|                     19.0|                    null|\n",
       "|9ba8c96ccba6cd1f0...|         0.0|         0.0|    0.0|                 0.0|                 0.0|                    0.0|                     37.0|                    null|\n",
       "+--------------------+------------+------------+-------+--------------------+--------------------+-----------------------+-------------------------+------------------------+\n",
       "only showing top 20 rows"
      ]
     },
     "execution_count": 4,
     "metadata": {},
     "output_type": "execute_result"
    }
   ],
   "source": [
    "loans_def_raw_df"
   ]
  },
  {
   "cell_type": "code",
   "execution_count": 5,
   "id": "7ec26a38",
   "metadata": {},
   "outputs": [],
   "source": [
    "loans_def_raw_df.createOrReplaceTempView(\"loans_def\")"
   ]
  },
  {
   "cell_type": "code",
   "execution_count": 6,
   "id": "f894ca93",
   "metadata": {},
   "outputs": [
    {
     "data": {
      "text/html": [
       "<table border='1'>\n",
       "<tr><th>dealing_2yrs</th><th>total</th></tr>\n",
       "<tr><td>0.0</td><td>1838878</td></tr>\n",
       "<tr><td>1.0</td><td>281335</td></tr>\n",
       "<tr><td>2.0</td><td>81285</td></tr>\n",
       "<tr><td>3.0</td><td>29539</td></tr>\n",
       "<tr><td>4.0</td><td>13179</td></tr>\n",
       "<tr><td>5.0</td><td>6599</td></tr>\n",
       "<tr><td>6.0</td><td>3717</td></tr>\n",
       "<tr><td>7.0</td><td>2062</td></tr>\n",
       "<tr><td>8.0</td><td>1223</td></tr>\n",
       "<tr><td>9.0</td><td>818</td></tr>\n",
       "<tr><td>10.0</td><td>556</td></tr>\n",
       "<tr><td>11.0</td><td>363</td></tr>\n",
       "<tr><td>12.0</td><td>264</td></tr>\n",
       "<tr><td>null</td><td>261</td></tr>\n",
       "<tr><td>13.0</td><td>165</td></tr>\n",
       "<tr><td>14.0</td><td>120</td></tr>\n",
       "<tr><td>15.0</td><td>87</td></tr>\n",
       "<tr><td>16.0</td><td>55</td></tr>\n",
       "<tr><td>18.0</td><td>30</td></tr>\n",
       "<tr><td>17.0</td><td>30</td></tr>\n",
       "</table>\n",
       "only showing top 20 rows\n"
      ],
      "text/plain": [
       "+------------+-------+\n",
       "|dealing_2yrs|  total|\n",
       "+------------+-------+\n",
       "|         0.0|1838878|\n",
       "|         1.0| 281335|\n",
       "|         2.0|  81285|\n",
       "|         3.0|  29539|\n",
       "|         4.0|  13179|\n",
       "|         5.0|   6599|\n",
       "|         6.0|   3717|\n",
       "|         7.0|   2062|\n",
       "|         8.0|   1223|\n",
       "|         9.0|    818|\n",
       "|        10.0|    556|\n",
       "|        11.0|    363|\n",
       "|        12.0|    264|\n",
       "|        null|    261|\n",
       "|        13.0|    165|\n",
       "|        14.0|    120|\n",
       "|        15.0|     87|\n",
       "|        16.0|     55|\n",
       "|        18.0|     30|\n",
       "|        17.0|     30|\n",
       "+------------+-------+\n",
       "only showing top 20 rows"
      ]
     },
     "execution_count": 6,
     "metadata": {},
     "output_type": "execute_result"
    }
   ],
   "source": [
    "spark.sql(\"select dealing_2yrs,count(*) as total from loans_def group by dealing_2yrs order by total desc\")"
   ]
  },
  {
   "cell_type": "code",
   "execution_count": 7,
   "id": "96c08ade",
   "metadata": {},
   "outputs": [],
   "source": [
    "from pyspark.sql.functions import col"
   ]
  },
  {
   "cell_type": "code",
   "execution_count": 8,
   "id": "c43e2c61",
   "metadata": {},
   "outputs": [],
   "source": [
    "loans_dealing_modified = loans_def_raw_df.withColumn(\"dealing_2yrs\",col(\"dealing_2yrs\").cast(\"int\")).fillna(0,subset=[\"dealing_2yrs\"])"
   ]
  },
  {
   "cell_type": "code",
   "execution_count": 9,
   "id": "fd056606",
   "metadata": {},
   "outputs": [
    {
     "data": {
      "text/html": [
       "<table border='1'>\n",
       "<tr><th>member_id</th><th>dealing_2yrs</th><th>dealing_amnt</th><th>pub_rec</th><th>pub_rec_bankruptcies</th><th>inquiry_last_6months</th><th>total_recorded_late_fee</th><th>months_since_last_dealing</th><th>months_since_last_record</th></tr>\n",
       "<tr><td>b59d80da191f5b573...</td><td>0</td><td>0.0</td><td>0.0</td><td>0.0</td><td>1.0</td><td>0.0</td><td>31.0</td><td>null</td></tr>\n",
       "<tr><td>202d9f56ecb7c3bc9...</td><td>1</td><td>0.0</td><td>0.0</td><td>0.0</td><td>0.0</td><td>0.0</td><td>6.0</td><td>null</td></tr>\n",
       "<tr><td>e5a140c0922b554b9...</td><td>0</td><td>0.0</td><td>0.0</td><td>0.0</td><td>0.0</td><td>0.0</td><td>47.0</td><td>null</td></tr>\n",
       "<tr><td>e12aefc548f750777...</td><td>0</td><td>0.0</td><td>0.0</td><td>0.0</td><td>0.0</td><td>0.0</td><td>33.0</td><td>null</td></tr>\n",
       "<tr><td>1b3a50d854fbbf97e...</td><td>1</td><td>0.0</td><td>0.0</td><td>0.0</td><td>0.0</td><td>0.0</td><td>21.0</td><td>null</td></tr>\n",
       "<tr><td>1c4329e5f17697127...</td><td>0</td><td>0.0</td><td>0.0</td><td>0.0</td><td>0.0</td><td>0.0</td><td>null</td><td>null</td></tr>\n",
       "<tr><td>5026c86ad983175eb...</td><td>0</td><td>0.0</td><td>1.0</td><td>0.0</td><td>2.0</td><td>0.0</td><td>null</td><td>71.0</td></tr>\n",
       "<tr><td>9847d8c1e9d0b2084...</td><td>1</td><td>0.0</td><td>2.0</td><td>0.0</td><td>0.0</td><td>0.0</td><td>6.0</td><td>63.0</td></tr>\n",
       "<tr><td>8340dbe1adea41fb4...</td><td>0</td><td>0.0</td><td>0.0</td><td>0.0</td><td>0.0</td><td>0.0</td><td>36.0</td><td>null</td></tr>\n",
       "<tr><td>d4de0de3ab7d79ad4...</td><td>0</td><td>0.0</td><td>0.0</td><td>0.0</td><td>0.0</td><td>0.0</td><td>35.0</td><td>null</td></tr>\n",
       "<tr><td>3df3cdeddb74a8712...</td><td>0</td><td>0.0</td><td>0.0</td><td>0.0</td><td>0.0</td><td>0.0</td><td>null</td><td>null</td></tr>\n",
       "<tr><td>9dd72636b1b4045b4...</td><td>0</td><td>0.0</td><td>0.0</td><td>0.0</td><td>3.0</td><td>0.0</td><td>null</td><td>null</td></tr>\n",
       "<tr><td>1d4e1ef4353b73c00...</td><td>0</td><td>0.0</td><td>0.0</td><td>0.0</td><td>2.0</td><td>0.0</td><td>30.0</td><td>null</td></tr>\n",
       "<tr><td>6f196952e71277fd4...</td><td>4</td><td>0.0</td><td>0.0</td><td>0.0</td><td>0.0</td><td>0.0</td><td>5.0</td><td>null</td></tr>\n",
       "<tr><td>9c617cbc6e3e3d6a1...</td><td>1</td><td>0.0</td><td>0.0</td><td>0.0</td><td>2.0</td><td>0.0</td><td>20.0</td><td>null</td></tr>\n",
       "<tr><td>45eb04dd75400a942...</td><td>0</td><td>0.0</td><td>0.0</td><td>0.0</td><td>2.0</td><td>0.0</td><td>28.0</td><td>null</td></tr>\n",
       "<tr><td>08d233c81f9e50726...</td><td>0</td><td>0.0</td><td>0.0</td><td>0.0</td><td>1.0</td><td>0.0</td><td>null</td><td>null</td></tr>\n",
       "<tr><td>8ff4d0ed17a1cab92...</td><td>1</td><td>0.0</td><td>2.0</td><td>0.0</td><td>2.0</td><td>0.0</td><td>15.0</td><td>32.0</td></tr>\n",
       "<tr><td>aec13cfd611b2cfea...</td><td>1</td><td>0.0</td><td>0.0</td><td>0.0</td><td>1.0</td><td>0.0</td><td>19.0</td><td>null</td></tr>\n",
       "<tr><td>9ba8c96ccba6cd1f0...</td><td>0</td><td>0.0</td><td>0.0</td><td>0.0</td><td>0.0</td><td>0.0</td><td>37.0</td><td>null</td></tr>\n",
       "</table>\n",
       "only showing top 20 rows\n"
      ],
      "text/plain": [
       "+--------------------+------------+------------+-------+--------------------+--------------------+-----------------------+-------------------------+------------------------+\n",
       "|           member_id|dealing_2yrs|dealing_amnt|pub_rec|pub_rec_bankruptcies|inquiry_last_6months|total_recorded_late_fee|months_since_last_dealing|months_since_last_record|\n",
       "+--------------------+------------+------------+-------+--------------------+--------------------+-----------------------+-------------------------+------------------------+\n",
       "|b59d80da191f5b573...|           0|         0.0|    0.0|                 0.0|                 1.0|                    0.0|                     31.0|                    null|\n",
       "|202d9f56ecb7c3bc9...|           1|         0.0|    0.0|                 0.0|                 0.0|                    0.0|                      6.0|                    null|\n",
       "|e5a140c0922b554b9...|           0|         0.0|    0.0|                 0.0|                 0.0|                    0.0|                     47.0|                    null|\n",
       "|e12aefc548f750777...|           0|         0.0|    0.0|                 0.0|                 0.0|                    0.0|                     33.0|                    null|\n",
       "|1b3a50d854fbbf97e...|           1|         0.0|    0.0|                 0.0|                 0.0|                    0.0|                     21.0|                    null|\n",
       "|1c4329e5f17697127...|           0|         0.0|    0.0|                 0.0|                 0.0|                    0.0|                     null|                    null|\n",
       "|5026c86ad983175eb...|           0|         0.0|    1.0|                 0.0|                 2.0|                    0.0|                     null|                    71.0|\n",
       "|9847d8c1e9d0b2084...|           1|         0.0|    2.0|                 0.0|                 0.0|                    0.0|                      6.0|                    63.0|\n",
       "|8340dbe1adea41fb4...|           0|         0.0|    0.0|                 0.0|                 0.0|                    0.0|                     36.0|                    null|\n",
       "|d4de0de3ab7d79ad4...|           0|         0.0|    0.0|                 0.0|                 0.0|                    0.0|                     35.0|                    null|\n",
       "|3df3cdeddb74a8712...|           0|         0.0|    0.0|                 0.0|                 0.0|                    0.0|                     null|                    null|\n",
       "|9dd72636b1b4045b4...|           0|         0.0|    0.0|                 0.0|                 3.0|                    0.0|                     null|                    null|\n",
       "|1d4e1ef4353b73c00...|           0|         0.0|    0.0|                 0.0|                 2.0|                    0.0|                     30.0|                    null|\n",
       "|6f196952e71277fd4...|           4|         0.0|    0.0|                 0.0|                 0.0|                    0.0|                      5.0|                    null|\n",
       "|9c617cbc6e3e3d6a1...|           1|         0.0|    0.0|                 0.0|                 2.0|                    0.0|                     20.0|                    null|\n",
       "|45eb04dd75400a942...|           0|         0.0|    0.0|                 0.0|                 2.0|                    0.0|                     28.0|                    null|\n",
       "|08d233c81f9e50726...|           0|         0.0|    0.0|                 0.0|                 1.0|                    0.0|                     null|                    null|\n",
       "|8ff4d0ed17a1cab92...|           1|         0.0|    2.0|                 0.0|                 2.0|                    0.0|                     15.0|                    32.0|\n",
       "|aec13cfd611b2cfea...|           1|         0.0|    0.0|                 0.0|                 1.0|                    0.0|                     19.0|                    null|\n",
       "|9ba8c96ccba6cd1f0...|           0|         0.0|    0.0|                 0.0|                 0.0|                    0.0|                     37.0|                    null|\n",
       "+--------------------+------------+------------+-------+--------------------+--------------------+-----------------------+-------------------------+------------------------+\n",
       "only showing top 20 rows"
      ]
     },
     "execution_count": 9,
     "metadata": {},
     "output_type": "execute_result"
    }
   ],
   "source": [
    "loans_dealing_modified"
   ]
  },
  {
   "cell_type": "code",
   "execution_count": 10,
   "id": "1d66eb2a",
   "metadata": {},
   "outputs": [],
   "source": [
    "loans_dealing_modified.createOrReplaceTempView(\"loans_def\")"
   ]
  },
  {
   "cell_type": "code",
   "execution_count": 12,
   "id": "eea16778",
   "metadata": {},
   "outputs": [
    {
     "name": "stdout",
     "output_type": "stream",
     "text": [
      "+------------+-------+\n",
      "|dealing_2yrs|  total|\n",
      "+------------+-------+\n",
      "|           0|1839141|\n",
      "|           1| 281337|\n",
      "|           2|  81285|\n",
      "|           3|  29545|\n",
      "|           4|  13180|\n",
      "|           5|   6601|\n",
      "|           6|   3719|\n",
      "|           7|   2063|\n",
      "|           8|   1226|\n",
      "|           9|    821|\n",
      "|          10|    558|\n",
      "|          11|    363|\n",
      "|          12|    266|\n",
      "|          13|    167|\n",
      "|          14|    123|\n",
      "|          15|     90|\n",
      "|          16|     56|\n",
      "|          17|     33|\n",
      "|          18|     32|\n",
      "|          19|     24|\n",
      "|          20|     19|\n",
      "|          21|     16|\n",
      "|          22|      7|\n",
      "|          24|      6|\n",
      "|          23|      5|\n",
      "|          26|      4|\n",
      "|          29|      2|\n",
      "|          25|      2|\n",
      "|          30|      2|\n",
      "|          28|      1|\n",
      "|          27|      1|\n",
      "|          32|      1|\n",
      "|          35|      1|\n",
      "|          39|      1|\n",
      "|          58|      1|\n",
      "|          42|      1|\n",
      "|          36|      1|\n",
      "+------------+-------+\n",
      "\n"
     ]
    }
   ],
   "source": [
    "    spark.sql(\"select dealing_2yrs,count(*) as total from loans_def group by dealing_2yrs order by total desc\").show(50)"
   ]
  },
  {
   "cell_type": "code",
   "execution_count": 13,
   "id": "a6fb18b8",
   "metadata": {},
   "outputs": [],
   "source": [
    "loans_def_dealing_df = spark.sql(\"select member_id,dealing_2yrs,dealing_amnt,int(months_since_last_dealing)  from loans_def where dealing_2yrs>0 and months_since_last_dealing>0\")"
   ]
  },
  {
   "cell_type": "code",
   "execution_count": 14,
   "id": "f6818f26",
   "metadata": {},
   "outputs": [
    {
     "data": {
      "text/html": [
       "<table border='1'>\n",
       "<tr><th>member_id</th><th>dealing_2yrs</th><th>dealing_amnt</th><th>months_since_last_dealing</th></tr>\n",
       "<tr><td>202d9f56ecb7c3bc9...</td><td>1</td><td>0.0</td><td>6</td></tr>\n",
       "<tr><td>1b3a50d854fbbf97e...</td><td>1</td><td>0.0</td><td>21</td></tr>\n",
       "<tr><td>9847d8c1e9d0b2084...</td><td>1</td><td>0.0</td><td>6</td></tr>\n",
       "<tr><td>6f196952e71277fd4...</td><td>4</td><td>0.0</td><td>5</td></tr>\n",
       "<tr><td>9c617cbc6e3e3d6a1...</td><td>1</td><td>0.0</td><td>20</td></tr>\n",
       "<tr><td>8ff4d0ed17a1cab92...</td><td>1</td><td>0.0</td><td>15</td></tr>\n",
       "<tr><td>aec13cfd611b2cfea...</td><td>1</td><td>0.0</td><td>19</td></tr>\n",
       "<tr><td>af7a8a661df3318bd...</td><td>2</td><td>0.0</td><td>7</td></tr>\n",
       "<tr><td>176d6002f8f60ea33...</td><td>1</td><td>1850.0</td><td>1</td></tr>\n",
       "<tr><td>2a589bfc0ceedd44d...</td><td>1</td><td>0.0</td><td>1</td></tr>\n",
       "<tr><td>0faad9eafd79cdb0f...</td><td>1</td><td>0.0</td><td>17</td></tr>\n",
       "<tr><td>c667c98df57c9e1fd...</td><td>4</td><td>0.0</td><td>10</td></tr>\n",
       "<tr><td>486b79f40a3a8ed72...</td><td>1</td><td>0.0</td><td>14</td></tr>\n",
       "<tr><td>a1446f02aa29aaafa...</td><td>1</td><td>0.0</td><td>5</td></tr>\n",
       "<tr><td>9768305c49441eb4e...</td><td>1</td><td>0.0</td><td>12</td></tr>\n",
       "<tr><td>bb636703e3c8bfc86...</td><td>1</td><td>0.0</td><td>17</td></tr>\n",
       "<tr><td>39c33b1a817cc1b2f...</td><td>1</td><td>0.0</td><td>16</td></tr>\n",
       "<tr><td>89cb1445a8d029377...</td><td>1</td><td>0.0</td><td>13</td></tr>\n",
       "<tr><td>dad01217ec5d81d7b...</td><td>1</td><td>0.0</td><td>10</td></tr>\n",
       "<tr><td>0b400437eb7a0767a...</td><td>1</td><td>0.0</td><td>22</td></tr>\n",
       "</table>\n",
       "only showing top 20 rows\n"
      ],
      "text/plain": [
       "+--------------------+------------+------------+-------------------------+\n",
       "|           member_id|dealing_2yrs|dealing_amnt|months_since_last_dealing|\n",
       "+--------------------+------------+------------+-------------------------+\n",
       "|202d9f56ecb7c3bc9...|           1|         0.0|                        6|\n",
       "|1b3a50d854fbbf97e...|           1|         0.0|                       21|\n",
       "|9847d8c1e9d0b2084...|           1|         0.0|                        6|\n",
       "|6f196952e71277fd4...|           4|         0.0|                        5|\n",
       "|9c617cbc6e3e3d6a1...|           1|         0.0|                       20|\n",
       "|8ff4d0ed17a1cab92...|           1|         0.0|                       15|\n",
       "|aec13cfd611b2cfea...|           1|         0.0|                       19|\n",
       "|af7a8a661df3318bd...|           2|         0.0|                        7|\n",
       "|176d6002f8f60ea33...|           1|      1850.0|                        1|\n",
       "|2a589bfc0ceedd44d...|           1|         0.0|                        1|\n",
       "|0faad9eafd79cdb0f...|           1|         0.0|                       17|\n",
       "|c667c98df57c9e1fd...|           4|         0.0|                       10|\n",
       "|486b79f40a3a8ed72...|           1|         0.0|                       14|\n",
       "|a1446f02aa29aaafa...|           1|         0.0|                        5|\n",
       "|9768305c49441eb4e...|           1|         0.0|                       12|\n",
       "|bb636703e3c8bfc86...|           1|         0.0|                       17|\n",
       "|39c33b1a817cc1b2f...|           1|         0.0|                       16|\n",
       "|89cb1445a8d029377...|           1|         0.0|                       13|\n",
       "|dad01217ec5d81d7b...|           1|         0.0|                       10|\n",
       "|0b400437eb7a0767a...|           1|         0.0|                       22|\n",
       "+--------------------+------------+------------+-------------------------+\n",
       "only showing top 20 rows"
      ]
     },
     "execution_count": 14,
     "metadata": {},
     "output_type": "execute_result"
    }
   ],
   "source": [
    "loans_def_dealing_df"
   ]
  },
  {
   "cell_type": "code",
   "execution_count": 45,
   "id": "a0bcc7f7",
   "metadata": {},
   "outputs": [],
   "source": [
    "loans_def_inquiry = spark.sql(\"select member_id from loans_def where pub_rec>0.0 or pub_rec_bankruptcies>0.0 or inquiry_last_6months>0.0\")"
   ]
  },
  {
   "cell_type": "code",
   "execution_count": 46,
   "id": "d844877f",
   "metadata": {},
   "outputs": [
    {
     "data": {
      "text/html": [
       "<table border='1'>\n",
       "<tr><th>member_id</th></tr>\n",
       "<tr><td>b59d80da191f5b573...</td></tr>\n",
       "<tr><td>5026c86ad983175eb...</td></tr>\n",
       "<tr><td>9847d8c1e9d0b2084...</td></tr>\n",
       "<tr><td>9dd72636b1b4045b4...</td></tr>\n",
       "<tr><td>1d4e1ef4353b73c00...</td></tr>\n",
       "<tr><td>9c617cbc6e3e3d6a1...</td></tr>\n",
       "<tr><td>45eb04dd75400a942...</td></tr>\n",
       "<tr><td>08d233c81f9e50726...</td></tr>\n",
       "<tr><td>8ff4d0ed17a1cab92...</td></tr>\n",
       "<tr><td>aec13cfd611b2cfea...</td></tr>\n",
       "<tr><td>9a51bdc18e2728f9d...</td></tr>\n",
       "<tr><td>2cf47faee0c996343...</td></tr>\n",
       "<tr><td>220e4dd490018abff...</td></tr>\n",
       "<tr><td>aaa32c29cb9ccc7ff...</td></tr>\n",
       "<tr><td>af7a8a661df3318bd...</td></tr>\n",
       "<tr><td>50616b8d1d05cb02a...</td></tr>\n",
       "<tr><td>fbee3f20b9ef84a11...</td></tr>\n",
       "<tr><td>09acc6aa8fd3b0bc8...</td></tr>\n",
       "<tr><td>54b5f6d81c74dd11c...</td></tr>\n",
       "<tr><td>176d6002f8f60ea33...</td></tr>\n",
       "</table>\n",
       "only showing top 20 rows\n"
      ],
      "text/plain": [
       "+--------------------+\n",
       "|           member_id|\n",
       "+--------------------+\n",
       "|b59d80da191f5b573...|\n",
       "|5026c86ad983175eb...|\n",
       "|9847d8c1e9d0b2084...|\n",
       "|9dd72636b1b4045b4...|\n",
       "|1d4e1ef4353b73c00...|\n",
       "|9c617cbc6e3e3d6a1...|\n",
       "|45eb04dd75400a942...|\n",
       "|08d233c81f9e50726...|\n",
       "|8ff4d0ed17a1cab92...|\n",
       "|aec13cfd611b2cfea...|\n",
       "|9a51bdc18e2728f9d...|\n",
       "|2cf47faee0c996343...|\n",
       "|220e4dd490018abff...|\n",
       "|aaa32c29cb9ccc7ff...|\n",
       "|af7a8a661df3318bd...|\n",
       "|50616b8d1d05cb02a...|\n",
       "|fbee3f20b9ef84a11...|\n",
       "|09acc6aa8fd3b0bc8...|\n",
       "|54b5f6d81c74dd11c...|\n",
       "|176d6002f8f60ea33...|\n",
       "+--------------------+\n",
       "only showing top 20 rows"
      ]
     },
     "execution_count": 46,
     "metadata": {},
     "output_type": "execute_result"
    }
   ],
   "source": [
    "loans_def_inquiry"
   ]
  },
  {
   "cell_type": "code",
   "execution_count": 47,
   "id": "68d02a36",
   "metadata": {},
   "outputs": [],
   "source": [
    "loans_def_dealing_df.write \\\n",
    ".format(\"csv\") \\\n",
    ".option(\"header\", True) \\\n",
    ".mode(\"overwrite\") \\\n",
    ".option(\"path\",\"/user/itv009959/lendingclubproject/cleaned/loans_defaulters_dealing_csv\") \\\n",
    ".save()"
   ]
  },
  {
   "cell_type": "code",
   "execution_count": 48,
   "id": "99a4ffe0",
   "metadata": {},
   "outputs": [],
   "source": [
    "loans_def_dealing_df.write \\\n",
    ".format(\"parquet\") \\\n",
    ".mode(\"overwrite\") \\\n",
    ".option(\"path\",\"/user/itv009959/lendingclubproject/cleaned/loans_defaulters_dealing_parquet\") \\\n",
    ".save()"
   ]
  },
  {
   "cell_type": "code",
   "execution_count": 49,
   "id": "83f3aba2",
   "metadata": {},
   "outputs": [],
   "source": [
    "loans_def_inquiry.write \\\n",
    ".format(\"csv\") \\\n",
    ".option(\"header\", True) \\\n",
    ".mode(\"overwrite\") \\\n",
    ".option(\"path\",\"/user/itv009959/lendingclubproject/cleaned/loans_defaulters_inquiry_csv\") \\\n",
    ".save()"
   ]
  },
  {
   "cell_type": "code",
   "execution_count": 50,
   "id": "dcc615ea",
   "metadata": {},
   "outputs": [],
   "source": [
    "loans_def_inquiry.write \\\n",
    ".format(\"parquet\") \\\n",
    ".mode(\"overwrite\") \\\n",
    ".option(\"path\",\"/user/itv009959/lendingclubproject/cleaned/loans_defaulters_inquiry_parquet\") \\\n",
    ".save()"
   ]
  },
  {
   "cell_type": "code",
   "execution_count": 15,
   "id": "2a309117",
   "metadata": {},
   "outputs": [],
   "source": [
    "loans_dealing_p_public_rec_modified = loans_dealing_modified.withColumn(\"pub_rec\",col(\"pub_rec\").cast(\"int\")).fillna(0,subset=[\"pub_rec\"]) "
   ]
  },
  {
   "cell_type": "code",
   "execution_count": 16,
   "id": "6b05f2bd",
   "metadata": {},
   "outputs": [],
   "source": [
    "loans_dealing_p_public_rec_bank_modified = loans_dealing_p_public_rec_modified.withColumn(\"pub_rec_bankruptcies\",col(\"pub_rec_bankruptcies\").cast(\"int\")).fillna(0,subset=[\"pub_rec_bankruptcies\"]) "
   ]
  },
  {
   "cell_type": "code",
   "execution_count": 17,
   "id": "9039cabf",
   "metadata": {},
   "outputs": [],
   "source": [
    "loans_dealing_inq6months_modified = loans_dealing_p_public_rec_bank_modified.withColumn(\"inquiry_last_6months\",col(\"inquiry_last_6months\").cast(\"int\")).fillna(0,subset=[\"inquiry_last_6months\"]) "
   ]
  },
  {
   "cell_type": "code",
   "execution_count": 18,
   "id": "abf52998",
   "metadata": {},
   "outputs": [],
   "source": [
    "loans_dealing_inq6months_modified.createOrReplaceTempView(\"loans_def\")"
   ]
  },
  {
   "cell_type": "code",
   "execution_count": 19,
   "id": "c90a8b38",
   "metadata": {},
   "outputs": [],
   "source": [
    "loans_def_detail_inquiry = spark.sql(\"select member_id, pub_rec, pub_rec_bankruptcies, inquiry_last_6months from loans_def \")"
   ]
  },
  {
   "cell_type": "code",
   "execution_count": 21,
   "id": "17b14b16",
   "metadata": {},
   "outputs": [
    {
     "data": {
      "text/plain": [
       "2260701"
      ]
     },
     "execution_count": 21,
     "metadata": {},
     "output_type": "execute_result"
    }
   ],
   "source": [
    "loans_def_detail_inquiry.count()"
   ]
  },
  {
   "cell_type": "code",
   "execution_count": 22,
   "id": "c33fa5a9",
   "metadata": {},
   "outputs": [],
   "source": [
    "loans_def_detail_inquiry.write \\\n",
    ".format(\"csv\") \\\n",
    ".option(\"header\", True) \\\n",
    ".mode(\"overwrite\") \\\n",
    ".option(\"path\",\"/user/itv009959/lendingclubproject/cleaned/loans_defaulters_detail_records_csv\") \\\n",
    ".save()"
   ]
  },
  {
   "cell_type": "code",
   "execution_count": 23,
   "id": "653e9fcb",
   "metadata": {},
   "outputs": [],
   "source": [
    "loans_def_detail_inquiry.write \\\n",
    ".format(\"parquet\") \\\n",
    ".mode(\"overwrite\") \\\n",
    ".option(\"path\",\"/user/itv009959/lendingclubproject/cleaned/loans_defaulters_detail_records_parquet\") \\\n",
    ".save()"
   ]
  },
  {
   "cell_type": "code",
   "execution_count": null,
   "id": "600bcbf6",
   "metadata": {},
   "outputs": [],
   "source": []
  }
 ],
 "metadata": {
  "kernelspec": {
   "display_name": "Pyspark 3",
   "language": "python",
   "name": "pyspark3"
  },
  "language_info": {
   "codemirror_mode": {
    "name": "ipython",
    "version": 3
   },
   "file_extension": ".py",
   "mimetype": "text/x-python",
   "name": "python",
   "nbconvert_exporter": "python",
   "pygments_lexer": "ipython3",
   "version": "3.6.12"
  }
 },
 "nbformat": 4,
 "nbformat_minor": 5
}
