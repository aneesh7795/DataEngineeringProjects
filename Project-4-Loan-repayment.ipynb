{
 "cells": [
  {
   "cell_type": "code",
   "execution_count": 45,
   "id": "d1782fac",
   "metadata": {},
   "outputs": [],
   "source": [
    "from pyspark.sql import SparkSession\n",
    "import getpass\n",
    "username = getpass.getuser()\n",
    "spark = SparkSession. \\\n",
    "    builder. \\\n",
    "    appName(\"SparkDemo\"). \\\n",
    "    config('spark.ui.port','0'). \\\n",
    "    config('spark.shuffle.useOldFethProtocol','true'). \\\n",
    "    config('spark.sql.warehouse.dir',f'/user/{username}/warehouse'). \\\n",
    "    enableHiveSupport(). \\\n",
    "    master('yarn'). \\\n",
    "    getOrCreate()"
   ]
  },
  {
   "cell_type": "code",
   "execution_count": 46,
   "id": "84a3350c",
   "metadata": {},
   "outputs": [],
   "source": [
    "loans_repay_schema = \"\"\"loan_id string,total_principal_received float,total_interest_received float,\n",
    "total_late_fee_received float,total_payment_received float,last_payment_amount float,\n",
    "last_payment_date string,next_payment_date string \"\"\""
   ]
  },
  {
   "cell_type": "code",
   "execution_count": 47,
   "id": "0cba0a75",
   "metadata": {},
   "outputs": [],
   "source": [
    "loans_repay_raw_df = spark.read \\\n",
    ".format(\"csv\") \\\n",
    ".option(\"header\",True) \\\n",
    ".schema(loans_repay_schema) \\\n",
    ".load(\"/user/itv009959/lendingclubproject/raw/loans_repayments_csv\")"
   ]
  },
  {
   "cell_type": "code",
   "execution_count": 48,
   "id": "6136f711",
   "metadata": {},
   "outputs": [
    {
     "data": {
      "text/html": [
       "<table border='1'>\n",
       "<tr><th>loan_id</th><th>total_principal_received</th><th>total_interest_received</th><th>total_late_fee_received</th><th>total_payment_received</th><th>last_payment_amount</th><th>last_payment_date</th><th>next_payment_date</th></tr>\n",
       "<tr><td>6300587</td><td>12000.0</td><td>1864.87</td><td>20.86</td><td>13885.727</td><td>108.83</td><td>Nov-2014</td><td>null</td></tr>\n",
       "<tr><td>6311418</td><td>7125.0</td><td>95.92</td><td>0.0</td><td>7220.9243</td><td>7220.52</td><td>Sep-2013</td><td>null</td></tr>\n",
       "<tr><td>6321535</td><td>24000.0</td><td>7418.84</td><td>0.0</td><td>31418.84</td><td>13979.48</td><td>Apr-2016</td><td>null</td></tr>\n",
       "<tr><td>6300526</td><td>24000.0</td><td>2296.28</td><td>0.0</td><td>26296.275</td><td>730.17</td><td>Aug-2016</td><td>null</td></tr>\n",
       "<tr><td>6301469</td><td>18000.0</td><td>9239.79</td><td>0.0</td><td>27239.795</td><td>452.24</td><td>Aug-2018</td><td>null</td></tr>\n",
       "<tr><td>6306881</td><td>20000.0</td><td>2469.32</td><td>0.0</td><td>22469.322</td><td>16744.64</td><td>Oct-2014</td><td>null</td></tr>\n",
       "<tr><td>6301579</td><td>12000.0</td><td>2089.07</td><td>0.0</td><td>14089.07</td><td>4189.07</td><td>Oct-2015</td><td>null</td></tr>\n",
       "<tr><td>6291661</td><td>28000.0</td><td>12441.42</td><td>0.0</td><td>40441.42</td><td>10660.91</td><td>Apr-2017</td><td>null</td></tr>\n",
       "<tr><td>6311612</td><td>3629.9</td><td>847.39</td><td>0.0</td><td>4478.25</td><td>179.13</td><td>Sep-2015</td><td>null</td></tr>\n",
       "<tr><td>6311704</td><td>23600.0</td><td>2077.3</td><td>0.0</td><td>25677.297</td><td>21445.23</td><td>Apr-2014</td><td>null</td></tr>\n",
       "<tr><td>6301559</td><td>13375.0</td><td>3926.19</td><td>0.0</td><td>17301.188</td><td>480.18</td><td>Aug-2016</td><td>null</td></tr>\n",
       "<tr><td>6301412</td><td>17500.0</td><td>2062.85</td><td>0.0</td><td>19562.85</td><td>3748.28</td><td>Jan-2016</td><td>null</td></tr>\n",
       "<tr><td>6331614</td><td>14000.0</td><td>2442.47</td><td>0.0</td><td>16442.47</td><td>4430.47</td><td>Nov-2015</td><td>null</td></tr>\n",
       "<tr><td>6331589</td><td>1458.43</td><td>1100.69</td><td>0.0</td><td>4051.94</td><td>426.57</td><td>Mar-2014</td><td>null</td></tr>\n",
       "<tr><td>6321730</td><td>14000.0</td><td>719.51</td><td>0.0</td><td>14719.506</td><td>11239.57</td><td>May-2014</td><td>null</td></tr>\n",
       "<tr><td>6321586</td><td>15000.0</td><td>1929.76</td><td>25.29</td><td>16955.05</td><td>10354.66</td><td>Oct-2014</td><td>null</td></tr>\n",
       "<tr><td>6331533</td><td>10000.0</td><td>2248.02</td><td>0.0</td><td>12248.021</td><td>339.97</td><td>Aug-2016</td><td>null</td></tr>\n",
       "<tr><td>6321666</td><td>6239.23</td><td>1316.72</td><td>0.0</td><td>7819.45</td><td>260.55</td><td>Jan-2016</td><td>null</td></tr>\n",
       "<tr><td>6328050</td><td>10000.0</td><td>2617.64</td><td>0.0</td><td>12617.64</td><td>4937.87</td><td>Jun-2015</td><td>null</td></tr>\n",
       "<tr><td>6305315</td><td>6000.0</td><td>515.17</td><td>0.0</td><td>6515.17</td><td>4733.17</td><td>Jun-2014</td><td>null</td></tr>\n",
       "</table>\n",
       "only showing top 20 rows\n"
      ],
      "text/plain": [
       "+-------+------------------------+-----------------------+-----------------------+----------------------+-------------------+-----------------+-----------------+\n",
       "|loan_id|total_principal_received|total_interest_received|total_late_fee_received|total_payment_received|last_payment_amount|last_payment_date|next_payment_date|\n",
       "+-------+------------------------+-----------------------+-----------------------+----------------------+-------------------+-----------------+-----------------+\n",
       "|6300587|                 12000.0|                1864.87|                  20.86|             13885.727|             108.83|         Nov-2014|             null|\n",
       "|6311418|                  7125.0|                  95.92|                    0.0|             7220.9243|            7220.52|         Sep-2013|             null|\n",
       "|6321535|                 24000.0|                7418.84|                    0.0|              31418.84|           13979.48|         Apr-2016|             null|\n",
       "|6300526|                 24000.0|                2296.28|                    0.0|             26296.275|             730.17|         Aug-2016|             null|\n",
       "|6301469|                 18000.0|                9239.79|                    0.0|             27239.795|             452.24|         Aug-2018|             null|\n",
       "|6306881|                 20000.0|                2469.32|                    0.0|             22469.322|           16744.64|         Oct-2014|             null|\n",
       "|6301579|                 12000.0|                2089.07|                    0.0|              14089.07|            4189.07|         Oct-2015|             null|\n",
       "|6291661|                 28000.0|               12441.42|                    0.0|              40441.42|           10660.91|         Apr-2017|             null|\n",
       "|6311612|                  3629.9|                 847.39|                    0.0|               4478.25|             179.13|         Sep-2015|             null|\n",
       "|6311704|                 23600.0|                 2077.3|                    0.0|             25677.297|           21445.23|         Apr-2014|             null|\n",
       "|6301559|                 13375.0|                3926.19|                    0.0|             17301.188|             480.18|         Aug-2016|             null|\n",
       "|6301412|                 17500.0|                2062.85|                    0.0|              19562.85|            3748.28|         Jan-2016|             null|\n",
       "|6331614|                 14000.0|                2442.47|                    0.0|              16442.47|            4430.47|         Nov-2015|             null|\n",
       "|6331589|                 1458.43|                1100.69|                    0.0|               4051.94|             426.57|         Mar-2014|             null|\n",
       "|6321730|                 14000.0|                 719.51|                    0.0|             14719.506|           11239.57|         May-2014|             null|\n",
       "|6321586|                 15000.0|                1929.76|                  25.29|              16955.05|           10354.66|         Oct-2014|             null|\n",
       "|6331533|                 10000.0|                2248.02|                    0.0|             12248.021|             339.97|         Aug-2016|             null|\n",
       "|6321666|                 6239.23|                1316.72|                    0.0|               7819.45|             260.55|         Jan-2016|             null|\n",
       "|6328050|                 10000.0|                2617.64|                    0.0|              12617.64|            4937.87|         Jun-2015|             null|\n",
       "|6305315|                  6000.0|                 515.17|                    0.0|               6515.17|            4733.17|         Jun-2014|             null|\n",
       "+-------+------------------------+-----------------------+-----------------------+----------------------+-------------------+-----------------+-----------------+\n",
       "only showing top 20 rows"
      ]
     },
     "execution_count": 48,
     "metadata": {},
     "output_type": "execute_result"
    }
   ],
   "source": [
    "loans_repay_raw_df"
   ]
  },
  {
   "cell_type": "code",
   "execution_count": 49,
   "id": "19fdb047",
   "metadata": {},
   "outputs": [
    {
     "name": "stdout",
     "output_type": "stream",
     "text": [
      "root\n",
      " |-- loan_id: string (nullable = true)\n",
      " |-- total_principal_received: float (nullable = true)\n",
      " |-- total_interest_received: float (nullable = true)\n",
      " |-- total_late_fee_received: float (nullable = true)\n",
      " |-- total_payment_received: float (nullable = true)\n",
      " |-- last_payment_amount: float (nullable = true)\n",
      " |-- last_payment_date: string (nullable = true)\n",
      " |-- next_payment_date: string (nullable = true)\n",
      "\n"
     ]
    }
   ],
   "source": [
    "loans_repay_raw_df.printSchema()"
   ]
  },
  {
   "cell_type": "code",
   "execution_count": 50,
   "id": "23661a1d",
   "metadata": {},
   "outputs": [],
   "source": [
    "from pyspark.sql.functions import current_timestamp"
   ]
  },
  {
   "cell_type": "code",
   "execution_count": 51,
   "id": "19894314",
   "metadata": {},
   "outputs": [],
   "source": [
    "ingest_repay_ingest_df = loans_repay_raw_df.withColumn(\"ingest_date\",current_timestamp())"
   ]
  },
  {
   "cell_type": "code",
   "execution_count": 52,
   "id": "cbfa85fd",
   "metadata": {},
   "outputs": [
    {
     "data": {
      "text/html": [
       "<table border='1'>\n",
       "<tr><th>loan_id</th><th>total_principal_received</th><th>total_interest_received</th><th>total_late_fee_received</th><th>total_payment_received</th><th>last_payment_amount</th><th>last_payment_date</th><th>next_payment_date</th><th>ingest_date</th></tr>\n",
       "<tr><td>6300587</td><td>12000.0</td><td>1864.87</td><td>20.86</td><td>13885.727</td><td>108.83</td><td>Nov-2014</td><td>null</td><td>2024-03-12 20:56:...</td></tr>\n",
       "<tr><td>6311418</td><td>7125.0</td><td>95.92</td><td>0.0</td><td>7220.9243</td><td>7220.52</td><td>Sep-2013</td><td>null</td><td>2024-03-12 20:56:...</td></tr>\n",
       "<tr><td>6321535</td><td>24000.0</td><td>7418.84</td><td>0.0</td><td>31418.84</td><td>13979.48</td><td>Apr-2016</td><td>null</td><td>2024-03-12 20:56:...</td></tr>\n",
       "<tr><td>6300526</td><td>24000.0</td><td>2296.28</td><td>0.0</td><td>26296.275</td><td>730.17</td><td>Aug-2016</td><td>null</td><td>2024-03-12 20:56:...</td></tr>\n",
       "<tr><td>6301469</td><td>18000.0</td><td>9239.79</td><td>0.0</td><td>27239.795</td><td>452.24</td><td>Aug-2018</td><td>null</td><td>2024-03-12 20:56:...</td></tr>\n",
       "<tr><td>6306881</td><td>20000.0</td><td>2469.32</td><td>0.0</td><td>22469.322</td><td>16744.64</td><td>Oct-2014</td><td>null</td><td>2024-03-12 20:56:...</td></tr>\n",
       "<tr><td>6301579</td><td>12000.0</td><td>2089.07</td><td>0.0</td><td>14089.07</td><td>4189.07</td><td>Oct-2015</td><td>null</td><td>2024-03-12 20:56:...</td></tr>\n",
       "<tr><td>6291661</td><td>28000.0</td><td>12441.42</td><td>0.0</td><td>40441.42</td><td>10660.91</td><td>Apr-2017</td><td>null</td><td>2024-03-12 20:56:...</td></tr>\n",
       "<tr><td>6311612</td><td>3629.9</td><td>847.39</td><td>0.0</td><td>4478.25</td><td>179.13</td><td>Sep-2015</td><td>null</td><td>2024-03-12 20:56:...</td></tr>\n",
       "<tr><td>6311704</td><td>23600.0</td><td>2077.3</td><td>0.0</td><td>25677.297</td><td>21445.23</td><td>Apr-2014</td><td>null</td><td>2024-03-12 20:56:...</td></tr>\n",
       "<tr><td>6301559</td><td>13375.0</td><td>3926.19</td><td>0.0</td><td>17301.188</td><td>480.18</td><td>Aug-2016</td><td>null</td><td>2024-03-12 20:56:...</td></tr>\n",
       "<tr><td>6301412</td><td>17500.0</td><td>2062.85</td><td>0.0</td><td>19562.85</td><td>3748.28</td><td>Jan-2016</td><td>null</td><td>2024-03-12 20:56:...</td></tr>\n",
       "<tr><td>6331614</td><td>14000.0</td><td>2442.47</td><td>0.0</td><td>16442.47</td><td>4430.47</td><td>Nov-2015</td><td>null</td><td>2024-03-12 20:56:...</td></tr>\n",
       "<tr><td>6331589</td><td>1458.43</td><td>1100.69</td><td>0.0</td><td>4051.94</td><td>426.57</td><td>Mar-2014</td><td>null</td><td>2024-03-12 20:56:...</td></tr>\n",
       "<tr><td>6321730</td><td>14000.0</td><td>719.51</td><td>0.0</td><td>14719.506</td><td>11239.57</td><td>May-2014</td><td>null</td><td>2024-03-12 20:56:...</td></tr>\n",
       "<tr><td>6321586</td><td>15000.0</td><td>1929.76</td><td>25.29</td><td>16955.05</td><td>10354.66</td><td>Oct-2014</td><td>null</td><td>2024-03-12 20:56:...</td></tr>\n",
       "<tr><td>6331533</td><td>10000.0</td><td>2248.02</td><td>0.0</td><td>12248.021</td><td>339.97</td><td>Aug-2016</td><td>null</td><td>2024-03-12 20:56:...</td></tr>\n",
       "<tr><td>6321666</td><td>6239.23</td><td>1316.72</td><td>0.0</td><td>7819.45</td><td>260.55</td><td>Jan-2016</td><td>null</td><td>2024-03-12 20:56:...</td></tr>\n",
       "<tr><td>6328050</td><td>10000.0</td><td>2617.64</td><td>0.0</td><td>12617.64</td><td>4937.87</td><td>Jun-2015</td><td>null</td><td>2024-03-12 20:56:...</td></tr>\n",
       "<tr><td>6305315</td><td>6000.0</td><td>515.17</td><td>0.0</td><td>6515.17</td><td>4733.17</td><td>Jun-2014</td><td>null</td><td>2024-03-12 20:56:...</td></tr>\n",
       "</table>\n",
       "only showing top 20 rows\n"
      ],
      "text/plain": [
       "+-------+------------------------+-----------------------+-----------------------+----------------------+-------------------+-----------------+-----------------+--------------------+\n",
       "|loan_id|total_principal_received|total_interest_received|total_late_fee_received|total_payment_received|last_payment_amount|last_payment_date|next_payment_date|         ingest_date|\n",
       "+-------+------------------------+-----------------------+-----------------------+----------------------+-------------------+-----------------+-----------------+--------------------+\n",
       "|6300587|                 12000.0|                1864.87|                  20.86|             13885.727|             108.83|         Nov-2014|             null|2024-03-12 20:56:...|\n",
       "|6311418|                  7125.0|                  95.92|                    0.0|             7220.9243|            7220.52|         Sep-2013|             null|2024-03-12 20:56:...|\n",
       "|6321535|                 24000.0|                7418.84|                    0.0|              31418.84|           13979.48|         Apr-2016|             null|2024-03-12 20:56:...|\n",
       "|6300526|                 24000.0|                2296.28|                    0.0|             26296.275|             730.17|         Aug-2016|             null|2024-03-12 20:56:...|\n",
       "|6301469|                 18000.0|                9239.79|                    0.0|             27239.795|             452.24|         Aug-2018|             null|2024-03-12 20:56:...|\n",
       "|6306881|                 20000.0|                2469.32|                    0.0|             22469.322|           16744.64|         Oct-2014|             null|2024-03-12 20:56:...|\n",
       "|6301579|                 12000.0|                2089.07|                    0.0|              14089.07|            4189.07|         Oct-2015|             null|2024-03-12 20:56:...|\n",
       "|6291661|                 28000.0|               12441.42|                    0.0|              40441.42|           10660.91|         Apr-2017|             null|2024-03-12 20:56:...|\n",
       "|6311612|                  3629.9|                 847.39|                    0.0|               4478.25|             179.13|         Sep-2015|             null|2024-03-12 20:56:...|\n",
       "|6311704|                 23600.0|                 2077.3|                    0.0|             25677.297|           21445.23|         Apr-2014|             null|2024-03-12 20:56:...|\n",
       "|6301559|                 13375.0|                3926.19|                    0.0|             17301.188|             480.18|         Aug-2016|             null|2024-03-12 20:56:...|\n",
       "|6301412|                 17500.0|                2062.85|                    0.0|              19562.85|            3748.28|         Jan-2016|             null|2024-03-12 20:56:...|\n",
       "|6331614|                 14000.0|                2442.47|                    0.0|              16442.47|            4430.47|         Nov-2015|             null|2024-03-12 20:56:...|\n",
       "|6331589|                 1458.43|                1100.69|                    0.0|               4051.94|             426.57|         Mar-2014|             null|2024-03-12 20:56:...|\n",
       "|6321730|                 14000.0|                 719.51|                    0.0|             14719.506|           11239.57|         May-2014|             null|2024-03-12 20:56:...|\n",
       "|6321586|                 15000.0|                1929.76|                  25.29|              16955.05|           10354.66|         Oct-2014|             null|2024-03-12 20:56:...|\n",
       "|6331533|                 10000.0|                2248.02|                    0.0|             12248.021|             339.97|         Aug-2016|             null|2024-03-12 20:56:...|\n",
       "|6321666|                 6239.23|                1316.72|                    0.0|               7819.45|             260.55|         Jan-2016|             null|2024-03-12 20:56:...|\n",
       "|6328050|                 10000.0|                2617.64|                    0.0|              12617.64|            4937.87|         Jun-2015|             null|2024-03-12 20:56:...|\n",
       "|6305315|                  6000.0|                 515.17|                    0.0|               6515.17|            4733.17|         Jun-2014|             null|2024-03-12 20:56:...|\n",
       "+-------+------------------------+-----------------------+-----------------------+----------------------+-------------------+-----------------+-----------------+--------------------+\n",
       "only showing top 20 rows"
      ]
     },
     "execution_count": 52,
     "metadata": {},
     "output_type": "execute_result"
    }
   ],
   "source": [
    "ingest_repay_ingest_df"
   ]
  },
  {
   "cell_type": "code",
   "execution_count": 53,
   "id": "1d7584e3",
   "metadata": {},
   "outputs": [],
   "source": [
    "ingest_repay_ingest_df.createOrReplaceTempView(\"loan_repayments\")"
   ]
  },
  {
   "cell_type": "code",
   "execution_count": 54,
   "id": "301ab891",
   "metadata": {},
   "outputs": [
    {
     "data": {
      "text/html": [
       "<table border='1'>\n",
       "<tr><th>count(1)</th></tr>\n",
       "<tr><td>69</td></tr>\n",
       "</table>\n"
      ],
      "text/plain": [
       "+--------+\n",
       "|count(1)|\n",
       "+--------+\n",
       "|      69|\n",
       "+--------+"
      ]
     },
     "execution_count": 54,
     "metadata": {},
     "output_type": "execute_result"
    }
   ],
   "source": [
    "spark.sql(\"select count(*) from loan_repayments where total_principal_received is null\")"
   ]
  },
  {
   "cell_type": "code",
   "execution_count": 55,
   "id": "43d2869e",
   "metadata": {},
   "outputs": [],
   "source": [
    "columns_to_be_checked = [\"total_principal_received\",\"total_interest_received\",\"total_late_fee_received\",\"total_payment_received\",\"last_payment_amount\"]"
   ]
  },
  {
   "cell_type": "code",
   "execution_count": 57,
   "id": "475cf134",
   "metadata": {},
   "outputs": [],
   "source": [
    "loans_repay_filtered_df = ingest_repay_ingest_df.na.drop(subset=columns_to_be_checked)"
   ]
  },
  {
   "cell_type": "code",
   "execution_count": 58,
   "id": "b14ecb55",
   "metadata": {},
   "outputs": [
    {
     "data": {
      "text/plain": [
       "2260498"
      ]
     },
     "execution_count": 58,
     "metadata": {},
     "output_type": "execute_result"
    }
   ],
   "source": [
    "loans_repay_filtered_df.count()"
   ]
  },
  {
   "cell_type": "code",
   "execution_count": 59,
   "id": "61e9011d",
   "metadata": {},
   "outputs": [
    {
     "data": {
      "text/html": [
       "<table border='1'>\n",
       "<tr><th>loan_id</th><th>total_principal_received</th><th>total_interest_received</th><th>total_late_fee_received</th><th>total_payment_received</th><th>last_payment_amount</th><th>last_payment_date</th><th>next_payment_date</th><th>ingest_date</th></tr>\n",
       "<tr><td>6300587</td><td>12000.0</td><td>1864.87</td><td>20.86</td><td>13885.727</td><td>108.83</td><td>Nov-2014</td><td>null</td><td>2024-03-12 20:56:...</td></tr>\n",
       "<tr><td>6311418</td><td>7125.0</td><td>95.92</td><td>0.0</td><td>7220.9243</td><td>7220.52</td><td>Sep-2013</td><td>null</td><td>2024-03-12 20:56:...</td></tr>\n",
       "<tr><td>6321535</td><td>24000.0</td><td>7418.84</td><td>0.0</td><td>31418.84</td><td>13979.48</td><td>Apr-2016</td><td>null</td><td>2024-03-12 20:56:...</td></tr>\n",
       "<tr><td>6300526</td><td>24000.0</td><td>2296.28</td><td>0.0</td><td>26296.275</td><td>730.17</td><td>Aug-2016</td><td>null</td><td>2024-03-12 20:56:...</td></tr>\n",
       "<tr><td>6301469</td><td>18000.0</td><td>9239.79</td><td>0.0</td><td>27239.795</td><td>452.24</td><td>Aug-2018</td><td>null</td><td>2024-03-12 20:56:...</td></tr>\n",
       "<tr><td>6306881</td><td>20000.0</td><td>2469.32</td><td>0.0</td><td>22469.322</td><td>16744.64</td><td>Oct-2014</td><td>null</td><td>2024-03-12 20:56:...</td></tr>\n",
       "<tr><td>6301579</td><td>12000.0</td><td>2089.07</td><td>0.0</td><td>14089.07</td><td>4189.07</td><td>Oct-2015</td><td>null</td><td>2024-03-12 20:56:...</td></tr>\n",
       "<tr><td>6291661</td><td>28000.0</td><td>12441.42</td><td>0.0</td><td>40441.42</td><td>10660.91</td><td>Apr-2017</td><td>null</td><td>2024-03-12 20:56:...</td></tr>\n",
       "<tr><td>6311612</td><td>3629.9</td><td>847.39</td><td>0.0</td><td>4478.25</td><td>179.13</td><td>Sep-2015</td><td>null</td><td>2024-03-12 20:56:...</td></tr>\n",
       "<tr><td>6311704</td><td>23600.0</td><td>2077.3</td><td>0.0</td><td>25677.297</td><td>21445.23</td><td>Apr-2014</td><td>null</td><td>2024-03-12 20:56:...</td></tr>\n",
       "<tr><td>6301559</td><td>13375.0</td><td>3926.19</td><td>0.0</td><td>17301.188</td><td>480.18</td><td>Aug-2016</td><td>null</td><td>2024-03-12 20:56:...</td></tr>\n",
       "<tr><td>6301412</td><td>17500.0</td><td>2062.85</td><td>0.0</td><td>19562.85</td><td>3748.28</td><td>Jan-2016</td><td>null</td><td>2024-03-12 20:56:...</td></tr>\n",
       "<tr><td>6331614</td><td>14000.0</td><td>2442.47</td><td>0.0</td><td>16442.47</td><td>4430.47</td><td>Nov-2015</td><td>null</td><td>2024-03-12 20:56:...</td></tr>\n",
       "<tr><td>6331589</td><td>1458.43</td><td>1100.69</td><td>0.0</td><td>4051.94</td><td>426.57</td><td>Mar-2014</td><td>null</td><td>2024-03-12 20:56:...</td></tr>\n",
       "<tr><td>6321730</td><td>14000.0</td><td>719.51</td><td>0.0</td><td>14719.506</td><td>11239.57</td><td>May-2014</td><td>null</td><td>2024-03-12 20:56:...</td></tr>\n",
       "<tr><td>6321586</td><td>15000.0</td><td>1929.76</td><td>25.29</td><td>16955.05</td><td>10354.66</td><td>Oct-2014</td><td>null</td><td>2024-03-12 20:56:...</td></tr>\n",
       "<tr><td>6331533</td><td>10000.0</td><td>2248.02</td><td>0.0</td><td>12248.021</td><td>339.97</td><td>Aug-2016</td><td>null</td><td>2024-03-12 20:56:...</td></tr>\n",
       "<tr><td>6321666</td><td>6239.23</td><td>1316.72</td><td>0.0</td><td>7819.45</td><td>260.55</td><td>Jan-2016</td><td>null</td><td>2024-03-12 20:56:...</td></tr>\n",
       "<tr><td>6328050</td><td>10000.0</td><td>2617.64</td><td>0.0</td><td>12617.64</td><td>4937.87</td><td>Jun-2015</td><td>null</td><td>2024-03-12 20:56:...</td></tr>\n",
       "<tr><td>6305315</td><td>6000.0</td><td>515.17</td><td>0.0</td><td>6515.17</td><td>4733.17</td><td>Jun-2014</td><td>null</td><td>2024-03-12 20:56:...</td></tr>\n",
       "</table>\n",
       "only showing top 20 rows\n"
      ],
      "text/plain": [
       "+-------+------------------------+-----------------------+-----------------------+----------------------+-------------------+-----------------+-----------------+--------------------+\n",
       "|loan_id|total_principal_received|total_interest_received|total_late_fee_received|total_payment_received|last_payment_amount|last_payment_date|next_payment_date|         ingest_date|\n",
       "+-------+------------------------+-----------------------+-----------------------+----------------------+-------------------+-----------------+-----------------+--------------------+\n",
       "|6300587|                 12000.0|                1864.87|                  20.86|             13885.727|             108.83|         Nov-2014|             null|2024-03-12 20:56:...|\n",
       "|6311418|                  7125.0|                  95.92|                    0.0|             7220.9243|            7220.52|         Sep-2013|             null|2024-03-12 20:56:...|\n",
       "|6321535|                 24000.0|                7418.84|                    0.0|              31418.84|           13979.48|         Apr-2016|             null|2024-03-12 20:56:...|\n",
       "|6300526|                 24000.0|                2296.28|                    0.0|             26296.275|             730.17|         Aug-2016|             null|2024-03-12 20:56:...|\n",
       "|6301469|                 18000.0|                9239.79|                    0.0|             27239.795|             452.24|         Aug-2018|             null|2024-03-12 20:56:...|\n",
       "|6306881|                 20000.0|                2469.32|                    0.0|             22469.322|           16744.64|         Oct-2014|             null|2024-03-12 20:56:...|\n",
       "|6301579|                 12000.0|                2089.07|                    0.0|              14089.07|            4189.07|         Oct-2015|             null|2024-03-12 20:56:...|\n",
       "|6291661|                 28000.0|               12441.42|                    0.0|              40441.42|           10660.91|         Apr-2017|             null|2024-03-12 20:56:...|\n",
       "|6311612|                  3629.9|                 847.39|                    0.0|               4478.25|             179.13|         Sep-2015|             null|2024-03-12 20:56:...|\n",
       "|6311704|                 23600.0|                 2077.3|                    0.0|             25677.297|           21445.23|         Apr-2014|             null|2024-03-12 20:56:...|\n",
       "|6301559|                 13375.0|                3926.19|                    0.0|             17301.188|             480.18|         Aug-2016|             null|2024-03-12 20:56:...|\n",
       "|6301412|                 17500.0|                2062.85|                    0.0|              19562.85|            3748.28|         Jan-2016|             null|2024-03-12 20:56:...|\n",
       "|6331614|                 14000.0|                2442.47|                    0.0|              16442.47|            4430.47|         Nov-2015|             null|2024-03-12 20:56:...|\n",
       "|6331589|                 1458.43|                1100.69|                    0.0|               4051.94|             426.57|         Mar-2014|             null|2024-03-12 20:56:...|\n",
       "|6321730|                 14000.0|                 719.51|                    0.0|             14719.506|           11239.57|         May-2014|             null|2024-03-12 20:56:...|\n",
       "|6321586|                 15000.0|                1929.76|                  25.29|              16955.05|           10354.66|         Oct-2014|             null|2024-03-12 20:56:...|\n",
       "|6331533|                 10000.0|                2248.02|                    0.0|             12248.021|             339.97|         Aug-2016|             null|2024-03-12 20:56:...|\n",
       "|6321666|                 6239.23|                1316.72|                    0.0|               7819.45|             260.55|         Jan-2016|             null|2024-03-12 20:56:...|\n",
       "|6328050|                 10000.0|                2617.64|                    0.0|              12617.64|            4937.87|         Jun-2015|             null|2024-03-12 20:56:...|\n",
       "|6305315|                  6000.0|                 515.17|                    0.0|               6515.17|            4733.17|         Jun-2014|             null|2024-03-12 20:56:...|\n",
       "+-------+------------------------+-----------------------+-----------------------+----------------------+-------------------+-----------------+-----------------+--------------------+\n",
       "only showing top 20 rows"
      ]
     },
     "execution_count": 59,
     "metadata": {},
     "output_type": "execute_result"
    }
   ],
   "source": [
    "loans_repay_filtered_df"
   ]
  },
  {
   "cell_type": "code",
   "execution_count": 60,
   "id": "571ff03d",
   "metadata": {},
   "outputs": [],
   "source": [
    "loans_repay_filtered_df.createOrReplaceTempView(\"loans\")"
   ]
  },
  {
   "cell_type": "code",
   "execution_count": 61,
   "id": "70746ff0",
   "metadata": {},
   "outputs": [
    {
     "data": {
      "text/html": [
       "<table border='1'>\n",
       "<tr><th>count(1)</th></tr>\n",
       "<tr><td>46</td></tr>\n",
       "</table>\n"
      ],
      "text/plain": [
       "+--------+\n",
       "|count(1)|\n",
       "+--------+\n",
       "|      46|\n",
       "+--------+"
      ]
     },
     "execution_count": 61,
     "metadata": {},
     "output_type": "execute_result"
    }
   ],
   "source": [
    "spark.sql(\"select count(*) from loans where total_payment_received=0.0 and total_principal_received > 0.0\")"
   ]
  },
  {
   "cell_type": "code",
   "execution_count": 63,
   "id": "980d9672",
   "metadata": {},
   "outputs": [],
   "source": [
    "from pyspark.sql.functions import when, col"
   ]
  },
  {
   "cell_type": "code",
   "execution_count": 67,
   "id": "7b10642b",
   "metadata": {},
   "outputs": [],
   "source": [
    "loans_payments_fixed_df = loans_repay_filtered_df.withColumn(\n",
    "                                    \"total_payment_received\",\n",
    "                                   when(\n",
    "                                       (col(\"total_payment_received\")==0.0) &\n",
    "                                        (col(\"total_principal_received\")!=0.0),\n",
    "                                   col(\"total_principal_received\")+col(\"total_interest_received\")+col(\"total_late_fee_received\"))\n",
    ".otherwise(col(\"total_payment_received\")))"
   ]
  },
  {
   "cell_type": "code",
   "execution_count": 68,
   "id": "7bbdbbd2",
   "metadata": {},
   "outputs": [
    {
     "data": {
      "text/html": [
       "<table border='1'>\n",
       "<tr><th>loan_id</th><th>total_principal_received</th><th>total_interest_received</th><th>total_late_fee_received</th><th>total_payment_received</th><th>last_payment_amount</th><th>last_payment_date</th><th>next_payment_date</th><th>ingest_date</th></tr>\n",
       "<tr><td>6300587</td><td>12000.0</td><td>1864.87</td><td>20.86</td><td>13885.727</td><td>108.83</td><td>Nov-2014</td><td>null</td><td>2024-03-12 21:02:...</td></tr>\n",
       "<tr><td>6311418</td><td>7125.0</td><td>95.92</td><td>0.0</td><td>7220.9243</td><td>7220.52</td><td>Sep-2013</td><td>null</td><td>2024-03-12 21:02:...</td></tr>\n",
       "<tr><td>6321535</td><td>24000.0</td><td>7418.84</td><td>0.0</td><td>31418.84</td><td>13979.48</td><td>Apr-2016</td><td>null</td><td>2024-03-12 21:02:...</td></tr>\n",
       "<tr><td>6300526</td><td>24000.0</td><td>2296.28</td><td>0.0</td><td>26296.275</td><td>730.17</td><td>Aug-2016</td><td>null</td><td>2024-03-12 21:02:...</td></tr>\n",
       "<tr><td>6301469</td><td>18000.0</td><td>9239.79</td><td>0.0</td><td>27239.795</td><td>452.24</td><td>Aug-2018</td><td>null</td><td>2024-03-12 21:02:...</td></tr>\n",
       "<tr><td>6306881</td><td>20000.0</td><td>2469.32</td><td>0.0</td><td>22469.322</td><td>16744.64</td><td>Oct-2014</td><td>null</td><td>2024-03-12 21:02:...</td></tr>\n",
       "<tr><td>6301579</td><td>12000.0</td><td>2089.07</td><td>0.0</td><td>14089.07</td><td>4189.07</td><td>Oct-2015</td><td>null</td><td>2024-03-12 21:02:...</td></tr>\n",
       "<tr><td>6291661</td><td>28000.0</td><td>12441.42</td><td>0.0</td><td>40441.42</td><td>10660.91</td><td>Apr-2017</td><td>null</td><td>2024-03-12 21:02:...</td></tr>\n",
       "<tr><td>6311612</td><td>3629.9</td><td>847.39</td><td>0.0</td><td>4478.25</td><td>179.13</td><td>Sep-2015</td><td>null</td><td>2024-03-12 21:02:...</td></tr>\n",
       "<tr><td>6311704</td><td>23600.0</td><td>2077.3</td><td>0.0</td><td>25677.297</td><td>21445.23</td><td>Apr-2014</td><td>null</td><td>2024-03-12 21:02:...</td></tr>\n",
       "<tr><td>6301559</td><td>13375.0</td><td>3926.19</td><td>0.0</td><td>17301.188</td><td>480.18</td><td>Aug-2016</td><td>null</td><td>2024-03-12 21:02:...</td></tr>\n",
       "<tr><td>6301412</td><td>17500.0</td><td>2062.85</td><td>0.0</td><td>19562.85</td><td>3748.28</td><td>Jan-2016</td><td>null</td><td>2024-03-12 21:02:...</td></tr>\n",
       "<tr><td>6331614</td><td>14000.0</td><td>2442.47</td><td>0.0</td><td>16442.47</td><td>4430.47</td><td>Nov-2015</td><td>null</td><td>2024-03-12 21:02:...</td></tr>\n",
       "<tr><td>6331589</td><td>1458.43</td><td>1100.69</td><td>0.0</td><td>4051.94</td><td>426.57</td><td>Mar-2014</td><td>null</td><td>2024-03-12 21:02:...</td></tr>\n",
       "<tr><td>6321730</td><td>14000.0</td><td>719.51</td><td>0.0</td><td>14719.506</td><td>11239.57</td><td>May-2014</td><td>null</td><td>2024-03-12 21:02:...</td></tr>\n",
       "<tr><td>6321586</td><td>15000.0</td><td>1929.76</td><td>25.29</td><td>16955.05</td><td>10354.66</td><td>Oct-2014</td><td>null</td><td>2024-03-12 21:02:...</td></tr>\n",
       "<tr><td>6331533</td><td>10000.0</td><td>2248.02</td><td>0.0</td><td>12248.021</td><td>339.97</td><td>Aug-2016</td><td>null</td><td>2024-03-12 21:02:...</td></tr>\n",
       "<tr><td>6321666</td><td>6239.23</td><td>1316.72</td><td>0.0</td><td>7819.45</td><td>260.55</td><td>Jan-2016</td><td>null</td><td>2024-03-12 21:02:...</td></tr>\n",
       "<tr><td>6328050</td><td>10000.0</td><td>2617.64</td><td>0.0</td><td>12617.64</td><td>4937.87</td><td>Jun-2015</td><td>null</td><td>2024-03-12 21:02:...</td></tr>\n",
       "<tr><td>6305315</td><td>6000.0</td><td>515.17</td><td>0.0</td><td>6515.17</td><td>4733.17</td><td>Jun-2014</td><td>null</td><td>2024-03-12 21:02:...</td></tr>\n",
       "</table>\n",
       "only showing top 20 rows\n"
      ],
      "text/plain": [
       "+-------+------------------------+-----------------------+-----------------------+----------------------+-------------------+-----------------+-----------------+--------------------+\n",
       "|loan_id|total_principal_received|total_interest_received|total_late_fee_received|total_payment_received|last_payment_amount|last_payment_date|next_payment_date|         ingest_date|\n",
       "+-------+------------------------+-----------------------+-----------------------+----------------------+-------------------+-----------------+-----------------+--------------------+\n",
       "|6300587|                 12000.0|                1864.87|                  20.86|             13885.727|             108.83|         Nov-2014|             null|2024-03-12 21:02:...|\n",
       "|6311418|                  7125.0|                  95.92|                    0.0|             7220.9243|            7220.52|         Sep-2013|             null|2024-03-12 21:02:...|\n",
       "|6321535|                 24000.0|                7418.84|                    0.0|              31418.84|           13979.48|         Apr-2016|             null|2024-03-12 21:02:...|\n",
       "|6300526|                 24000.0|                2296.28|                    0.0|             26296.275|             730.17|         Aug-2016|             null|2024-03-12 21:02:...|\n",
       "|6301469|                 18000.0|                9239.79|                    0.0|             27239.795|             452.24|         Aug-2018|             null|2024-03-12 21:02:...|\n",
       "|6306881|                 20000.0|                2469.32|                    0.0|             22469.322|           16744.64|         Oct-2014|             null|2024-03-12 21:02:...|\n",
       "|6301579|                 12000.0|                2089.07|                    0.0|              14089.07|            4189.07|         Oct-2015|             null|2024-03-12 21:02:...|\n",
       "|6291661|                 28000.0|               12441.42|                    0.0|              40441.42|           10660.91|         Apr-2017|             null|2024-03-12 21:02:...|\n",
       "|6311612|                  3629.9|                 847.39|                    0.0|               4478.25|             179.13|         Sep-2015|             null|2024-03-12 21:02:...|\n",
       "|6311704|                 23600.0|                 2077.3|                    0.0|             25677.297|           21445.23|         Apr-2014|             null|2024-03-12 21:02:...|\n",
       "|6301559|                 13375.0|                3926.19|                    0.0|             17301.188|             480.18|         Aug-2016|             null|2024-03-12 21:02:...|\n",
       "|6301412|                 17500.0|                2062.85|                    0.0|              19562.85|            3748.28|         Jan-2016|             null|2024-03-12 21:02:...|\n",
       "|6331614|                 14000.0|                2442.47|                    0.0|              16442.47|            4430.47|         Nov-2015|             null|2024-03-12 21:02:...|\n",
       "|6331589|                 1458.43|                1100.69|                    0.0|               4051.94|             426.57|         Mar-2014|             null|2024-03-12 21:02:...|\n",
       "|6321730|                 14000.0|                 719.51|                    0.0|             14719.506|           11239.57|         May-2014|             null|2024-03-12 21:02:...|\n",
       "|6321586|                 15000.0|                1929.76|                  25.29|              16955.05|           10354.66|         Oct-2014|             null|2024-03-12 21:02:...|\n",
       "|6331533|                 10000.0|                2248.02|                    0.0|             12248.021|             339.97|         Aug-2016|             null|2024-03-12 21:02:...|\n",
       "|6321666|                 6239.23|                1316.72|                    0.0|               7819.45|             260.55|         Jan-2016|             null|2024-03-12 21:02:...|\n",
       "|6328050|                 10000.0|                2617.64|                    0.0|              12617.64|            4937.87|         Jun-2015|             null|2024-03-12 21:02:...|\n",
       "|6305315|                  6000.0|                 515.17|                    0.0|               6515.17|            4733.17|         Jun-2014|             null|2024-03-12 21:02:...|\n",
       "+-------+------------------------+-----------------------+-----------------------+----------------------+-------------------+-----------------+-----------------+--------------------+\n",
       "only showing top 20 rows"
      ]
     },
     "execution_count": 68,
     "metadata": {},
     "output_type": "execute_result"
    }
   ],
   "source": [
    "loans_payments_fixed_df"
   ]
  },
  {
   "cell_type": "code",
   "execution_count": 69,
   "id": "2533fcbc",
   "metadata": {},
   "outputs": [],
   "source": [
    "loans_payments_fixed_df.createOrReplaceTempView(\"loans\")"
   ]
  },
  {
   "cell_type": "code",
   "execution_count": 70,
   "id": "e497f524",
   "metadata": {},
   "outputs": [
    {
     "data": {
      "text/html": [
       "<table border='1'>\n",
       "<tr><th>count(1)</th></tr>\n",
       "<tr><td>0</td></tr>\n",
       "</table>\n"
      ],
      "text/plain": [
       "+--------+\n",
       "|count(1)|\n",
       "+--------+\n",
       "|       0|\n",
       "+--------+"
      ]
     },
     "execution_count": 70,
     "metadata": {},
     "output_type": "execute_result"
    }
   ],
   "source": [
    "spark.sql(\"select count(*) from loans where total_payment_received=0.0 and total_principal_received > 0.0\")"
   ]
  },
  {
   "cell_type": "code",
   "execution_count": 72,
   "id": "83dde465",
   "metadata": {},
   "outputs": [
    {
     "data": {
      "text/plain": [
       "949"
      ]
     },
     "execution_count": 72,
     "metadata": {},
     "output_type": "execute_result"
    }
   ],
   "source": [
    "loans_payments_fixed_df.filter(\"total_payment_received =0.0\").count()"
   ]
  },
  {
   "cell_type": "code",
   "execution_count": 74,
   "id": "b946c000",
   "metadata": {},
   "outputs": [],
   "source": [
    "loans_payments_fixed_df2 = loans_payments_fixed_df.filter(\"total_payment_received !=0.0\")"
   ]
  },
  {
   "cell_type": "code",
   "execution_count": 76,
   "id": "3e4c789a",
   "metadata": {},
   "outputs": [
    {
     "data": {
      "text/plain": [
       "0"
      ]
     },
     "execution_count": 76,
     "metadata": {},
     "output_type": "execute_result"
    }
   ],
   "source": [
    "loans_payments_fixed_df2.filter(\"total_payment_received =0.0\").count()"
   ]
  },
  {
   "cell_type": "code",
   "execution_count": 78,
   "id": "7bd20e70",
   "metadata": {},
   "outputs": [],
   "source": [
    "loan_payment_ldate_fdf = loans_payments_fixed_df2.withColumn(\"last_payment_date\",when(\n",
    "                                   (col(\"last_payment_date\")==0.0),None\n",
    "                                        ).otherwise(col(\"last_payment_date\"))\n",
    "                                   )"
   ]
  },
  {
   "cell_type": "code",
   "execution_count": 79,
   "id": "b622eafd",
   "metadata": {},
   "outputs": [
    {
     "data": {
      "text/html": [
       "<table border='1'>\n",
       "<tr><th>loan_id</th><th>total_principal_received</th><th>total_interest_received</th><th>total_late_fee_received</th><th>total_payment_received</th><th>last_payment_amount</th><th>last_payment_date</th><th>next_payment_date</th><th>ingest_date</th></tr>\n",
       "<tr><td>6300587</td><td>12000.0</td><td>1864.87</td><td>20.86</td><td>13885.727</td><td>108.83</td><td>Nov-2014</td><td>null</td><td>2024-03-12 21:17:...</td></tr>\n",
       "<tr><td>6311418</td><td>7125.0</td><td>95.92</td><td>0.0</td><td>7220.9243</td><td>7220.52</td><td>Sep-2013</td><td>null</td><td>2024-03-12 21:17:...</td></tr>\n",
       "<tr><td>6321535</td><td>24000.0</td><td>7418.84</td><td>0.0</td><td>31418.84</td><td>13979.48</td><td>Apr-2016</td><td>null</td><td>2024-03-12 21:17:...</td></tr>\n",
       "<tr><td>6300526</td><td>24000.0</td><td>2296.28</td><td>0.0</td><td>26296.275</td><td>730.17</td><td>Aug-2016</td><td>null</td><td>2024-03-12 21:17:...</td></tr>\n",
       "<tr><td>6301469</td><td>18000.0</td><td>9239.79</td><td>0.0</td><td>27239.795</td><td>452.24</td><td>Aug-2018</td><td>null</td><td>2024-03-12 21:17:...</td></tr>\n",
       "<tr><td>6306881</td><td>20000.0</td><td>2469.32</td><td>0.0</td><td>22469.322</td><td>16744.64</td><td>Oct-2014</td><td>null</td><td>2024-03-12 21:17:...</td></tr>\n",
       "<tr><td>6301579</td><td>12000.0</td><td>2089.07</td><td>0.0</td><td>14089.07</td><td>4189.07</td><td>Oct-2015</td><td>null</td><td>2024-03-12 21:17:...</td></tr>\n",
       "<tr><td>6291661</td><td>28000.0</td><td>12441.42</td><td>0.0</td><td>40441.42</td><td>10660.91</td><td>Apr-2017</td><td>null</td><td>2024-03-12 21:17:...</td></tr>\n",
       "<tr><td>6311612</td><td>3629.9</td><td>847.39</td><td>0.0</td><td>4478.25</td><td>179.13</td><td>Sep-2015</td><td>null</td><td>2024-03-12 21:17:...</td></tr>\n",
       "<tr><td>6311704</td><td>23600.0</td><td>2077.3</td><td>0.0</td><td>25677.297</td><td>21445.23</td><td>Apr-2014</td><td>null</td><td>2024-03-12 21:17:...</td></tr>\n",
       "<tr><td>6301559</td><td>13375.0</td><td>3926.19</td><td>0.0</td><td>17301.188</td><td>480.18</td><td>Aug-2016</td><td>null</td><td>2024-03-12 21:17:...</td></tr>\n",
       "<tr><td>6301412</td><td>17500.0</td><td>2062.85</td><td>0.0</td><td>19562.85</td><td>3748.28</td><td>Jan-2016</td><td>null</td><td>2024-03-12 21:17:...</td></tr>\n",
       "<tr><td>6331614</td><td>14000.0</td><td>2442.47</td><td>0.0</td><td>16442.47</td><td>4430.47</td><td>Nov-2015</td><td>null</td><td>2024-03-12 21:17:...</td></tr>\n",
       "<tr><td>6331589</td><td>1458.43</td><td>1100.69</td><td>0.0</td><td>4051.94</td><td>426.57</td><td>Mar-2014</td><td>null</td><td>2024-03-12 21:17:...</td></tr>\n",
       "<tr><td>6321730</td><td>14000.0</td><td>719.51</td><td>0.0</td><td>14719.506</td><td>11239.57</td><td>May-2014</td><td>null</td><td>2024-03-12 21:17:...</td></tr>\n",
       "<tr><td>6321586</td><td>15000.0</td><td>1929.76</td><td>25.29</td><td>16955.05</td><td>10354.66</td><td>Oct-2014</td><td>null</td><td>2024-03-12 21:17:...</td></tr>\n",
       "<tr><td>6331533</td><td>10000.0</td><td>2248.02</td><td>0.0</td><td>12248.021</td><td>339.97</td><td>Aug-2016</td><td>null</td><td>2024-03-12 21:17:...</td></tr>\n",
       "<tr><td>6321666</td><td>6239.23</td><td>1316.72</td><td>0.0</td><td>7819.45</td><td>260.55</td><td>Jan-2016</td><td>null</td><td>2024-03-12 21:17:...</td></tr>\n",
       "<tr><td>6328050</td><td>10000.0</td><td>2617.64</td><td>0.0</td><td>12617.64</td><td>4937.87</td><td>Jun-2015</td><td>null</td><td>2024-03-12 21:17:...</td></tr>\n",
       "<tr><td>6305315</td><td>6000.0</td><td>515.17</td><td>0.0</td><td>6515.17</td><td>4733.17</td><td>Jun-2014</td><td>null</td><td>2024-03-12 21:17:...</td></tr>\n",
       "</table>\n",
       "only showing top 20 rows\n"
      ],
      "text/plain": [
       "+-------+------------------------+-----------------------+-----------------------+----------------------+-------------------+-----------------+-----------------+--------------------+\n",
       "|loan_id|total_principal_received|total_interest_received|total_late_fee_received|total_payment_received|last_payment_amount|last_payment_date|next_payment_date|         ingest_date|\n",
       "+-------+------------------------+-----------------------+-----------------------+----------------------+-------------------+-----------------+-----------------+--------------------+\n",
       "|6300587|                 12000.0|                1864.87|                  20.86|             13885.727|             108.83|         Nov-2014|             null|2024-03-12 21:17:...|\n",
       "|6311418|                  7125.0|                  95.92|                    0.0|             7220.9243|            7220.52|         Sep-2013|             null|2024-03-12 21:17:...|\n",
       "|6321535|                 24000.0|                7418.84|                    0.0|              31418.84|           13979.48|         Apr-2016|             null|2024-03-12 21:17:...|\n",
       "|6300526|                 24000.0|                2296.28|                    0.0|             26296.275|             730.17|         Aug-2016|             null|2024-03-12 21:17:...|\n",
       "|6301469|                 18000.0|                9239.79|                    0.0|             27239.795|             452.24|         Aug-2018|             null|2024-03-12 21:17:...|\n",
       "|6306881|                 20000.0|                2469.32|                    0.0|             22469.322|           16744.64|         Oct-2014|             null|2024-03-12 21:17:...|\n",
       "|6301579|                 12000.0|                2089.07|                    0.0|              14089.07|            4189.07|         Oct-2015|             null|2024-03-12 21:17:...|\n",
       "|6291661|                 28000.0|               12441.42|                    0.0|              40441.42|           10660.91|         Apr-2017|             null|2024-03-12 21:17:...|\n",
       "|6311612|                  3629.9|                 847.39|                    0.0|               4478.25|             179.13|         Sep-2015|             null|2024-03-12 21:17:...|\n",
       "|6311704|                 23600.0|                 2077.3|                    0.0|             25677.297|           21445.23|         Apr-2014|             null|2024-03-12 21:17:...|\n",
       "|6301559|                 13375.0|                3926.19|                    0.0|             17301.188|             480.18|         Aug-2016|             null|2024-03-12 21:17:...|\n",
       "|6301412|                 17500.0|                2062.85|                    0.0|              19562.85|            3748.28|         Jan-2016|             null|2024-03-12 21:17:...|\n",
       "|6331614|                 14000.0|                2442.47|                    0.0|              16442.47|            4430.47|         Nov-2015|             null|2024-03-12 21:17:...|\n",
       "|6331589|                 1458.43|                1100.69|                    0.0|               4051.94|             426.57|         Mar-2014|             null|2024-03-12 21:17:...|\n",
       "|6321730|                 14000.0|                 719.51|                    0.0|             14719.506|           11239.57|         May-2014|             null|2024-03-12 21:17:...|\n",
       "|6321586|                 15000.0|                1929.76|                  25.29|              16955.05|           10354.66|         Oct-2014|             null|2024-03-12 21:17:...|\n",
       "|6331533|                 10000.0|                2248.02|                    0.0|             12248.021|             339.97|         Aug-2016|             null|2024-03-12 21:17:...|\n",
       "|6321666|                 6239.23|                1316.72|                    0.0|               7819.45|             260.55|         Jan-2016|             null|2024-03-12 21:17:...|\n",
       "|6328050|                 10000.0|                2617.64|                    0.0|              12617.64|            4937.87|         Jun-2015|             null|2024-03-12 21:17:...|\n",
       "|6305315|                  6000.0|                 515.17|                    0.0|               6515.17|            4733.17|         Jun-2014|             null|2024-03-12 21:17:...|\n",
       "+-------+------------------------+-----------------------+-----------------------+----------------------+-------------------+-----------------+-----------------+--------------------+\n",
       "only showing top 20 rows"
      ]
     },
     "execution_count": 79,
     "metadata": {},
     "output_type": "execute_result"
    }
   ],
   "source": [
    "loan_payment_ldate_fdf"
   ]
  },
  {
   "cell_type": "code",
   "execution_count": 80,
   "id": "1fcbed5f",
   "metadata": {},
   "outputs": [],
   "source": [
    "loan_payment_nextandlastdate_fixed_df = loan_payment_ldate_fdf.withColumn(\"next_payment_date\",when(\n",
    "                                   (col(\"next_payment_date\")==0.0),None\n",
    "                                        ).otherwise(col(\"next_payment_date\"))\n",
    "                                   )"
   ]
  },
  {
   "cell_type": "code",
   "execution_count": 81,
   "id": "b929e2aa",
   "metadata": {},
   "outputs": [
    {
     "data": {
      "text/html": [
       "<table border='1'>\n",
       "<tr><th>loan_id</th><th>total_principal_received</th><th>total_interest_received</th><th>total_late_fee_received</th><th>total_payment_received</th><th>last_payment_amount</th><th>last_payment_date</th><th>next_payment_date</th><th>ingest_date</th></tr>\n",
       "<tr><td>6300587</td><td>12000.0</td><td>1864.87</td><td>20.86</td><td>13885.727</td><td>108.83</td><td>Nov-2014</td><td>null</td><td>2024-03-12 21:20:...</td></tr>\n",
       "<tr><td>6311418</td><td>7125.0</td><td>95.92</td><td>0.0</td><td>7220.9243</td><td>7220.52</td><td>Sep-2013</td><td>null</td><td>2024-03-12 21:20:...</td></tr>\n",
       "<tr><td>6321535</td><td>24000.0</td><td>7418.84</td><td>0.0</td><td>31418.84</td><td>13979.48</td><td>Apr-2016</td><td>null</td><td>2024-03-12 21:20:...</td></tr>\n",
       "<tr><td>6300526</td><td>24000.0</td><td>2296.28</td><td>0.0</td><td>26296.275</td><td>730.17</td><td>Aug-2016</td><td>null</td><td>2024-03-12 21:20:...</td></tr>\n",
       "<tr><td>6301469</td><td>18000.0</td><td>9239.79</td><td>0.0</td><td>27239.795</td><td>452.24</td><td>Aug-2018</td><td>null</td><td>2024-03-12 21:20:...</td></tr>\n",
       "<tr><td>6306881</td><td>20000.0</td><td>2469.32</td><td>0.0</td><td>22469.322</td><td>16744.64</td><td>Oct-2014</td><td>null</td><td>2024-03-12 21:20:...</td></tr>\n",
       "<tr><td>6301579</td><td>12000.0</td><td>2089.07</td><td>0.0</td><td>14089.07</td><td>4189.07</td><td>Oct-2015</td><td>null</td><td>2024-03-12 21:20:...</td></tr>\n",
       "<tr><td>6291661</td><td>28000.0</td><td>12441.42</td><td>0.0</td><td>40441.42</td><td>10660.91</td><td>Apr-2017</td><td>null</td><td>2024-03-12 21:20:...</td></tr>\n",
       "<tr><td>6311612</td><td>3629.9</td><td>847.39</td><td>0.0</td><td>4478.25</td><td>179.13</td><td>Sep-2015</td><td>null</td><td>2024-03-12 21:20:...</td></tr>\n",
       "<tr><td>6311704</td><td>23600.0</td><td>2077.3</td><td>0.0</td><td>25677.297</td><td>21445.23</td><td>Apr-2014</td><td>null</td><td>2024-03-12 21:20:...</td></tr>\n",
       "<tr><td>6301559</td><td>13375.0</td><td>3926.19</td><td>0.0</td><td>17301.188</td><td>480.18</td><td>Aug-2016</td><td>null</td><td>2024-03-12 21:20:...</td></tr>\n",
       "<tr><td>6301412</td><td>17500.0</td><td>2062.85</td><td>0.0</td><td>19562.85</td><td>3748.28</td><td>Jan-2016</td><td>null</td><td>2024-03-12 21:20:...</td></tr>\n",
       "<tr><td>6331614</td><td>14000.0</td><td>2442.47</td><td>0.0</td><td>16442.47</td><td>4430.47</td><td>Nov-2015</td><td>null</td><td>2024-03-12 21:20:...</td></tr>\n",
       "<tr><td>6331589</td><td>1458.43</td><td>1100.69</td><td>0.0</td><td>4051.94</td><td>426.57</td><td>Mar-2014</td><td>null</td><td>2024-03-12 21:20:...</td></tr>\n",
       "<tr><td>6321730</td><td>14000.0</td><td>719.51</td><td>0.0</td><td>14719.506</td><td>11239.57</td><td>May-2014</td><td>null</td><td>2024-03-12 21:20:...</td></tr>\n",
       "<tr><td>6321586</td><td>15000.0</td><td>1929.76</td><td>25.29</td><td>16955.05</td><td>10354.66</td><td>Oct-2014</td><td>null</td><td>2024-03-12 21:20:...</td></tr>\n",
       "<tr><td>6331533</td><td>10000.0</td><td>2248.02</td><td>0.0</td><td>12248.021</td><td>339.97</td><td>Aug-2016</td><td>null</td><td>2024-03-12 21:20:...</td></tr>\n",
       "<tr><td>6321666</td><td>6239.23</td><td>1316.72</td><td>0.0</td><td>7819.45</td><td>260.55</td><td>Jan-2016</td><td>null</td><td>2024-03-12 21:20:...</td></tr>\n",
       "<tr><td>6328050</td><td>10000.0</td><td>2617.64</td><td>0.0</td><td>12617.64</td><td>4937.87</td><td>Jun-2015</td><td>null</td><td>2024-03-12 21:20:...</td></tr>\n",
       "<tr><td>6305315</td><td>6000.0</td><td>515.17</td><td>0.0</td><td>6515.17</td><td>4733.17</td><td>Jun-2014</td><td>null</td><td>2024-03-12 21:20:...</td></tr>\n",
       "</table>\n",
       "only showing top 20 rows\n"
      ],
      "text/plain": [
       "+-------+------------------------+-----------------------+-----------------------+----------------------+-------------------+-----------------+-----------------+--------------------+\n",
       "|loan_id|total_principal_received|total_interest_received|total_late_fee_received|total_payment_received|last_payment_amount|last_payment_date|next_payment_date|         ingest_date|\n",
       "+-------+------------------------+-----------------------+-----------------------+----------------------+-------------------+-----------------+-----------------+--------------------+\n",
       "|6300587|                 12000.0|                1864.87|                  20.86|             13885.727|             108.83|         Nov-2014|             null|2024-03-12 21:20:...|\n",
       "|6311418|                  7125.0|                  95.92|                    0.0|             7220.9243|            7220.52|         Sep-2013|             null|2024-03-12 21:20:...|\n",
       "|6321535|                 24000.0|                7418.84|                    0.0|              31418.84|           13979.48|         Apr-2016|             null|2024-03-12 21:20:...|\n",
       "|6300526|                 24000.0|                2296.28|                    0.0|             26296.275|             730.17|         Aug-2016|             null|2024-03-12 21:20:...|\n",
       "|6301469|                 18000.0|                9239.79|                    0.0|             27239.795|             452.24|         Aug-2018|             null|2024-03-12 21:20:...|\n",
       "|6306881|                 20000.0|                2469.32|                    0.0|             22469.322|           16744.64|         Oct-2014|             null|2024-03-12 21:20:...|\n",
       "|6301579|                 12000.0|                2089.07|                    0.0|              14089.07|            4189.07|         Oct-2015|             null|2024-03-12 21:20:...|\n",
       "|6291661|                 28000.0|               12441.42|                    0.0|              40441.42|           10660.91|         Apr-2017|             null|2024-03-12 21:20:...|\n",
       "|6311612|                  3629.9|                 847.39|                    0.0|               4478.25|             179.13|         Sep-2015|             null|2024-03-12 21:20:...|\n",
       "|6311704|                 23600.0|                 2077.3|                    0.0|             25677.297|           21445.23|         Apr-2014|             null|2024-03-12 21:20:...|\n",
       "|6301559|                 13375.0|                3926.19|                    0.0|             17301.188|             480.18|         Aug-2016|             null|2024-03-12 21:20:...|\n",
       "|6301412|                 17500.0|                2062.85|                    0.0|              19562.85|            3748.28|         Jan-2016|             null|2024-03-12 21:20:...|\n",
       "|6331614|                 14000.0|                2442.47|                    0.0|              16442.47|            4430.47|         Nov-2015|             null|2024-03-12 21:20:...|\n",
       "|6331589|                 1458.43|                1100.69|                    0.0|               4051.94|             426.57|         Mar-2014|             null|2024-03-12 21:20:...|\n",
       "|6321730|                 14000.0|                 719.51|                    0.0|             14719.506|           11239.57|         May-2014|             null|2024-03-12 21:20:...|\n",
       "|6321586|                 15000.0|                1929.76|                  25.29|              16955.05|           10354.66|         Oct-2014|             null|2024-03-12 21:20:...|\n",
       "|6331533|                 10000.0|                2248.02|                    0.0|             12248.021|             339.97|         Aug-2016|             null|2024-03-12 21:20:...|\n",
       "|6321666|                 6239.23|                1316.72|                    0.0|               7819.45|             260.55|         Jan-2016|             null|2024-03-12 21:20:...|\n",
       "|6328050|                 10000.0|                2617.64|                    0.0|              12617.64|            4937.87|         Jun-2015|             null|2024-03-12 21:20:...|\n",
       "|6305315|                  6000.0|                 515.17|                    0.0|               6515.17|            4733.17|         Jun-2014|             null|2024-03-12 21:20:...|\n",
       "+-------+------------------------+-----------------------+-----------------------+----------------------+-------------------+-----------------+-----------------+--------------------+\n",
       "only showing top 20 rows"
      ]
     },
     "execution_count": 81,
     "metadata": {},
     "output_type": "execute_result"
    }
   ],
   "source": [
    "loan_payment_nextandlastdate_fixed_df"
   ]
  },
  {
   "cell_type": "code",
   "execution_count": 83,
   "id": "b67f22e7",
   "metadata": {},
   "outputs": [],
   "source": [
    "loan_payment_nextandlastdate_fixed_df.write \\\n",
    ".format(\"csv\") \\\n",
    ".option(\"header\",True) \\\n",
    ".mode('overwrite') \\\n",
    ".option(\"path\",\"/user/itv009959/lendingclubproject/cleaned/loans_repayment_csv\") \\\n",
    ".save()"
   ]
  },
  {
   "cell_type": "code",
   "execution_count": 84,
   "id": "78cde77b",
   "metadata": {},
   "outputs": [],
   "source": [
    "loan_payment_nextandlastdate_fixed_df.write \\\n",
    ".format(\"parquet\") \\\n",
    ".mode('overwrite') \\\n",
    ".option(\"path\",\"/user/itv009959/lendingclubproject/cleaned/loans_repayment_parquet\") \\\n",
    ".save()"
   ]
  },
  {
   "cell_type": "code",
   "execution_count": 85,
   "id": "80a7e57a",
   "metadata": {},
   "outputs": [],
   "source": [
    "spark.stop()"
   ]
  },
  {
   "cell_type": "code",
   "execution_count": null,
   "id": "52c5c4fa",
   "metadata": {},
   "outputs": [],
   "source": []
  }
 ],
 "metadata": {
  "kernelspec": {
   "display_name": "Pyspark 3",
   "language": "python",
   "name": "pyspark3"
  },
  "language_info": {
   "codemirror_mode": {
    "name": "ipython",
    "version": 3
   },
   "file_extension": ".py",
   "mimetype": "text/x-python",
   "name": "python",
   "nbconvert_exporter": "python",
   "pygments_lexer": "ipython3",
   "version": "3.6.12"
  }
 },
 "nbformat": 4,
 "nbformat_minor": 5
}
